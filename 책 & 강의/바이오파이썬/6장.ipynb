{
 "cells": [
  {
   "cell_type": "code",
   "execution_count": 1,
   "metadata": {},
   "outputs": [
    {
     "name": "stdout",
     "output_type": "stream",
     "text": [
      "<class 'Bio.SeqIO.FastaIO.FastaIterator'>\n",
      "----------------------------------------------------------------------------------------------------\n",
      "<class 'Bio.SeqRecord.SeqRecord'>\n",
      "ID: AF501235.1\n",
      "Name: AF501235.1\n",
      "Description: AF501235.1 Influenzavirus A (A/duck/Shanghai/1/2000) hemagglutinin gene, complete cds\n",
      "Number of features: 0\n",
      "Seq('ATGGAGAAAATAGTGCTTCTTCTTGCAATAGTCAGTCTTGTTAAAAGTGATCAG...AGA')\n",
      "----------------------------------------------------------------------------------------------------\n"
     ]
    }
   ],
   "source": [
    "from Bio import SeqIO\n",
    "\n",
    "seq = SeqIO.parse('sample_1.fasta', 'fasta')\n",
    "print(type(seq))\n",
    "print('-' * 100)\n",
    "for s in seq:\n",
    "    print(type(s))\n",
    "    print(s)\n",
    "    print('-' * 100)\n"
   ]
  },
  {
   "cell_type": "code",
   "execution_count": 2,
   "metadata": {},
   "outputs": [
    {
     "name": "stdout",
     "output_type": "stream",
     "text": [
      "<class 'Bio.SeqIO.FastaIO.FastaIterator'>\n",
      "----------------------------------------------------------------------------------------------------\n",
      "<class 'Bio.SeqRecord.SeqRecord'>\n",
      "ID: MH464856.1\n",
      "Name: MH464856.1\n",
      "Description: MH464856.1 Hepatitis B virus isolate MA134, complete genome\n",
      "Number of features: 0\n",
      "Seq('TTCCACAACATTCCACCAAGCTCTGCAGGATCCCAGAGTAAGAGGCCTGTATTT...GGG')\n",
      "----------------------------------------------------------------------------------------------------\n",
      "<class 'Bio.SeqRecord.SeqRecord'>\n",
      "ID: CP002925.1\n",
      "Name: CP002925.1\n",
      "Description: CP002925.1 Streptococcus pseudopneumoniae IS7493, complete genome\n",
      "Number of features: 0\n",
      "Seq('TTGAAAGAAAAACAATTTTGGAATCGTATATTAGAATTTGCTCAAGAAAGACTG...ATC')\n",
      "----------------------------------------------------------------------------------------------------\n"
     ]
    }
   ],
   "source": [
    "seq = SeqIO.parse('sample_2.fasta', 'fasta')\n",
    "print(type(seq))\n",
    "print('-' * 100)\n",
    "for s in seq:\n",
    "    print(type(s))\n",
    "    print(s)\n",
    "    print('-' * 100)"
   ]
  },
  {
   "cell_type": "code",
   "execution_count": 3,
   "metadata": {},
   "outputs": [
    {
     "name": "stdout",
     "output_type": "stream",
     "text": [
      "<class 'Bio.SeqRecord.SeqRecord'>\n",
      "ID: AF501235.1\n",
      "Name: AF501235.1\n",
      "Description: AF501235.1 Influenzavirus A (A/duck/Shanghai/1/2000) hemagglutinin gene, complete cds\n",
      "Number of features: 0\n",
      "Seq('ATGGAGAAAATAGTGCTTCTTCTTGCAATAGTCAGTCTTGTTAAAAGTGATCAG...AGA')\n"
     ]
    }
   ],
   "source": [
    "seq = SeqIO.read('sample_1.fasta', 'fasta')\n",
    "print(type(seq))\n",
    "print(seq)"
   ]
  },
  {
   "cell_type": "code",
   "execution_count": 4,
   "metadata": {},
   "outputs": [
    {
     "name": "stdout",
     "output_type": "stream",
     "text": [
      "<class 'Bio.SeqIO.QualityIO.FastqPhredIterator'>\n",
      "\n",
      "<class 'Bio.SeqRecord.SeqRecord'>\n",
      "ID: SRR000982.5E745RJU01DDHJ6length=113\n",
      "Name: SRR000982.5E745RJU01DDHJ6length=113\n",
      "Description: SRR000982.5E745RJU01DDHJ6length=113\n",
      "Number of features: 0\n",
      "Per letter annotation for: phred_quality\n",
      "Seq('AAGGCACCATGCAGAGATGCAAGGCCCCTTTCTAAGCCCTAGACTTCTGGATGA...CAG')\n",
      "\n",
      "<class 'Bio.SeqRecord.SeqRecord'>\n",
      "ID: SRR000982.35E745RJU01DLQBClength=53\n",
      "Name: SRR000982.35E745RJU01DLQBClength=53\n",
      "Description: SRR000982.35E745RJU01DLQBClength=53\n",
      "Number of features: 0\n",
      "Per letter annotation for: phred_quality\n",
      "Seq('ATCTCTACCCAAAGATTAATGGGGATTGGTGTGATATACGGCTGAATTGTACC')\n",
      "\n"
     ]
    }
   ],
   "source": [
    "seq = SeqIO.parse('sample_1.fastq', 'fastq')\n",
    "print(type(seq))\n",
    "print('')\n",
    "for s in seq:\n",
    "    print(type(s))\n",
    "    print(s)\n",
    "    print('')"
   ]
  },
  {
   "cell_type": "code",
   "execution_count": 5,
   "metadata": {},
   "outputs": [],
   "source": [
    "# 6.2.2\n",
    "import gzip\n",
    "from Bio import SeqIO"
   ]
  },
  {
   "cell_type": "code",
   "execution_count": 6,
   "metadata": {},
   "outputs": [
    {
     "name": "stdout",
     "output_type": "stream",
     "text": [
      "<class '_io.TextIOWrapper'>\n",
      "AAGGCACCATGCAGAGATGCAAGGCCCCTTTCTAAGCCCTAGACTTCTGGATGACACTTCTAGAAACACCCTGGGCCAGAAGTGAACCTGCTGCCTTGAAGGGAATAACTCAG\n",
      "ATCTCTACCCAAAGATTAATGGGGATTGGTGTGATATACGGCTGAATTGTACC\n"
     ]
    }
   ],
   "source": [
    "handle = gzip.open('sample_1.fastq.gz', 'rt')\n",
    "print(type(handle))\n",
    "seq = SeqIO.parse(handle, 'fastq')\n",
    "for s in seq:\n",
    "    print(s.seq)"
   ]
  },
  {
   "cell_type": "code",
   "execution_count": 7,
   "metadata": {},
   "outputs": [
    {
     "name": "stdout",
     "output_type": "stream",
     "text": [
      "AAGGCACCATGCAGAGATGCAAGGCCCCTTTCTAAGCCCTAGACTTCTGGATGACACTTCTAGAAACACCCTGGGCCAGAAGTGAACCTGCTGCCTTGAAGGGAATAACTCAG\n",
      "ATCTCTACCCAAAGATTAATGGGGATTGGTGTGATATACGGCTGAATTGTACC\n"
     ]
    }
   ],
   "source": [
    "with gzip.open('sample_1.fastq.gz', 'rt') as handle:\n",
    "    seq = SeqIO.parse(handle, 'fastq')\n",
    "    for s in seq:\n",
    "        print(s.seq)"
   ]
  },
  {
   "cell_type": "code",
   "execution_count": 8,
   "metadata": {},
   "outputs": [
    {
     "name": "stdout",
     "output_type": "stream",
     "text": [
      "<class 'Bio.SeqRecord.SeqRecord'>\n",
      "ID: KT225476.2\n",
      "Name: KT225476\n",
      "Description: Middle East respiratory syndrome coronavirus isolate MERS-CoV/THA/CU/17_06_2015, complete genome\n",
      "Number of features: 12\n",
      "/molecule_type=RNA\n",
      "/topology=linear\n",
      "/data_file_division=VRL\n",
      "/date=22-AUG-2017\n",
      "/accessions=['KT225476']\n",
      "/sequence_version=2\n",
      "/keywords=['']\n",
      "/source=Middle East respiratory syndrome-related coronavirus (MERS-CoV)\n",
      "/organism=Middle East respiratory syndrome-related coronavirus\n",
      "/taxonomy=['Viruses', 'ssRNA viruses', 'ssRNA positive-strand viruses, no DNA stage', 'Nidovirales', 'Coronaviridae', 'Coronavirinae', 'Betacoronavirus']\n",
      "/references=[Reference(title='Imported case of Middle East respiratory syndrome coronavirus (MERS-CoV) infection from Oman to Thailand, June 2015', ...), Reference(title='Direct Submission', ...), Reference(title='Direct Submission', ...)]\n",
      "/comment=On Sep 10, 2015 this sequence version replaced KT225476.1.\n",
      "/structured_comment=OrderedDict([('Assembly-Data', OrderedDict([('Sequencing Technology', 'Sanger dideoxy sequencing')]))])\n",
      "Seq('AGTGAATAGCTTGGCTATCTCACTTCCCCTCGTTCTCTTGCAGAACTTTGATTT...CTC')\n"
     ]
    }
   ],
   "source": [
    "# 6.3\n",
    "from Bio import SeqIO\n",
    "\n",
    "gbk = SeqIO.read('KT225476.2.gbk', 'genbank')\n",
    "print(type(gbk))\n",
    "print(gbk)"
   ]
  },
  {
   "cell_type": "code",
   "execution_count": 14,
   "metadata": {},
   "outputs": [
    {
     "name": "stdout",
     "output_type": "stream",
     "text": [
      "LOCUS       AY463215                1059 bp    DNA     linear   PRI 14-DEC-2004\n",
      "DEFINITION  Homo sapiens CCR5 chemokine receptor (CCR5) gene, complete cds.\n",
      "ACCESSION   AY463215\n",
      "VERSION     AY463215.1\n",
      "KEYWORDS    .\n",
      "SOURCE      Homo sapiens (human)\n",
      "ORGANISM  Homo sapiens\n",
      "Eukaryota; Metazoa; Chordata; Craniata; Vertebrata; Euteleostomi;\n",
      "Mammalia; Eutheria; Euarchontoglires; Primates; Haplorrhini;\n",
      "Catarrhini; Hominidae; Homo.\n",
      "REFERENCE   1  (bases 1 to 1059)\n",
      "AUTHORS   Capoulade-Metay,C., Ma,L., Truong,L.X., Dudoit,Y., Versmisse,P.,\n",
      "Nguyen,N.V., Nguyen,M., Scott-Algara,D., Barre-Sinoussi,F.,\n",
      "Debre,P., Bismuth,G., Pancino,G. and Theodorou,I.\n",
      "TITLE     New CCR5 variants associated with reduced HIV coreceptor function\n",
      "in southeast Asia\n",
      "JOURNAL   AIDS 18 (17), 2243-2252 (2004)\n",
      "PUBMED   15577536\n",
      "REFERENCE   2  (bases 1 to 1059)\n",
      "AUTHORS   Capoulade-Metay,C., Ma,L., Truong,L.X., Dudoit,Y., Versmisse,P.,\n",
      "Nguyen,N.V., Nguyen,M., Scott-Algara,D., Barre-Sinoussi,F.,\n",
      "Debre,P., Pancino,G. and Theodorou,I.\n",
      "TITLE     Direct Submission\n",
      "JOURNAL   Submitted (07-NOV-2003) INSERM U543, 83 Boulevard de l'Hopital,\n",
      "Paris 75013, France\n",
      "FEATURES             Location/Qualifiers\n",
      "source          1..1059\n",
      "/organism=\"Homo sapiens\"\n",
      "/mol_type=\"genomic DNA\"\n",
      "/db_xref=\"taxon:9606\"\n",
      "/country=\"Viet Nam\"\n",
      "gene            <1..>1059\n",
      "/gene=\"CCR5\"\n",
      "mRNA            <1..>1059\n",
      "/gene=\"CCR5\"\n",
      "/product=\"CCR5 chemokine receptor\"\n",
      "CDS             1..1059\n",
      "/gene=\"CCR5\"\n",
      "/note=\"contains I254T variation\"\n",
      "/codon_start=1\n",
      "/product=\"CCR5 chemokine receptor\"\n",
      "/protein_id=\"AAS19314.1\"\n",
      "/translation=\"MDYQVSSPIYDINYYTSEPCQKINVKQIAARLLPPLYSLVFIFG\n",
      "FVGNMLVILILINCKRLKSMTDIYLLNLAISDLFFLLTVPFWAHYAAAQWDFGNTMCQ\n",
      "LLTGLYFIGFFSGIFFIILLTIDRYLAVVHAVFALKARTVTFGVVTSVITWVVAVFAS\n",
      "LPGIIFTRSQKEGLHYTCSSHFPYSQYQFWKNFQTLKIVILGLVLPLLVMVICYSGIL\n",
      "KTLLRCRNEKKRHRAVRLIFTIMIVYFLFWAPYNTVLLLNTFQEFFGLNNCSSSNRLD\n",
      "QAMQVTETLGMTHCCINPIIYAFVGEKFRNYLLVFFQKHIAKRFCKCCSIFQQEAPER\n",
      "ASSVYTRSTGEQEISVGL\"\n",
      "variation       758\n",
      "/gene=\"CCR5\"\n",
      "/replace=\"t\"\n",
      "ORIGIN\n",
      "1 atggattatc aagtgtcaag tccaatctat gacatcaatt attatacatc ggagccctgc\n",
      "61 caaaaaatca atgtgaagca aatcgcagcc cgcctcctgc ctccgctcta ctcactggtg\n",
      "121 ttcatctttg gttttgtggg caacatgctg gtcatcctca tcctgataaa ctgcaaaagg\n",
      "181 ctgaagagca tgactgacat ctacctgctc aacctggcca tctctgacct gtttttcctt\n",
      "241 cttactgtcc ccttctgggc tcactatgct gccgcccagt gggactttgg aaatacaatg\n",
      "301 tgtcaactct tgacagggct ctattttata ggcttcttct ctggaatctt cttcatcatc\n",
      "361 ctcctgacaa tcgataggta cctggctgtc gtccatgctg tgtttgcttt aaaagccagg\n",
      "421 acggtcacct ttggggtggt gacaagtgtg atcacttggg tggtggctgt gtttgcgtct\n",
      "481 ctcccaggaa tcatctttac cagatctcaa aaagaaggtc ttcattacac ctgcagctct\n",
      "541 cattttccat acagtcagta tcaattctgg aagaatttcc agacattaaa gatagtcatc\n",
      "601 ttggggctgg tcctgccgct gcttgtcatg gtcatctgct actcgggaat cctaaaaact\n",
      "661 ctgcttcggt gtcgaaatga gaagaagagg cacagggctg tgaggcttat cttcaccatc\n",
      "721 atgattgttt attttctctt ctgggctccc tacaacactg tccttctcct gaacaccttc\n",
      "781 caggaattct ttggcctgaa taattgcagt agctctaaca ggttggacca agctatgcag\n",
      "841 gtgacagaga ctcttgggat gacgcactgc tgcatcaacc ccatcatcta tgcctttgtc\n",
      "901 ggggagaagt tcagaaacta cctcttagtc ttcttccaaa agcacattgc caaacgcttc\n",
      "961 tgcaaatgct gttctatttt ccagcaagag gctcccgagc gagcaagctc agtttacacc\n",
      "1021 cgatccactg gggagcagga aatatctgtg ggcttgtga\n",
      "//\n",
      "\n"
     ]
    }
   ],
   "source": [
    "# 6.4.2\n",
    "\n",
    "from Bio import Entrez\n",
    "\n",
    "Entrez.email = 'rlarl0240@naver.com'\n",
    "handle = Entrez.efetch(db = 'nucleotide', rettype = 'gb', id = 'AY463215', retmode= 'text')\n",
    "\n",
    "for s in handle:\n",
    "    print(s.strip())\n",
    "\n",
    "handle.close()"
   ]
  },
  {
   "cell_type": "code",
   "execution_count": 10,
   "metadata": {},
   "outputs": [
    {
     "name": "stdout",
     "output_type": "stream",
     "text": [
      "ID: AY463215.1\n",
      "Name: AY463215.1\n",
      "Description: AY463215.1 Homo sapiens CCR5 chemokine receptor (CCR5) gene, complete cds\n",
      "Number of features: 0\n",
      "Seq('ATGGATTATCAAGTGTCAAGTCCAATCTATGACATCAATTATTATACATCGGAG...TGA')\n",
      "1059\n"
     ]
    }
   ],
   "source": [
    "from Bio import Entrez\n",
    "from Bio import SeqIO\n",
    "\n",
    "Entrez.email = 'rlarl0240@naver.com'\n",
    "\n",
    "with Entrez.efetch(db= 'nucleotide', rettype= 'fasta', retmode='text', id='42540826') as hd:\n",
    "    seq= SeqIO.read(hd, 'fasta')\n",
    "    \n",
    "print(seq)\n",
    "print(len(seq))"
   ]
  },
  {
   "cell_type": "code",
   "execution_count": 11,
   "metadata": {},
   "outputs": [
    {
     "name": "stdout",
     "output_type": "stream",
     "text": [
      "ID: U66285.1\n",
      "Name: U66285.1\n",
      "Description: U66285.1 Human CC chemokine receptor CCR5 gene, mutant allele, complete cds\n",
      "Number of features: 0\n",
      "Seq('ATGGATTATCAAGTGTCAAGTCCAATCTATGACATCAATTATTATACATCGGAG...TGA')\n",
      "1027\n"
     ]
    }
   ],
   "source": [
    "with Entrez.efetch(db= 'nucleotide', rettype= 'fasta', retmode='text', id='1575550') as hd:\n",
    "    seq= SeqIO.read(hd, 'fasta')\n",
    "    \n",
    "print(seq)\n",
    "print(len(seq))"
   ]
  },
  {
   "cell_type": "code",
   "execution_count": 12,
   "metadata": {},
   "outputs": [
    {
     "name": "stdout",
     "output_type": "stream",
     "text": [
      "Influenza A virus (A/Perth/260/2009(H1N1)) segment 4 hemagglutinin (HA) gene, complete cds\n",
      "\n",
      "['Viruses', 'ssRNA viruses', 'ssRNA negative-strand viruses', 'Orthomyxoviridae', 'Influenzavirus A']\n",
      "\n",
      "1701\n"
     ]
    }
   ],
   "source": [
    "from Bio import SeqIO\n",
    "\n",
    "seq= SeqIO.read('HM624086.1.gbk', 'genbank')\n",
    "print(seq.description)\n",
    "print('')\n",
    "print(seq.annotations['taxonomy'])\n",
    "print('')\n",
    "print(len(seq.seq))"
   ]
  },
  {
   "cell_type": "code",
   "execution_count": 13,
   "metadata": {},
   "outputs": [
    {
     "name": "stdout",
     "output_type": "stream",
     "text": [
      "ID: NM_001100430.2\n",
      "Name: NM_001100430\n",
      "Description: Homo sapiens Rap1 GTPase-GDP dissociation stimulator 1 (RAP1GDS1), transcript variant 6, mRNA\n",
      "Number of features: 21\n",
      "/molecule_type=mRNA\n",
      "/topology=linear\n",
      "/data_file_division=PRI\n",
      "/date=30-JAN-2022\n",
      "/accessions=['NM_001100430']\n",
      "/sequence_version=2\n",
      "/keywords=['RefSeq']\n",
      "/source=Homo sapiens (human)\n",
      "/organism=Homo sapiens\n",
      "/taxonomy=['Eukaryota', 'Metazoa', 'Chordata', 'Craniata', 'Vertebrata', 'Euteleostomi', 'Mammalia', 'Eutheria', 'Euarchontoglires', 'Primates', 'Haplorrhini', 'Catarrhini', 'Hominidae', 'Homo']\n",
      "/references=[Reference(title='Nsp2 has the potential to be a drug target revealed by global identification of SARS-CoV-2 Nsp2-interacting proteins', ...), Reference(title='Silencing of SmgGDS, a Novel mTORC1 Inducer That Binds to RHEBs, Inhibits Malignant Mesothelioma Cell Proliferation', ...), Reference(title='Virus-Host Interactome and Proteomic Survey Reveal Potential Virulence Factors Influencing SARS-CoV-2 Pathogenesis', ...), Reference(title='Comparative host-coronavirus protein interaction networks reveal pan-viral disease mechanisms', ...), Reference(title='Mutated RAP1GDS1 causes a new syndrome of dysmorphic feature, intellectual disability & speech delay', ...), Reference(title='The small GTPase Rap1 is activated by turbulence and is involved in integrin [alpha]IIb[beta]3-mediated cell adhesion in human megakaryocytes', ...), Reference(title='SmgGDS displays differential binding and exchange activity towards different Ras isoforms', ...), Reference(title='SMAP, an Smg GDS-associating protein having arm repeats and phosphorylated by Src tyrosine kinase', ...), Reference(title='Chromosomal assignment of the human smg GDP dissociation stimulator gene to human chromosome 4q21-q25', ...), Reference(title='Molecular cloning of the human cDNA for a stimulatory GDP/GTP exchange protein for c-Ki-ras p21 and smg p21', ...)]\n",
      "/comment=VALIDATED REFSEQ: This record has undergone validation or\n",
      "preliminary review. The reference sequence was derived from\n",
      "DC367998.1, BC099845.1, AY376900.1, BC098334.1, AC058823.4 and\n",
      "AI800264.1.\n",
      "On Jun 2, 2019 this sequence version replaced NM_001100430.1.\n",
      "Summary: The smg GDP dissociation stimulator (smgGDS) protein is a\n",
      "stimulatory GDP/GTP exchange protein with GTPase activity (Riess et\n",
      "al., 1993 [PubMed 8262526]).[supplied by OMIM, Feb 2010].\n",
      "Transcript Variant: This variant (6) lacks two alternate in-frame\n",
      "exons in the mid-coding region, compared to variant 1, resulting in\n",
      "a shorter protein (isoform 6), compared to isoform 1.\n",
      "Sequence Note: This RefSeq record was created from transcript and\n",
      "genomic sequence data to make the sequence consistent with the\n",
      "reference genome assembly. The genomic coordinates used for the\n",
      "transcript record were based on transcript alignments.\n",
      "Publication Note:  This RefSeq record includes a subset of the\n",
      "publications that are available for this gene. Please see the Gene\n",
      "record to access additional publications.\n",
      "COMPLETENESS: complete on the 3' end.\n",
      "/structured_comment=OrderedDict([('Evidence-Data', OrderedDict([('Transcript exon combination', 'SRR1803616.89375.1, SRR1803612.275833.1 [ECO:0000332]'), ('RNAseq introns', 'single sample supports all introns SAMEA1968189, SAMEA1968968 [ECO:0000348]')]))])\n",
      "Seq('GCTCGTCCCCGCCGCGGCCGCGCCGCCTGCAGCAGCACCAGCTGCTCCTCCCCG...CTA')\n",
      "3474\n"
     ]
    }
   ],
   "source": [
    "from Bio import Entrez\n",
    "from Bio import SeqIO\n",
    "\n",
    "with Entrez.efetch(\n",
    "    db='nucleotide', rettype='gb', retmode='text', id='NM_001100430.2'\n",
    "    ) as handle:\n",
    "    seq= SeqIO.read(handle, 'genbank')\n",
    "    print(seq)\n",
    "    print(len(seq.seq))"
   ]
  }
 ],
 "metadata": {
  "interpreter": {
   "hash": "fff8f1baadadc5fbf51030dcb2db9f6c81b6acfa6e5b0bb822f1d9b4c699540c"
  },
  "kernelspec": {
   "display_name": "Python 3.8.8 64-bit ('base': conda)",
   "language": "python",
   "name": "python3"
  },
  "language_info": {
   "codemirror_mode": {
    "name": "ipython",
    "version": 3
   },
   "file_extension": ".py",
   "mimetype": "text/x-python",
   "name": "python",
   "nbconvert_exporter": "python",
   "pygments_lexer": "ipython3",
   "version": "3.8.8"
  },
  "orig_nbformat": 4
 },
 "nbformat": 4,
 "nbformat_minor": 2
}
