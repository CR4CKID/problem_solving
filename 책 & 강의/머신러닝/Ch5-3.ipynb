{
 "cells": [
  {
   "cell_type": "code",
   "execution_count": 1,
   "source": [
    "import numpy as np\r\n",
    "import pandas as pd\r\n",
    "from sklearn.model_selection import train_test_split\r\n",
    "wine = pd.read_csv('https://bit.ly/wine_csv_data')\r\n",
    "data = wine[['alcohol', 'sugar', 'pH']].to_numpy()\r\n",
    "target = wine['class'].to_numpy()\r\n",
    "train_input, test_input, train_target, test_target = train_test_split(data, target, random_state= 42, test_size= 0.2)\r\n",
    "\r\n",
    "# 랜덤 포레스트\r\n",
    "from sklearn.model_selection import cross_validate\r\n",
    "from sklearn.ensemble import RandomForestClassifier\r\n",
    "rf = RandomForestClassifier(n_jobs= -1, random_state= 42)\r\n",
    "scores = cross_validate(rf, train_input, train_target, return_train_score= True, n_jobs= -1)\r\n",
    "print(np.mean(scores['train_score']), np.mean(scores['test_score']))"
   ],
   "outputs": [
    {
     "output_type": "stream",
     "name": "stdout",
     "text": [
      "0.9973541965122431 0.8905151032797809\n"
     ]
    }
   ],
   "metadata": {}
  },
  {
   "cell_type": "code",
   "execution_count": 2,
   "source": [
    "# 특성 중요도 : 랜덤 포레스트에서는 특성의 중요도가 골고루 배분되어 과대적합을 줄이고 일반화 성능을 높여준다.\r\n",
    "rf.fit(train_input, train_target)\r\n",
    "print(rf.feature_importances_)"
   ],
   "outputs": [
    {
     "output_type": "stream",
     "name": "stdout",
     "text": [
      "[0.23167441 0.50039841 0.26792718]\n"
     ]
    }
   ],
   "metadata": {}
  },
  {
   "cell_type": "code",
   "execution_count": 3,
   "source": [
    "# OBB 점수 : 부트스트랩 샘플에 포함되지 않고 남은 샘플\r\n",
    "rf = RandomForestClassifier(oob_score= True, n_jobs= -1, random_state= 42)\r\n",
    "rf.fit(train_input, train_target)\r\n",
    "print(rf.oob_score_)"
   ],
   "outputs": [
    {
     "output_type": "stream",
     "name": "stdout",
     "text": [
      "0.8934000384837406\n"
     ]
    }
   ],
   "metadata": {}
  },
  {
   "cell_type": "code",
   "execution_count": 4,
   "source": [
    "# 엑스트라 트리 : 부트스트랩 샘플을 사용하지 않고 전체 훈련 세트 사용, 결정 트리에서 특성을 무작위로 분할\r\n",
    "from sklearn.ensemble import ExtraTreesClassifier\r\n",
    "et = ExtraTreesClassifier(n_jobs= -1, random_state= 42)\r\n",
    "scores = cross_validate(et, train_input, train_target, return_train_score= True, n_jobs= -1)\r\n",
    "print(np.mean(scores['train_score']), np.mean(scores['test_score']))"
   ],
   "outputs": [
    {
     "output_type": "stream",
     "name": "stdout",
     "text": [
      "0.9974503966084433 0.8887848893166506\n"
     ]
    }
   ],
   "metadata": {}
  },
  {
   "cell_type": "code",
   "execution_count": 5,
   "source": [
    "# 엑스트라 트리의 특성 중요도\r\n",
    "et.fit(train_input, train_target)\r\n",
    "print(et.feature_importances_)"
   ],
   "outputs": [
    {
     "output_type": "stream",
     "name": "stdout",
     "text": [
      "[0.20183568 0.52242907 0.27573525]\n"
     ]
    }
   ],
   "metadata": {}
  },
  {
   "cell_type": "code",
   "execution_count": 6,
   "source": [
    "# 그레이디언트 부스팅\r\n",
    "from sklearn.ensemble import GradientBoostingClassifier\r\n",
    "gb = GradientBoostingClassifier(random_state= 42)\r\n",
    "scores = cross_validate(gb, train_input, train_target, n_jobs= -1, return_train_score= True)\r\n",
    "print(np.mean(scores['train_score']), np.mean(scores['test_score']))\r\n"
   ],
   "outputs": [
    {
     "output_type": "stream",
     "name": "stdout",
     "text": [
      "0.8881086892152563 0.8720430147331015\n"
     ]
    }
   ],
   "metadata": {}
  },
  {
   "cell_type": "code",
   "execution_count": 7,
   "source": [
    "# 그레이디언트 부스팅 결정 트리 개수 및 학습률 조절\r\n",
    "gb = GradientBoostingClassifier(n_estimators= 500, learning_rate= 0.2, random_state= 42)\r\n",
    "scores = cross_validate(gb, train_input, train_target, return_train_score= True, n_jobs= -1)\r\n",
    "print(np.mean(scores['train_score']), np.mean(scores['test_score']))"
   ],
   "outputs": [
    {
     "output_type": "stream",
     "name": "stdout",
     "text": [
      "0.9464595437171814 0.8780082549788999\n"
     ]
    }
   ],
   "metadata": {}
  },
  {
   "cell_type": "code",
   "execution_count": 8,
   "source": [
    "# 그레이디언트 부스팅의 특성 중요도\r\n",
    "gb.fit(train_input, train_target)\r\n",
    "print(gb.feature_importances_)"
   ],
   "outputs": [
    {
     "output_type": "stream",
     "name": "stdout",
     "text": [
      "[0.15872278 0.68010884 0.16116839]\n"
     ]
    }
   ],
   "metadata": {}
  },
  {
   "cell_type": "code",
   "execution_count": 9,
   "source": [
    "# 히스토그램 기반 그레이디언트 부스팅\r\n",
    "from sklearn.experimental import enable_hist_gradient_boosting\r\n",
    "from sklearn.ensemble import HistGradientBoostingClassifier\r\n",
    "hgb = HistGradientBoostingClassifier(random_state= 42)\r\n",
    "score = cross_validate(hgb, train_input, train_target, return_train_score= True)\r\n",
    "print(np.mean(score['train_score']), np.mean(score['test_score']))"
   ],
   "outputs": [
    {
     "output_type": "stream",
     "name": "stdout",
     "text": [
      "0.9321723946453317 0.8801241948619236\n"
     ]
    }
   ],
   "metadata": {}
  },
  {
   "cell_type": "code",
   "execution_count": 10,
   "source": [
    "# 히스토그램 기반 그레이디언트 부스팅의 특성 중요도 계산\r\n",
    "from sklearn.inspection import permutation_importance\r\n",
    "hgb.fit(train_input, train_target)\r\n",
    "result = permutation_importance(hgb, train_input, train_target, n_repeats= 10, random_state= 42, n_jobs= -1)\r\n",
    "print(result.importances_mean) # 훈련세트의 특성 중요도\r\n",
    "\r\n",
    "result = permutation_importance(hgb, test_input, test_target, n_repeats= 10, random_state= 42, n_jobs= -1)\r\n",
    "print(result.importances_mean)"
   ],
   "outputs": [
    {
     "output_type": "stream",
     "name": "stdout",
     "text": [
      "[0.08876275 0.23438522 0.08027708]\n",
      "[0.05969231 0.20238462 0.049     ]\n"
     ]
    }
   ],
   "metadata": {}
  },
  {
   "cell_type": "code",
   "execution_count": 11,
   "source": [
    "hgb.score(test_input, test_target)"
   ],
   "outputs": [
    {
     "output_type": "execute_result",
     "data": {
      "text/plain": [
       "0.8723076923076923"
      ]
     },
     "metadata": {},
     "execution_count": 11
    }
   ],
   "metadata": {}
  }
 ],
 "metadata": {
  "orig_nbformat": 4,
  "language_info": {
   "name": "python",
   "version": "3.8.8",
   "mimetype": "text/x-python",
   "codemirror_mode": {
    "name": "ipython",
    "version": 3
   },
   "pygments_lexer": "ipython3",
   "nbconvert_exporter": "python",
   "file_extension": ".py"
  },
  "kernelspec": {
   "name": "python3",
   "display_name": "Python 3.8.8 64-bit ('base': conda)"
  },
  "interpreter": {
   "hash": "fff8f1baadadc5fbf51030dcb2db9f6c81b6acfa6e5b0bb822f1d9b4c699540c"
  }
 },
 "nbformat": 4,
 "nbformat_minor": 2
}