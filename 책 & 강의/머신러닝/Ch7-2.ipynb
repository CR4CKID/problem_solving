{
 "cells": [
  {
   "cell_type": "code",
   "execution_count": 1,
   "source": [
    "from tensorflow import keras\r\n",
    "(train_input, train_target), (test_input, test_target) = keras.datasets.fashion_mnist.load_data()\r\n",
    "\r\n",
    "train_scaled = train_input / 255.0 \r\n",
    "train_scaled = train_scaled.reshape(-1, 28*28)\r\n",
    "from sklearn.model_selection import train_test_split\r\n",
    "train_scaled, val_scaled, train_target, val_target = train_test_split(train_scaled, train_target, test_size= 0.2, \\\r\n",
    "    random_state= 42)"
   ],
   "outputs": [],
   "metadata": {}
  },
  {
   "cell_type": "code",
   "execution_count": 3,
   "source": [
    "dense1 = keras.layers.Dense(100, activation= 'sigmoid', input_shape= (784,)) # 은닉층\r\n",
    "dense2 = keras.layers.Dense(10, activation= 'softmax') # 출력층\r\n",
    "\r\n",
    "model = keras.Sequential([dense1, dense2]) # 여러개의 층 추가 시 리스트 형태로 전달\r\n",
    "model.summary()"
   ],
   "outputs": [
    {
     "output_type": "stream",
     "name": "stdout",
     "text": [
      "Model: \"sequential\"\n",
      "_________________________________________________________________\n",
      "Layer (type)                 Output Shape              Param #   \n",
      "=================================================================\n",
      "dense_2 (Dense)              (None, 100)               78500     \n",
      "_________________________________________________________________\n",
      "dense_3 (Dense)              (None, 10)                1010      \n",
      "=================================================================\n",
      "Total params: 79,510\n",
      "Trainable params: 79,510\n",
      "Non-trainable params: 0\n",
      "_________________________________________________________________\n"
     ]
    }
   ],
   "metadata": {}
  },
  {
   "cell_type": "code",
   "execution_count": 7,
   "source": [
    "model = keras.Sequential([\r\n",
    "    keras.layers.Dense(100, activation='sigmoid', input_shape = (784,), name= 'hidden'),\r\n",
    "    keras.layers.Dense(10, activation='softmax', name= 'ouput')\r\n",
    "], name= '패션 MNIST 모델')\r\n",
    "\r\n",
    "# 모델 추가하기\r\n",
    "model = keras.Sequential()\r\n",
    "model.add(keras.layers.Dense(100, activation='sigmoid', input_shape = (784,), name= 'hidden'))\r\n",
    "model.add(keras.layers.Dense(10, activation='softmax', name= 'ouput'))\r\n",
    "model.summary()\r\n",
    "\r\n",
    "model.compile(loss= 'sparse_categorical_crossentropy', metrics= 'accuracy')\r\n",
    "model.fit(train_scaled, train_target, epochs= 5)"
   ],
   "outputs": [
    {
     "output_type": "stream",
     "name": "stdout",
     "text": [
      "Model: \"sequential_2\"\n",
      "_________________________________________________________________\n",
      "Layer (type)                 Output Shape              Param #   \n",
      "=================================================================\n",
      "hidden (Dense)               (None, 100)               78500     \n",
      "_________________________________________________________________\n",
      "ouput (Dense)                (None, 10)                1010      \n",
      "=================================================================\n",
      "Total params: 79,510\n",
      "Trainable params: 79,510\n",
      "Non-trainable params: 0\n",
      "_________________________________________________________________\n",
      "Epoch 1/5\n",
      "1500/1500 [==============================] - 1s 634us/step - loss: 0.5682 - accuracy: 0.8069\n",
      "Epoch 2/5\n",
      "1500/1500 [==============================] - 1s 670us/step - loss: 0.4078 - accuracy: 0.8528\n",
      "Epoch 3/5\n",
      "1500/1500 [==============================] - 1s 584us/step - loss: 0.3724 - accuracy: 0.8645\n",
      "Epoch 4/5\n",
      "1500/1500 [==============================] - 1s 613us/step - loss: 0.3505 - accuracy: 0.8722\n",
      "Epoch 5/5\n",
      "1500/1500 [==============================] - 1s 534us/step - loss: 0.3327 - accuracy: 0.8791\n"
     ]
    },
    {
     "output_type": "execute_result",
     "data": {
      "text/plain": [
       "<keras.callbacks.History at 0x2cb98606f10>"
      ]
     },
     "metadata": {},
     "execution_count": 7
    }
   ],
   "metadata": {}
  },
  {
   "cell_type": "code",
   "execution_count": 20,
   "source": [
    "model = keras.Sequential()\r\n",
    "model.add(keras.layers.Flatten(input_shape=(28,28))) # Flatten 층은 배치 차원을 제외한 나머지 입력 차원을 일렬로 펼침\r\n",
    "model.add(keras.layers.Dense(100, activation='relu')) # 0 이하일시 0, 이상이면 본래의 숫자\r\n",
    "model.add(keras.layers.Dense(10, activation='softmax'))\r\n",
    "model.summary()"
   ],
   "outputs": [
    {
     "output_type": "stream",
     "name": "stdout",
     "text": [
      "Model: \"sequential_6\"\n",
      "_________________________________________________________________\n",
      "Layer (type)                 Output Shape              Param #   \n",
      "=================================================================\n",
      "flatten_3 (Flatten)          (None, 784)               0         \n",
      "_________________________________________________________________\n",
      "dense_10 (Dense)             (None, 100)               78500     \n",
      "_________________________________________________________________\n",
      "dense_11 (Dense)             (None, 10)                1010      \n",
      "=================================================================\n",
      "Total params: 79,510\n",
      "Trainable params: 79,510\n",
      "Non-trainable params: 0\n",
      "_________________________________________________________________\n"
     ]
    }
   ],
   "metadata": {}
  },
  {
   "cell_type": "code",
   "execution_count": 21,
   "source": [
    "(train_input, train_target), (test_input, test_target) = keras.datasets.fashion_mnist.load_data()\r\n",
    "train_scaled = train_input / 255.0 \r\n",
    "train_scaled, val_scaled, train_target, val_target = train_test_split(train_scaled, train_target, test_size= 0.2, \\\r\n",
    "    random_state= 42)\r\n",
    "model.compile(loss='sparse_categorical_crossentropy', metrics= 'accuracy')\r\n",
    "model.fit(train_scaled, train_target, epochs= 5)\r\n",
    "model.evaluate(val_scaled, val_target)"
   ],
   "outputs": [
    {
     "output_type": "stream",
     "name": "stdout",
     "text": [
      "Epoch 1/5\n",
      "1500/1500 [==============================] - 1s 609us/step - loss: 0.5308 - accuracy: 0.8138\n",
      "Epoch 2/5\n",
      "1500/1500 [==============================] - 1s 578us/step - loss: 0.3928 - accuracy: 0.8586\n",
      "Epoch 3/5\n",
      "1500/1500 [==============================] - 1s 592us/step - loss: 0.3545 - accuracy: 0.8720\n",
      "Epoch 4/5\n",
      "1500/1500 [==============================] - 1s 600us/step - loss: 0.3363 - accuracy: 0.8793\n",
      "Epoch 5/5\n",
      "1500/1500 [==============================] - 1s 675us/step - loss: 0.3183 - accuracy: 0.8874\n",
      "375/375 [==============================] - 0s 366us/step - loss: 0.3842 - accuracy: 0.8708\n"
     ]
    },
    {
     "output_type": "execute_result",
     "data": {
      "text/plain": [
       "[0.384225070476532, 0.8708333373069763]"
      ]
     },
     "metadata": {},
     "execution_count": 21
    }
   ],
   "metadata": {}
  },
  {
   "cell_type": "code",
   "execution_count": 26,
   "source": [
    "# 옵티마이저\r\n",
    "\r\n",
    "# SGD 옵티마이저\r\n",
    "model.compile(optimizer= 'sgd', loss= 'sparse_categorical_crossentropy', metrics= 'accuracy')\r\n",
    "\r\n",
    "# 모멘템, 네스테로프 모멘텀 최적화\r\n",
    "sgd = keras.optimizers.SGD(momentum=0.9, nesterov=True)\r\n",
    "model.compile(optimizer=sgd, loss= 'sparse_categorical_crossentropy', metrics= 'accuracy')\r\n",
    "\r\n",
    "# 적응적 학습률\r\n",
    "# adagard\r\n",
    "adagard = keras.optimizers.Adagrad()\r\n",
    "model.compile(optimizer= adagard, loss= 'sparse_categorical_crossentropy', metrics= 'accuracy')\r\n",
    "\r\n",
    "# RMSprop\r\n",
    "rmsprop = keras.optimizers.RMSprop()\r\n",
    "model.compile(optimizer= rmsprop, loss= 'sparse_categorical_crossentropy', metrics= 'accuracy')\r\n"
   ],
   "outputs": [],
   "metadata": {}
  },
  {
   "cell_type": "code",
   "execution_count": 29,
   "source": [
    "model = keras.Sequential()\r\n",
    "model.add(keras.layers.Flatten(input_shape= (28,28)))\r\n",
    "model.add(keras.layers.Dense(100, activation= 'relu'))\r\n",
    "model.add(keras.layers.Dense(10, activation= 'softmax'))\r\n",
    "\r\n",
    "model.compile(optimizer='adam', loss= 'sparse_categorical_crossentropy', metrics= 'accuracy')\r\n",
    "model.fit(train_scaled, train_target, epochs= 5)\r\n",
    "model.evaluate(val_scaled, val_target)"
   ],
   "outputs": [
    {
     "output_type": "stream",
     "name": "stdout",
     "text": [
      "Epoch 1/5\n",
      "1500/1500 [==============================] - 1s 499us/step - loss: 0.5299 - accuracy: 0.8156\n",
      "Epoch 2/5\n",
      "1500/1500 [==============================] - 1s 507us/step - loss: 0.4004 - accuracy: 0.8571\n",
      "Epoch 3/5\n",
      "1500/1500 [==============================] - 1s 502us/step - loss: 0.3586 - accuracy: 0.8702\n",
      "Epoch 4/5\n",
      "1500/1500 [==============================] - 1s 480us/step - loss: 0.3306 - accuracy: 0.8784\n",
      "Epoch 5/5\n",
      "1500/1500 [==============================] - 1s 477us/step - loss: 0.3123 - accuracy: 0.8862\n",
      "375/375 [==============================] - 0s 359us/step - loss: 0.3386 - accuracy: 0.8773\n"
     ]
    },
    {
     "output_type": "execute_result",
     "data": {
      "text/plain": [
       "[0.3385508358478546, 0.8773333430290222]"
      ]
     },
     "metadata": {},
     "execution_count": 29
    }
   ],
   "metadata": {}
  }
 ],
 "metadata": {
  "orig_nbformat": 4,
  "language_info": {
   "name": "python",
   "version": "3.8.8",
   "mimetype": "text/x-python",
   "codemirror_mode": {
    "name": "ipython",
    "version": 3
   },
   "pygments_lexer": "ipython3",
   "nbconvert_exporter": "python",
   "file_extension": ".py"
  },
  "kernelspec": {
   "name": "python3",
   "display_name": "Python 3.8.8 64-bit ('base': conda)"
  },
  "interpreter": {
   "hash": "fff8f1baadadc5fbf51030dcb2db9f6c81b6acfa6e5b0bb822f1d9b4c699540c"
  }
 },
 "nbformat": 4,
 "nbformat_minor": 2
}