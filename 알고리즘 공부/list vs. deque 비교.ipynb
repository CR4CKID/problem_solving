{
 "cells": [
  {
   "cell_type": "code",
   "execution_count": 1,
   "metadata": {},
   "outputs": [],
   "source": [
    "import time\n",
    "from collections import deque\n",
    "N = 10000\n",
    "M = 10000\n",
    "TIME = 500"
   ]
  },
  {
   "cell_type": "code",
   "execution_count": 2,
   "metadata": {},
   "outputs": [],
   "source": [
    "list_stack = [i for i in range(N)]\n",
    "deque_stack = deque([i for i in range(N)])"
   ]
  },
  {
   "cell_type": "code",
   "execution_count": 3,
   "metadata": {},
   "outputs": [
    {
     "name": "stdout",
     "output_type": "stream",
     "text": [
      "List_stack: 0.698477029800415\n",
      "Deque_stack: 0.6762955188751221\n"
     ]
    }
   ],
   "source": [
    "list_time = []\n",
    "deque_time = []\n",
    "for _ in range(TIME):\n",
    "    start_time = time.time()\n",
    "    for i in range(M):\n",
    "        list_stack.append(i)\n",
    "        list_stack.pop()\n",
    "    list_time.append(time.time() - start_time)\n",
    "for _ in range(TIME):\n",
    "    start_time = time.time()\n",
    "    for i in range(M):\n",
    "        deque_stack.append(i)\n",
    "        deque_stack.pop()\n",
    "    deque_time.append(time.time() - start_time)\n",
    "print(f'List_stack: {sum(list_time)}')\n",
    "print(f'Deque_stack: {sum(deque_time)}')"
   ]
  },
  {
   "cell_type": "code",
   "execution_count": 4,
   "metadata": {},
   "outputs": [
    {
     "name": "stdout",
     "output_type": "stream",
     "text": [
      "List_queue: 7.4560980796813965\n",
      "Deque_queue: 0.5006320476531982\n"
     ]
    }
   ],
   "source": [
    "list_time = []\n",
    "deque_time = []\n",
    "for _ in range(TIME):\n",
    "    start_time = time.time()\n",
    "    for i in range(M):\n",
    "        list_stack.append(i)\n",
    "        list_stack.pop(0)\n",
    "    list_time.append(time.time() - start_time)\n",
    "for _ in range(TIME):\n",
    "    start_time = time.time()\n",
    "    for i in range(M):\n",
    "        deque_stack.append(i)\n",
    "        deque_stack.popleft()\n",
    "    deque_time.append(time.time() - start_time)\n",
    "print(f'List_queue: {sum(list_time)}')\n",
    "print(f'Deque_queue: {sum(deque_time)}')"
   ]
  }
 ],
 "metadata": {
  "interpreter": {
   "hash": "fff8f1baadadc5fbf51030dcb2db9f6c81b6acfa6e5b0bb822f1d9b4c699540c"
  },
  "kernelspec": {
   "display_name": "Python 3.8.8 64-bit ('base': conda)",
   "name": "python3"
  },
  "language_info": {
   "codemirror_mode": {
    "name": "ipython",
    "version": 3
   },
   "file_extension": ".py",
   "mimetype": "text/x-python",
   "name": "python",
   "nbconvert_exporter": "python",
   "pygments_lexer": "ipython3",
   "version": "3.8.8"
  },
  "orig_nbformat": 4
 },
 "nbformat": 4,
 "nbformat_minor": 2
}
