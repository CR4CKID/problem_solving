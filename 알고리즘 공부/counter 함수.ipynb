{
 "cells": [
  {
   "cell_type": "code",
   "execution_count": 2,
   "metadata": {},
   "outputs": [
    {
     "data": {
      "text/plain": [
       "Counter({'h': 1, 'e': 1, 'l': 3, 'o': 2, ' ': 1, 'w': 1, 'r': 1, 'd': 1})"
      ]
     },
     "execution_count": 2,
     "metadata": {},
     "output_type": "execute_result"
    }
   ],
   "source": [
    "# counter : 해쉬 가능한 객체의 요소를 카운트하여 딕셔너리 형태로 리턴 (string, list, dictionary에서 모두 활용 가능)\n",
    "from collections import Counter\n",
    "Counter('hello world')"
   ]
  },
  {
   "cell_type": "code",
   "execution_count": 3,
   "metadata": {},
   "outputs": [
    {
     "name": "stdout",
     "output_type": "stream",
     "text": [
      "l 3\n"
     ]
    }
   ],
   "source": [
    "# counter을 활용하여 단어에서 가장 많이 활용된 문자 찾기\n",
    "counter = Counter('hello world')\n",
    "max_count = -1\n",
    "for letter in counter:\n",
    "    if counter[letter] > max_count:\n",
    "        max_count = counter[letter]\n",
    "        max_letter = letter\n",
    "    else:\n",
    "        pass\n",
    "\n",
    "print(max_letter, max_count)"
   ]
  },
  {
   "cell_type": "code",
   "execution_count": 4,
   "metadata": {},
   "outputs": [
    {
     "name": "stdout",
     "output_type": "stream",
     "text": [
      "[('l', 3), ('o', 2), ('h', 1), ('e', 1), (' ', 1), ('w', 1), ('r', 1), ('d', 1)]\n",
      "[('l', 3)]\n"
     ]
    }
   ],
   "source": [
    "# most_common(): 데이터 개수가 많은 순서대로 튜플 형태로 반환\n",
    "counter = Counter('hello world')\n",
    "print(counter.most_common())\n",
    "\n",
    "print(counter.most_common(1)) # 괄호 안에 숫자를 넘기면 그 숫자만큼 리턴, 따라서 1 대입 시 데이터 개수가 가장 많은 것을 반환 가능"
   ]
  },
  {
   "cell_type": "code",
   "execution_count": 5,
   "metadata": {},
   "outputs": [
    {
     "name": "stdout",
     "output_type": "stream",
     "text": [
      "[('kim', 5), ('choi', 3), ('park', 2)]\n"
     ]
    },
    {
     "data": {
      "text/plain": [
       "['choi', 'choi', 'choi', 'kim', 'kim', 'kim', 'kim', 'kim', 'park', 'park']"
      ]
     },
     "execution_count": 5,
     "metadata": {},
     "output_type": "execute_result"
    }
   ],
   "source": [
    "# counter의 값은 개수 형태이다\n",
    "counter = Counter(kim = 5, park = 2, choi = 3) # kim 다섯번, park 2번, choi 3번 연산 수행\n",
    "print(counter.most_common())\n",
    "\n",
    "sorted(counter.elements()) # elements()는 입력된 값의 요소를 풀어서 무작위로 반환"
   ]
  },
  {
   "cell_type": "code",
   "execution_count": 6,
   "metadata": {},
   "outputs": [
    {
     "name": "stdout",
     "output_type": "stream",
     "text": [
      "Counter({'m': 2, ' ': 1, 'l': 1, 'y': 1, 'f': 1, 'a': 1, 'i': 1})\n",
      "Counter({' ': 3, 'l': 2, 'm': 2, 'y': 2, 'I': 1, 'o': 1, 'v': 1, 'e': 1, 'f': 1, 'a': 1, 'i': 1})\n",
      "Counter({'m': 2, ' ': 1, 'l': 1, 'y': 1, 'f': 1, 'a': 1, 'i': 1, 'I': 0, 'v': 0, 'e': 0, 'o': -1, 'u': -1})\n"
     ]
    }
   ],
   "source": [
    "# substract()는 요소를 빼준다, - 요소는 뺀 값을 반환한다\n",
    "counter1 = Counter('I love you')\n",
    "counter2 = Counter('I love my family')\n",
    "\n",
    "print(counter2 - counter1) # 요소가 없는 경우 반환 X\n",
    "print(counter2) # 마이너스 하더라도 counter2 자체는 변하지 않음\n",
    "\n",
    "counter2.subtract(counter1) # 요소가 없는 경우 음수 값으로 반환\n",
    "print(counter2) # substract 시 counter2 값이 변함"
   ]
  },
  {
   "cell_type": "code",
   "execution_count": 7,
   "metadata": {},
   "outputs": [
    {
     "name": "stdout",
     "output_type": "stream",
     "text": [
      "Counter({' ': 2, 'o': 2, 'I': 1, 'l': 1, 'v': 1, 'e': 1, 'y': 1, 'u': 1})\n",
      "Counter({'e': 2, 'I': 1, 'l': 1, 'o': 1, 'v': 1, 'h': 1, 'r': 1})\n",
      "Counter({'o': 3, 'e': 3, 'I': 2, ' ': 2, 'l': 2, 'v': 2, 'y': 1, 'u': 1, 'h': 1, 'r': 1})\n"
     ]
    }
   ],
   "source": [
    "# + : 덧셈\n",
    "ex_counter1 = Counter('I love you')\n",
    "ex_counter2 = Counter(['I', 'l', 'o', 'v', 'e', 'h', 'e', 'r'])\n",
    "\n",
    "print(ex_counter1)\n",
    "print(ex_counter2)\n",
    "print(ex_counter1 + ex_counter2)"
   ]
  },
  {
   "cell_type": "code",
   "execution_count": 8,
   "metadata": {},
   "outputs": [
    {
     "name": "stdout",
     "output_type": "stream",
     "text": [
      "Counter({'A': 1, 'B': 1, 'C': 1, 'D': 1, 'E': 1, 'F': 1, 'G': 1})\n",
      "Counter({'G': 5, 'A': 1, 'B': 1, 'C': 1, 'D': 1, 'E': 1, 'F': 1})\n"
     ]
    }
   ],
   "source": [
    "# 교집합과 합집합 연산 (결과 값은 사전 형태로 반환)\n",
    "ex_counter1 = Counter('ABCDEFGGGGG')\n",
    "ex_counter2 = Counter('ABCDEFG')\n",
    "\n",
    "print(ex_counter1 & ex_counter2)\t# 교집합\n",
    "print(ex_counter1 | ex_counter2)\t# 합집합"
   ]
  },
  {
   "cell_type": "code",
   "execution_count": 23,
   "metadata": {},
   "outputs": [],
   "source": [
    "# counter 활용\n",
    "portfolio = [\n",
    "    ('GOOG', 100, 490.1),\n",
    "    ('IBM', 50, 91.1),\n",
    "    ('CAT', 150, 83.44),\n",
    "    ('IBM', 100, 45.23),\n",
    "    ('GOOG', 75, 572.45),\n",
    "    ('AA', 50, 23.15)\n",
    "]"
   ]
  },
  {
   "cell_type": "code",
   "execution_count": 10,
   "metadata": {},
   "outputs": [
    {
     "name": "stdout",
     "output_type": "stream",
     "text": [
      "Counter({'GOOG': 175, 'IBM': 150, 'CAT': 150, 'AA': 50})\n"
     ]
    }
   ],
   "source": [
    "# 종목 별로 share 값을 합산하고 싶을때 : counter() 사용\n",
    "total_share = Counter()\n",
    "for name, shares, price in portfolio:\n",
    "    total_share[name] += shares\n",
    "print(total_share)"
   ]
  },
  {
   "cell_type": "code",
   "execution_count": 24,
   "metadata": {},
   "outputs": [
    {
     "name": "stdout",
     "output_type": "stream",
     "text": [
      "defaultdict(<class 'list'>, {'GOOG': [(100, 490.1), (75, 572.45)], 'IBM': [(50, 91.1), (100, 45.23)], 'CAT': [(150, 83.44)], 'AA': [(50, 23.15)]})\n"
     ]
    },
    {
     "data": {
      "text/plain": [
       "[(50, 91.1), (100, 45.23)]"
      ]
     },
     "execution_count": 24,
     "metadata": {},
     "output_type": "execute_result"
    }
   ],
   "source": [
    "# plus)하나의 키를 여러 개의 값에 맵핑하고 싶을때 : defaultdict() 사용\n",
    "from collections import defaultdict\n",
    "holdings = defaultdict(list)\n",
    "for name, shares, price in portfolio:\n",
    "    holdings[name].append((shares, price))\n",
    "print(holdings)\n",
    "holdings['IBM']"
   ]
  }
 ],
 "metadata": {
  "interpreter": {
   "hash": "fff8f1baadadc5fbf51030dcb2db9f6c81b6acfa6e5b0bb822f1d9b4c699540c"
  },
  "kernelspec": {
   "display_name": "Python 3.8.8 64-bit ('base': conda)",
   "name": "python3"
  },
  "language_info": {
   "codemirror_mode": {
    "name": "ipython",
    "version": 3
   },
   "file_extension": ".py",
   "mimetype": "text/x-python",
   "name": "python",
   "nbconvert_exporter": "python",
   "pygments_lexer": "ipython3",
   "version": "3.8.8"
  },
  "orig_nbformat": 4
 },
 "nbformat": 4,
 "nbformat_minor": 2
}
