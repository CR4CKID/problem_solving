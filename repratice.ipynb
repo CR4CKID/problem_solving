{
 "cells": [
  {
   "cell_type": "code",
   "execution_count": 2,
   "metadata": {},
   "outputs": [
    {
     "name": "stdout",
     "output_type": "stream",
     "text": [
      "tataaaggcAATATGCAGTTAG\n",
      "<class 'Bio.Seq.Seq'>\n"
     ]
    }
   ],
   "source": [
    "from Bio.Seq import Seq\n",
    "\n",
    "tatabox_seq = Seq('tataaaggcAATATGCAGTTAG')\n",
    "print(tatabox_seq)\n",
    "print(type(tatabox_seq))"
   ]
  },
  {
   "cell_type": "code",
   "execution_count": 3,
   "metadata": {},
   "outputs": [
    {
     "data": {
      "text/plain": [
       "3"
      ]
     },
     "execution_count": 3,
     "metadata": {},
     "output_type": "execute_result"
    }
   ],
   "source": [
    "from Bio.Seq import Seq\n",
    "\n",
    "exon_seq = Seq('ATGCAGTAG')\n",
    "count_a = exon_seq.count('A')\n",
    "count_a"
   ]
  },
  {
   "cell_type": "code",
   "execution_count": 4,
   "metadata": {},
   "outputs": [
    {
     "data": {
      "text/plain": [
       "44.44444444444444"
      ]
     },
     "execution_count": 4,
     "metadata": {},
     "output_type": "execute_result"
    }
   ],
   "source": [
    "from Bio.Seq import Seq\n",
    "\n",
    "g_count = exon_seq.count('G')\n",
    "c_count = exon_seq.count('C')\n",
    "\n",
    "gc_contents = (g_count + c_count) / len(exon_seq) * 100\n",
    "gc_contents"
   ]
  },
  {
   "cell_type": "code",
   "execution_count": 5,
   "metadata": {},
   "outputs": [
    {
     "name": "stdout",
     "output_type": "stream",
     "text": [
      "TATAAAGGCAATATGCAGTTAG\n",
      "tataaaggcaatatgcagttag\n"
     ]
    }
   ],
   "source": [
    "from Bio.Seq import Seq\n",
    "\n",
    "tatabox_seq = Seq('tataaaggcAATATGCAGTTAG')\n",
    "print(tatabox_seq.upper())\n",
    "print(tatabox_seq.lower())"
   ]
  },
  {
   "cell_type": "code",
   "execution_count": 6,
   "metadata": {},
   "outputs": [
    {
     "name": "stdout",
     "output_type": "stream",
     "text": [
      "AUGCAGUAG MQ*\n"
     ]
    }
   ],
   "source": [
    "from Bio.Seq import Seq\n",
    "\n",
    "dna = Seq('ATGCAGTAG')\n",
    "mrna = dna.transcribe()\n",
    "ptn = dna.translate()\n",
    "\n",
    "print(mrna, ptn)"
   ]
  },
  {
   "cell_type": "code",
   "execution_count": 7,
   "metadata": {},
   "outputs": [
    {
     "data": {
      "text/plain": [
       "Seq('MN*V*N')"
      ]
     },
     "execution_count": 7,
     "metadata": {},
     "output_type": "execute_result"
    }
   ],
   "source": [
    "mrna = Seq('AUGAACUAAGUUUAGAAU')\n",
    "ptn = mrna.translate()\n",
    "ptn"
   ]
  },
  {
   "cell_type": "code",
   "execution_count": 8,
   "metadata": {},
   "outputs": [
    {
     "data": {
      "text/plain": [
       "Seq('MN')"
      ]
     },
     "execution_count": 8,
     "metadata": {},
     "output_type": "execute_result"
    }
   ],
   "source": [
    "ptn = mrna.translate(to_stop=True)\n",
    "ptn"
   ]
  },
  {
   "cell_type": "code",
   "execution_count": 9,
   "metadata": {},
   "outputs": [
    {
     "name": "stdout",
     "output_type": "stream",
     "text": [
      "MN*V*N\n",
      "MN\n",
      "V\n",
      "N\n"
     ]
    }
   ],
   "source": [
    "mrna = Seq('AUGAACUAAGUUUAGAAU')\n",
    "ptn = mrna.translate()\n",
    "print(ptn)\n",
    "for seq in ptn.split('*'):\n",
    "    print(seq)"
   ]
  }
 ],
 "metadata": {
  "kernelspec": {
   "display_name": "new",
   "language": "python",
   "name": "python3"
  },
  "language_info": {
   "codemirror_mode": {
    "name": "ipython",
    "version": 3
   },
   "file_extension": ".py",
   "mimetype": "text/x-python",
   "name": "python",
   "nbconvert_exporter": "python",
   "pygments_lexer": "ipython3",
   "version": "3.10.8"
  },
  "orig_nbformat": 4,
  "vscode": {
   "interpreter": {
    "hash": "09af3c0a34b1b7f8b52358b3044f4e3fedaef5cc4293d58a13ff9f0c05eeeb88"
   }
  }
 },
 "nbformat": 4,
 "nbformat_minor": 2
}
