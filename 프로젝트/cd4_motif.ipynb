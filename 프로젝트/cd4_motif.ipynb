{
 "cells": [
  {
   "cell_type": "code",
   "execution_count": 37,
   "metadata": {},
   "outputs": [],
   "source": [
    "from Bio import SeqIO\n",
    "from Bio.motifs import Motif\n",
    "from Bio import motifs\n",
    "from Bio import AlignIO\n",
    "from Bio.Align.Applications import MuscleCommandline\n",
    "from IPython.display import Image"
   ]
  },
  {
   "cell_type": "code",
   "execution_count": 38,
   "metadata": {},
   "outputs": [
    {
     "data": {
      "text/plain": [
       "[Seq('GCTGGCTTCC'),\n",
       " Seq('GCGTGGAGGA'),\n",
       " Seq('CTCTCTTCAT'),\n",
       " Seq('CTCTCTTCAT'),\n",
       " Seq('CTCTCTTCAT'),\n",
       " Seq('ATGCCTGGGG'),\n",
       " Seq('TGCCGGGCTT'),\n",
       " Seq('ATGCACCGAG'),\n",
       " Seq('CTTCCTGTCT'),\n",
       " Seq('TTGGCCCAGG'),\n",
       " Seq('GGTTGGCCCA'),\n",
       " Seq('GGCAGGGACT'),\n",
       " Seq('CTAGCCTGAG'),\n",
       " Seq('GACTCGCTAC'),\n",
       " Seq('GACTCGCTAC'),\n",
       " Seq('GACTCGCTAC'),\n",
       " Seq('CTCTCCCCAG'),\n",
       " Seq('TTTTCATAAC'),\n",
       " Seq('AACTCCGTCT'),\n",
       " Seq('CGGAGGGTGG'),\n",
       " Seq('ATAACTCCGT'),\n",
       " Seq('ATAACTCCGT'),\n",
       " Seq('TAACTCCGTC'),\n",
       " Seq('CCTTCGTGCG'),\n",
       " Seq('CAGCGTTTCC'),\n",
       " Seq('CAGCATTTCC'),\n",
       " Seq('CCTATTAGGA'),\n",
       " Seq('AGGATGGGGG'),\n",
       " Seq('TACCTTCCGT'),\n",
       " Seq('CATTTCCCTC'),\n",
       " Seq('ATGAGAAATG'),\n",
       " Seq('AAGTCACGGC'),\n",
       " Seq('CGAACATCTG'),\n",
       " Seq('AAGCGTATCT'),\n",
       " Seq('AAGCGTATCT'),\n",
       " Seq('TTGGAAAATC'),\n",
       " Seq('CCTGCCGAGA'),\n",
       " Seq('ATACATCTCT'),\n",
       " Seq('ATACATCTCT'),\n",
       " Seq('CCGCTCAGGT'),\n",
       " Seq('CGGGCATCTG'),\n",
       " Seq('ATGGAGTCGA'),\n",
       " Seq('ATGGAGTTGA'),\n",
       " Seq('TACTAGGCTT'),\n",
       " Seq('ACTCCAGAGG'),\n",
       " Seq('GGACTCCAGA'),\n",
       " Seq('CCGGGCTTCC'),\n",
       " Seq('CCGGGCTTCC'),\n",
       " Seq('GCTTTCCAGC'),\n",
       " Seq('GCTCCTCAGA'),\n",
       " Seq('CGGCCCGTGG'),\n",
       " Seq('TACATACGTC'),\n",
       " Seq('GGAAACAAAG'),\n",
       " Seq('GGAAACAAAG'),\n",
       " Seq('CTCTCCCTCT'),\n",
       " Seq('ACATCAAGGC'),\n",
       " Seq('GCGGCATCAA'),\n",
       " Seq('GCGGCATCAA'),\n",
       " Seq('GCGGCATCAA'),\n",
       " Seq('CGCCCAGCCT'),\n",
       " Seq('ACACCCAGAC'),\n",
       " Seq('CACCCAGACT'),\n",
       " Seq('GTTGGAACTG'),\n",
       " Seq('GTTGGAACTG'),\n",
       " Seq('CCTTGTTGGA'),\n",
       " Seq('AAAACAGCCA'),\n",
       " Seq('CCTAGGGTGT'),\n",
       " Seq('AAGTAACAAG'),\n",
       " Seq('AAGTAACAAG'),\n",
       " Seq('ACTCCTGAGG'),\n",
       " Seq('CTCCTGAGGG'),\n",
       " Seq('GCCTTGTTTC'),\n",
       " Seq('CTTCCTTTCT'),\n",
       " Seq('GCCTTGTTTC'),\n",
       " Seq('GCTGGGGCGG'),\n",
       " Seq('TGAAGACATA'),\n",
       " Seq('ACACCCAGCA'),\n",
       " Seq('ATTTCTGTTC'),\n",
       " Seq('CCACAGTCTG'),\n",
       " Seq('TTAATGCCAG'),\n",
       " Seq('CTCACCTATC'),\n",
       " Seq('AGGAGCCAGT'),\n",
       " Seq('TCACCTATCA'),\n",
       " Seq('GAGCCTCCCC'),\n",
       " Seq('GAGCCTCCCC'),\n",
       " Seq('GTGACACAGA'),\n",
       " Seq('ATGGACTGGG'),\n",
       " Seq('GTGACACAGA'),\n",
       " Seq('GGCGTGTAGA'),\n",
       " Seq('TCTGGAGCTA'),\n",
       " Seq('GTCTGGCGTG'),\n",
       " Seq('GGTTTTGGAT'),\n",
       " Seq('TACCCAGCTT'),\n",
       " Seq('GCAGCTCCCG'),\n",
       " Seq('CCAGCTTCCT'),\n",
       " Seq('AGCACTCTGT'),\n",
       " Seq('AGCACTCTGT'),\n",
       " Seq('CACTCTGTCC'),\n",
       " Seq('AGCACTCTGT'),\n",
       " Seq('AGCACTCTGT')]"
      ]
     },
     "execution_count": 38,
     "metadata": {},
     "output_type": "execute_result"
    }
   ],
   "source": [
    "cd4s = [c.seq[:10] for c in SeqIO.parse('cd4.fasta', 'fasta')]\n",
    "cd4s[:100]"
   ]
  },
  {
   "cell_type": "code",
   "execution_count": 39,
   "metadata": {},
   "outputs": [],
   "source": [
    "m = motifs.create(cd4s[:30], 'ACGT')"
   ]
  },
  {
   "cell_type": "code",
   "execution_count": 40,
   "metadata": {},
   "outputs": [
    {
     "data": {
      "image/png": "[encoded data removed]",
      "text/plain": [
       "<IPython.core.display.Image object>"
      ]
     },
     "execution_count": 40,
     "metadata": {},
     "output_type": "execute_result"
    }
   ],
   "source": [
    "Motif.weblogo(m, 'cd4.png')\n",
    "Image('cd4.png')"
   ]
  }
 ],
 "metadata": {
  "interpreter": {
   "hash": "fff8f1baadadc5fbf51030dcb2db9f6c81b6acfa6e5b0bb822f1d9b4c699540c"
  },
  "kernelspec": {
   "display_name": "Python 3.8.8 ('base')",
   "language": "python",
   "name": "python3"
  },
  "language_info": {
   "codemirror_mode": {
    "name": "ipython",
    "version": 3
   },
   "file_extension": ".py",
   "mimetype": "text/x-python",
   "name": "python",
   "nbconvert_exporter": "python",
   "pygments_lexer": "ipython3",
   "version": "3.8.8"
  },
  "orig_nbformat": 4
 },
 "nbformat": 4,
 "nbformat_minor": 2
}
