{
 "cells": [
  {
   "cell_type": "code",
   "execution_count": 40,
   "metadata": {},
   "outputs": [
    {
     "data": {
      "text/plain": [
       "0"
      ]
     },
     "execution_count": 40,
     "metadata": {},
     "output_type": "execute_result"
    }
   ],
   "source": [
    "class Solution:\n",
    "     def findUnsortedSubarray(self, nums) -> int:\n",
    "        # Find right limit of the subarray. Traverse array from left to right\n",
    "        right_ptr = 0\n",
    "        big = nums[0]\n",
    "        for i in range(len(nums)):\n",
    "            if nums[i] < big: \n",
    "                # a number smaller than what we have seen -> need sorting\n",
    "                right_ptr = i\n",
    "            else:\n",
    "                big = nums[i]\n",
    "        \n",
    "        # Find left limit of the subarray. Traverse array from right to left\n",
    "        left_ptr = 0\n",
    "        small = nums[-1]\n",
    "        for i in reversed(range(len(nums))):\n",
    "            if nums[i] > small: \n",
    "                # a number bigger than what we have seen -> need sorting\n",
    "                left_ptr = i\n",
    "            else:\n",
    "                small = nums[i]\n",
    "                \n",
    "        if right_ptr == left_ptr: return 0\n",
    "        return right_ptr - left_ptr + 1\n",
    "            \n",
    "        \n",
    "Solution().findUnsortedSubarray([2,6,4,8,10,9,15])"
   ]
  }
 ],
 "metadata": {
  "interpreter": {
   "hash": "fff8f1baadadc5fbf51030dcb2db9f6c81b6acfa6e5b0bb822f1d9b4c699540c"
  },
  "kernelspec": {
   "display_name": "Python 3.8.8 ('base')",
   "language": "python",
   "name": "python3"
  },
  "language_info": {
   "codemirror_mode": {
    "name": "ipython",
    "version": 3
   },
   "file_extension": ".py",
   "mimetype": "text/x-python",
   "name": "python",
   "nbconvert_exporter": "python",
   "pygments_lexer": "ipython3",
   "version": "3.8.8"
  },
  "orig_nbformat": 4
 },
 "nbformat": 4,
 "nbformat_minor": 2
}
