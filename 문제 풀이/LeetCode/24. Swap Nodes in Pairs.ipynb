{
 "cells": [
  {
   "cell_type": "code",
   "execution_count": 2,
   "metadata": {},
   "outputs": [],
   "source": [
    "class ListNode:\n",
    "    def __init__(self, val=0, next=None):\n",
    "        self.val = val\n",
    "        self.next = next\n",
    "def makeListNode(head):\n",
    "    edit = arr = ListNode()\n",
    "    for n in head:\n",
    "        edit.next = ListNode(n)\n",
    "        edit = edit.next\n",
    "    return arr.next"
   ]
  },
  {
   "cell_type": "code",
   "execution_count": 17,
   "metadata": {},
   "outputs": [
    {
     "data": {
      "text/plain": [
       "[2, 1, 4, 3]"
      ]
     },
     "execution_count": 17,
     "metadata": {},
     "output_type": "execute_result"
    }
   ],
   "source": [
    "class Solution:\n",
    "    def swapPairs(self, head):\n",
    "        ans = ed = ListNode()\n",
    "        if head:\n",
    "            slow, fast = head, head.next\n",
    "        else:\n",
    "            return head\n",
    "        while fast:\n",
    "            ed.next = ListNode(fast.val)\n",
    "            ed.next.next = ListNode(slow.val)\n",
    "            ed = ed.next.next\n",
    "            try:\n",
    "                fast, slow = fast.next.next, slow.next.next\n",
    "            except:\n",
    "                return ans.next\n",
    "        ed.next = slow\n",
    "        return ans.next\n",
    "    \n",
    "a = Solution().swapPairs(makeListNode([1,2,3,4]))\n",
    "arr = []\n",
    "while a != None:\n",
    "    arr.append(a.val)\n",
    "    a = a.next\n",
    "arr"
   ]
  }
 ],
 "metadata": {
  "interpreter": {
   "hash": "fff8f1baadadc5fbf51030dcb2db9f6c81b6acfa6e5b0bb822f1d9b4c699540c"
  },
  "kernelspec": {
   "display_name": "Python 3.8.8 64-bit ('base': conda)",
   "name": "python3"
  },
  "language_info": {
   "codemirror_mode": {
    "name": "ipython",
    "version": 3
   },
   "file_extension": ".py",
   "mimetype": "text/x-python",
   "name": "python",
   "nbconvert_exporter": "python",
   "pygments_lexer": "ipython3",
   "version": "3.8.8"
  },
  "orig_nbformat": 4
 },
 "nbformat": 4,
 "nbformat_minor": 2
}
