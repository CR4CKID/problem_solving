{
 "cells": [
  {
   "cell_type": "code",
   "execution_count": 1,
   "metadata": {},
   "outputs": [],
   "source": [
    "class TreeNode:\n",
    "    def __init__(self, val=0, left=None, right=None):\n",
    "        self.val = val\n",
    "        self.left = left\n",
    "        self.right = right\n",
    "    \n",
    "    def __str__(self):\n",
    "        return str(self.val)\n",
    "\n",
    "class Tree:\n",
    "    def __init__(self):\n",
    "        self.root = None\n",
    "        \n",
    "    def makeroot(self, node, left_node,right_node):\n",
    "        if self.root == None:\n",
    "            self.root = node\n",
    "        node.left = left_node\n",
    "        node.right = right_node\n",
    "\n",
    "def ListToTree(arr):\n",
    "    node = [TreeNode(n) for n in arr]\n",
    "    if len(node) % 2 == 0:\n",
    "        node.append(TreeNode(None))\n",
    "    a = node[0]\n",
    "    for i in range(int(len(node)/2)):\n",
    "        Tree().makeroot(node[i],node[i*2+1],node[i*2+2])\n",
    "    return a\n",
    "\n",
    "\n",
    "def TreePrint(tree):\n",
    "    from collections import defaultdict\n",
    "    arr = defaultdict(list)\n",
    "    def dfs(node,depth=0):\n",
    "        if node:\n",
    "            arr[depth].append(node.val)\n",
    "            dfs(node.left, depth+1)\n",
    "            dfs(node.right, depth+1)\n",
    "    dfs(tree)\n",
    "    for n in list(arr):\n",
    "        print('|'.join(map(str,arr[n])).center(40,' '))\n",
    "        \n",
    "\n",
    "def preprocessing(arr):\n",
    "    TreePrint(ListToTree(arr))"
   ]
  },
  {
   "cell_type": "code",
   "execution_count": 6,
   "metadata": {},
   "outputs": [
    {
     "data": {
      "text/plain": [
       "True"
      ]
     },
     "execution_count": 6,
     "metadata": {},
     "output_type": "execute_result"
    }
   ],
   "source": [
    "class Solution:\n",
    "    balance = True\n",
    "    def isBalanced(self, root):\n",
    "        def dfs(node):\n",
    "            if not node or self.balance == False:\n",
    "                return 0\n",
    "            \n",
    "            left = dfs(node.left)\n",
    "            right = dfs(node.right)\n",
    "            \n",
    "            if abs(left-right) > 1:\n",
    "                self.balance = False\n",
    "                \n",
    "            return max(left,right)+1\n",
    "        \n",
    "        dfs(root)\n",
    "        \n",
    "        return self.balance\n",
    "    \n",
    "Solution().isBalanced(ListToTree([1,2,None,2,3,None,None,2,3]))"
   ]
  }
 ],
 "metadata": {
  "interpreter": {
   "hash": "fff8f1baadadc5fbf51030dcb2db9f6c81b6acfa6e5b0bb822f1d9b4c699540c"
  },
  "kernelspec": {
   "display_name": "Python 3.8.8 ('base')",
   "language": "python",
   "name": "python3"
  },
  "language_info": {
   "codemirror_mode": {
    "name": "ipython",
    "version": 3
   },
   "file_extension": ".py",
   "mimetype": "text/x-python",
   "name": "python",
   "nbconvert_exporter": "python",
   "pygments_lexer": "ipython3",
   "version": "3.8.8"
  },
  "orig_nbformat": 4
 },
 "nbformat": 4,
 "nbformat_minor": 2
}
