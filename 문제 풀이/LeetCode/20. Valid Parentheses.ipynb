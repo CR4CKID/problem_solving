{
 "cells": [
  {
   "cell_type": "code",
   "execution_count": 10,
   "metadata": {},
   "outputs": [
    {
     "data": {
      "text/plain": [
       "True"
      ]
     },
     "execution_count": 10,
     "metadata": {},
     "output_type": "execute_result"
    }
   ],
   "source": [
    "def isValid(self, s: str) -> bool:\n",
    "    data = {'(':')', '{':'}', '[':']'}\n",
    "    \n",
    "    def palin(r):\n",
    "        if len(r) % 2 != 0:\n",
    "            return False\n",
    "        try:\n",
    "            for a,b in zip(r[:len(r)//2], r[len(r)//2:][::-1]):\n",
    "                if data[a] != b:\n",
    "                    return False\n",
    "            else:\n",
    "                return True\n",
    "        except:\n",
    "            return False\n",
    "        \n",
    "    while s:\n",
    "        if s[0] in data:\n",
    "            if data[s[0]] in s:\n",
    "                i = s.index(data[s[0]])\n",
    "                if palin(s[:i+1]):\n",
    "                    s = s[i+1:]\n",
    "                else:\n",
    "                    return False\n",
    "            else:\n",
    "                return False    \n",
    "        else:\n",
    "            return False\n",
    "    return True\n",
    "\n",
    "isValid(True,\"{[]}\")"
   ]
  },
  {
   "cell_type": "code",
   "execution_count": 12,
   "metadata": {},
   "outputs": [
    {
     "data": {
      "text/plain": [
       "True"
      ]
     },
     "execution_count": 12,
     "metadata": {},
     "output_type": "execute_result"
    }
   ],
   "source": [
    "def isValid(self, s: str) -> bool:\n",
    "    data = {'(':')', '{':'}', '[':']'}\n",
    "    arr = []\n",
    "    \n",
    "    for a in s:\n",
    "        if a in data:\n",
    "            arr.append(data[a])\n",
    "        else:\n",
    "            try:\n",
    "                if arr.pop() != a:\n",
    "                    return False\n",
    "            except:\n",
    "                return False\n",
    "    else:\n",
    "        if arr:\n",
    "            return False\n",
    "    return True\n",
    "\n",
    "isValid(True,\"(([]){})\")"
   ]
  }
 ],
 "metadata": {
  "interpreter": {
   "hash": "fff8f1baadadc5fbf51030dcb2db9f6c81b6acfa6e5b0bb822f1d9b4c699540c"
  },
  "kernelspec": {
   "display_name": "Python 3.8.8 ('base')",
   "language": "python",
   "name": "python3"
  },
  "language_info": {
   "codemirror_mode": {
    "name": "ipython",
    "version": 3
   },
   "file_extension": ".py",
   "mimetype": "text/x-python",
   "name": "python",
   "nbconvert_exporter": "python",
   "pygments_lexer": "ipython3",
   "version": "3.8.8"
  },
  "orig_nbformat": 4
 },
 "nbformat": 4,
 "nbformat_minor": 2
}
