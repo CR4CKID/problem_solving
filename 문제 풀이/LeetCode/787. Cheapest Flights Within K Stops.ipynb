{
 "cells": [
  {
   "cell_type": "code",
   "execution_count": 63,
   "metadata": {},
   "outputs": [],
   "source": [
    "class Solution:\n",
    "    def findCheapestPrice(self, n: int, flights, src: int, dst: int, k: int):\n",
    "        from collections import defaultdict\n",
    "        import heapq\n",
    "\n",
    "        graph = defaultdict(list)\n",
    "        for a, b, p in flights:\n",
    "            graph[a].append((b, p))\n",
    "\n",
    "        Q = [(0, src, k)]\n",
    "        visited = set()\n",
    "\n",
    "        while Q:\n",
    "            p1, a, t = heapq.heappop(Q)\n",
    "            if a == dst:\n",
    "                return p1\n",
    "            if t >= 0 and (a, t) not in visited:\n",
    "                for b, p2 in graph[a]:\n",
    "                    heapq.heappush(Q, (p1 + p2, b, t - 1))\n",
    "                visited.add((a, t))\n",
    "\n",
    "        return -1"
   ]
  },
  {
   "cell_type": "code",
   "execution_count": 70,
   "metadata": {},
   "outputs": [],
   "source": [
    "class Solution:\n",
    "    def findCheapestPrice(self, n: int, flights, src: int, dst: int, k: int):\n",
    "        from collections import defaultdict\n",
    "        import heapq\n",
    "\n",
    "        graph = defaultdict(list)\n",
    "        for a, b, p in flights:\n",
    "            graph[a].append((b, p))\n",
    "\n",
    "        Q = [(0, src, k)]\n",
    "        visited = dict()\n",
    "\n",
    "        while Q:\n",
    "            p1, a, t = heapq.heappop(Q)\n",
    "            if a == dst:\n",
    "                return p1\n",
    "            if t >= 0 and (a not in visited or visited[a] < t):\n",
    "                for b, p2 in graph[a]:\n",
    "                    heapq.heappush(Q, (p1 + p2, b, t - 1))\n",
    "                visited[a] = t\n",
    "\n",
    "        return -1"
   ]
  },
  {
   "cell_type": "code",
   "execution_count": 71,
   "metadata": {},
   "outputs": [
    {
     "data": {
      "text/plain": [
       "7"
      ]
     },
     "execution_count": 71,
     "metadata": {},
     "output_type": "execute_result"
    }
   ],
   "source": [
    "Solution().findCheapestPrice(5,\n",
    "[[0,1,5],[1,2,5],[0,3,2],[3,1,2],[1,4,1],[4,2,1]],\n",
    "0,\n",
    "2,\n",
    "2)"
   ]
  },
  {
   "cell_type": "code",
   "execution_count": 69,
   "metadata": {},
   "outputs": [
    {
     "data": {
      "text/plain": [
       "-1"
      ]
     },
     "execution_count": 69,
     "metadata": {},
     "output_type": "execute_result"
    }
   ],
   "source": [
    "arr =[20,\n",
    "    [[11,12,74],[1,8,91],[4,6,13],[7,6,39],[5,12,8],[0,12,54],[8,4,32],[0,11,4],[4,0,91],[11,7,64],[6,3,88],[8,5,80],[11,10,91],[10,0,60],[8,7,92],[12,6,78],[6,2,8],[4,3,54],[3,11,76],[3,12,23],[11,6,79],[6,12,36],[2,11,100],[2,5,49],[7,0,17],[5,8,95],[3,9,98],[8,10,61],[2,12,38],[5,7,58],[9,4,37],[8,6,79],[9,0,1],[2,3,12],[7,10,7],[12,10,52],[7,2,68],[12,2,100],[6,9,53],[7,4,90],[0,5,43],[11,2,52],[11,8,50],[12,4,38],[7,9,94],[2,7,38],[3,7,88],[9,12,20],[12,0,26],[10,5,38],[12,8,50],[0,2,77],[11,0,13],[9,10,76],[2,6,67],[5,6,34],[9,7,62],[5,3,67]], 10, 1, 10\n",
    "    ]\n",
    "\n",
    "Solution().findCheapestPrice(*arr)"
   ]
  },
  {
   "cell_type": "code",
   "execution_count": 66,
   "metadata": {},
   "outputs": [
    {
     "data": {
      "text/plain": [
       "5"
      ]
     },
     "execution_count": 66,
     "metadata": {},
     "output_type": "execute_result"
    }
   ],
   "source": [
    "arr2 = [5,\n",
    "[[1,2,10],[2,0,7],[1,3,8],[4,0,10],[3,4,2],[4,2,10],[0,3,3],[3,1,6],[2,4,5]],\n",
    "0,\n",
    "4,\n",
    "1]\n",
    "\n",
    "Solution().findCheapestPrice(*arr2)"
   ]
  },
  {
   "cell_type": "code",
   "execution_count": 67,
   "metadata": {},
   "outputs": [
    {
     "data": {
      "text/plain": [
       "-1"
      ]
     },
     "execution_count": 67,
     "metadata": {},
     "output_type": "execute_result"
    }
   ],
   "source": [
    "arr3 =[19,\n",
    "[[3,15,7066],[2,7,9254],[15,12,54],[6,8,8137],[7,12,9819],[5,2,7956],[14,3,6675],[8,14,4543],[5,13,1689],[2,12,1220],[9,15,5710],[11,13,5799],[16,3,154],[4,6,5499],[13,2,1143],[0,6,485],[16,2,5211],[9,7,4453],[0,8,8798],[4,9,4760],[16,6,9182],[6,18,3774],[17,3,630],[0,2,5689],[18,1,4688],[4,11,4044],[14,0,4253],[2,18,3697],[16,18,7525],[15,14,1480],[2,10,4931],[10,8,1741],[3,10,7964],[7,15,7880],[17,2,9694],[6,14,9167],[10,1,6844],[13,3,4742],[16,15,6428],[0,1,5819],[13,17,2815],[14,17,5654],[5,3,8906],[9,14,9342],[7,17,3559],[16,12,2633],[17,9,331],[10,4,3234],[2,17,9607],[12,5,2003],[5,9,6784],[15,0,175],[10,11,6834],[2,9,6348],[18,13,7372],[15,7,3535],[1,14,7877],[1,4,8036],[7,16,7089],[1,12,6523],[4,14,3668],[1,10,8785],[1,13,1219],[13,11,8834],[18,11,2920],[12,2,531],[4,17,8509],[2,11,3368],[16,5,5302],[14,5,6143],[10,14,1639],[10,16,7114],[10,13,9941],[13,18,1779],[9,5,5628],[12,14,2892],[11,17,1064],[1,17,8652],[15,16,8192],[9,10,260],[7,1,6405],[16,7,3532],[3,0,9842],[12,16,3233],[13,1,8375],[10,7,6730],[18,4,6232],[17,5,7097],[14,13,7290],[10,2,4442],[13,5,8228],[14,6,4709],[6,11,4636],[14,8,10000],[8,9,9133],[5,18,6091],[10,3,6397],[4,3,8425],[14,12,7883],[4,16,901],[16,4,4051],[1,0,7827],[5,11,8596],[18,9,4058],[18,6,5500],[16,9,2414],[12,11,4230],[1,6,3821],[18,0,1299],[11,5,4232],[15,2,5251],[12,13,1716],[17,15,3],[0,16,1708],[3,11,661],[17,16,9213],[8,0,2913],[2,6,556],[5,1,9106],[16,10,7006],[2,13,3038]],\n",
    "12,\n",
    "10,\n",
    "0]\n",
    "\n",
    "Solution().findCheapestPrice(*arr3)"
   ]
  },
  {
   "cell_type": "code",
   "execution_count": 68,
   "metadata": {},
   "outputs": [
    {
     "data": {
      "text/plain": [
       "6"
      ]
     },
     "execution_count": 68,
     "metadata": {},
     "output_type": "execute_result"
    }
   ],
   "source": [
    "arr4 = [4,\n",
    "[[0,1,1],[0,2,5],[1,2,1],[2,3,1]],\n",
    "0,\n",
    "3,\n",
    "1]\n",
    "\n",
    "Solution().findCheapestPrice(*arr4)"
   ]
  }
 ],
 "metadata": {
  "interpreter": {
   "hash": "fff8f1baadadc5fbf51030dcb2db9f6c81b6acfa6e5b0bb822f1d9b4c699540c"
  },
  "kernelspec": {
   "display_name": "Python 3.8.8 ('base')",
   "language": "python",
   "name": "python3"
  },
  "language_info": {
   "codemirror_mode": {
    "name": "ipython",
    "version": 3
   },
   "file_extension": ".py",
   "mimetype": "text/x-python",
   "name": "python",
   "nbconvert_exporter": "python",
   "pygments_lexer": "ipython3",
   "version": "3.8.8"
  },
  "orig_nbformat": 4
 },
 "nbformat": 4,
 "nbformat_minor": 2
}
