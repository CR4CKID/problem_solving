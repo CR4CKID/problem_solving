{
 "cells": [
  {
   "cell_type": "code",
   "execution_count": 12,
   "metadata": {},
   "outputs": [],
   "source": [
    "class TreeNode:\n",
    "    def __init__(self, val=0, left=None, right=None):\n",
    "        self.val = val\n",
    "        self.left = left\n",
    "        self.right = right\n",
    "    \n",
    "    def __str__(self):\n",
    "        return str(self.val)\n",
    "\n",
    "class Tree:\n",
    "    def __init__(self):\n",
    "        self.root = None\n",
    "        \n",
    "    def makeroot(self, node, left_node,right_node):\n",
    "        if self.root == None:\n",
    "            self.root = node\n",
    "        node.left = left_node\n",
    "        node.right = right_node\n",
    "\n",
    "def ListToTree(arr):\n",
    "    node = [TreeNode(n) for n in arr]\n",
    "    if len(node) % 2 == 0:\n",
    "        node.append(TreeNode(None))\n",
    "    a = node[0]\n",
    "    for i in range(int(len(node)/2)):\n",
    "        Tree().makeroot(node[i],node[i*2+1],node[i*2+2])\n",
    "    return a\n",
    "\n",
    "\n",
    "def TreePrint(tree):\n",
    "    from collections import defaultdict\n",
    "    arr = defaultdict(list)\n",
    "    def dfs(node,depth=0):\n",
    "        if node:\n",
    "            arr[depth].append(node.val)\n",
    "            dfs(node.left, depth+1)\n",
    "            dfs(node.right, depth+1)\n",
    "    dfs(tree)\n",
    "    for n in list(arr):\n",
    "        print('|'.join(map(str,arr[n])).center(40,' '))\n",
    "        \n",
    "\n",
    "def preprocessing(arr):\n",
    "    TreePrint(ListToTree(arr))"
   ]
  },
  {
   "cell_type": "code",
   "execution_count": 39,
   "metadata": {},
   "outputs": [
    {
     "ename": "IndexError",
     "evalue": "list index out of range",
     "output_type": "error",
     "traceback": [
      "\u001b[1;31m---------------------------------------------------------------------------\u001b[0m",
      "\u001b[1;31mIndexError\u001b[0m                                Traceback (most recent call last)",
      "\u001b[1;32mc:\\Users\\CRACKID\\Desktop\\PythonWorkspace\\문제 풀이\\LeetCode\\297. Serialize and Deserialize Binary Tree.ipynb Cell 2'\u001b[0m in \u001b[0;36m<module>\u001b[1;34m\u001b[0m\n\u001b[0;32m     <a href='vscode-notebook-cell:/c%3A/Users/CRACKID/Desktop/PythonWorkspace/%EB%AC%B8%EC%A0%9C%20%ED%92%80%EC%9D%B4/LeetCode/297.%20Serialize%20and%20Deserialize%20Binary%20Tree.ipynb#ch0000001?line=40'>41</a>\u001b[0m             index \u001b[39m+\u001b[39m\u001b[39m=\u001b[39m \u001b[39m1\u001b[39m\n\u001b[0;32m     <a href='vscode-notebook-cell:/c%3A/Users/CRACKID/Desktop/PythonWorkspace/%EB%AC%B8%EC%A0%9C%20%ED%92%80%EC%9D%B4/LeetCode/297.%20Serialize%20and%20Deserialize%20Binary%20Tree.ipynb#ch0000001?line=42'>43</a>\u001b[0m         \u001b[39mreturn\u001b[39;00m root\n\u001b[1;32m---> <a href='vscode-notebook-cell:/c%3A/Users/CRACKID/Desktop/PythonWorkspace/%EB%AC%B8%EC%A0%9C%20%ED%92%80%EC%9D%B4/LeetCode/297.%20Serialize%20and%20Deserialize%20Binary%20Tree.ipynb#ch0000001?line=45'>46</a>\u001b[0m Codec()\u001b[39m.\u001b[39mserialize(Codec()\u001b[39m.\u001b[39;49mdeserialize(\u001b[39m'\u001b[39;49m\u001b[39m#12345\u001b[39;49m\u001b[39m'\u001b[39;49m))\n",
      "\u001b[1;32mc:\\Users\\CRACKID\\Desktop\\PythonWorkspace\\문제 풀이\\LeetCode\\297. Serialize and Deserialize Binary Tree.ipynb Cell 2'\u001b[0m in \u001b[0;36mCodec.deserialize\u001b[1;34m(self, data)\u001b[0m\n\u001b[0;32m     <a href='vscode-notebook-cell:/c%3A/Users/CRACKID/Desktop/PythonWorkspace/%EB%AC%B8%EC%A0%9C%20%ED%92%80%EC%9D%B4/LeetCode/297.%20Serialize%20and%20Deserialize%20Binary%20Tree.ipynb#ch0000001?line=22'>23</a>\u001b[0m     \u001b[39mreturn\u001b[39;00m \u001b[39mNone\u001b[39;00m\n\u001b[0;32m     <a href='vscode-notebook-cell:/c%3A/Users/CRACKID/Desktop/PythonWorkspace/%EB%AC%B8%EC%A0%9C%20%ED%92%80%EC%9D%B4/LeetCode/297.%20Serialize%20and%20Deserialize%20Binary%20Tree.ipynb#ch0000001?line=24'>25</a>\u001b[0m nodes \u001b[39m=\u001b[39m data\u001b[39m.\u001b[39msplit()\n\u001b[1;32m---> <a href='vscode-notebook-cell:/c%3A/Users/CRACKID/Desktop/PythonWorkspace/%EB%AC%B8%EC%A0%9C%20%ED%92%80%EC%9D%B4/LeetCode/297.%20Serialize%20and%20Deserialize%20Binary%20Tree.ipynb#ch0000001?line=26'>27</a>\u001b[0m root \u001b[39m=\u001b[39m TreeNode(\u001b[39mint\u001b[39m(nodes[\u001b[39m1\u001b[39;49m]))\n\u001b[0;32m     <a href='vscode-notebook-cell:/c%3A/Users/CRACKID/Desktop/PythonWorkspace/%EB%AC%B8%EC%A0%9C%20%ED%92%80%EC%9D%B4/LeetCode/297.%20Serialize%20and%20Deserialize%20Binary%20Tree.ipynb#ch0000001?line=27'>28</a>\u001b[0m queue \u001b[39m=\u001b[39m deque([root])\n\u001b[0;32m     <a href='vscode-notebook-cell:/c%3A/Users/CRACKID/Desktop/PythonWorkspace/%EB%AC%B8%EC%A0%9C%20%ED%92%80%EC%9D%B4/LeetCode/297.%20Serialize%20and%20Deserialize%20Binary%20Tree.ipynb#ch0000001?line=28'>29</a>\u001b[0m index \u001b[39m=\u001b[39m \u001b[39m2\u001b[39m\n",
      "\u001b[1;31mIndexError\u001b[0m: list index out of range"
     ]
    }
   ],
   "source": [
    "class Codec:\n",
    "    def serialize(self, root):\n",
    "        from collections import deque\n",
    "        queue = deque([[root]])\n",
    "        result = ['#']\n",
    "        \n",
    "        while queue:\n",
    "            node = queue.popleft()\n",
    "            if node:\n",
    "                queue.append(node.left)\n",
    "                queue.append(node.right)\n",
    "                \n",
    "                result.append(str(node.val))\n",
    "                \n",
    "            else:\n",
    "                result.append('#')\n",
    "        return ' '.join(result)\n",
    "        \n",
    "\n",
    "    def deserialize(self, data):\n",
    "        from collections import deque\n",
    "        if data == '# #':\n",
    "            return None\n",
    "        \n",
    "        nodes = data.split()\n",
    "        \n",
    "        root = TreeNode(int(nodes[1]))\n",
    "        queue = deque([root])\n",
    "        index = 2\n",
    "        \n",
    "        while queue:\n",
    "            node = queue.popleft()\n",
    "            if nodes[index] != '#':\n",
    "                node.left = TreeNode(int(nodes[index]))\n",
    "                queue.append(node.left)   \n",
    "            index += 1\n",
    "            \n",
    "            if nodes[index] != '#':\n",
    "                node.right = TreeNode(int(nodes[index]))\n",
    "                queue.append(node.right)\n",
    "            index += 1\n",
    "        \n",
    "        return root\n",
    "\n",
    "\n",
    "Codec().serialize(Codec().deserialize('#12345'))"
   ]
  }
 ],
 "metadata": {
  "interpreter": {
   "hash": "fff8f1baadadc5fbf51030dcb2db9f6c81b6acfa6e5b0bb822f1d9b4c699540c"
  },
  "kernelspec": {
   "display_name": "Python 3.8.8 ('base')",
   "language": "python",
   "name": "python3"
  },
  "language_info": {
   "codemirror_mode": {
    "name": "ipython",
    "version": 3
   },
   "file_extension": ".py",
   "mimetype": "text/x-python",
   "name": "python",
   "nbconvert_exporter": "python",
   "pygments_lexer": "ipython3",
   "version": "3.8.8"
  },
  "orig_nbformat": 4
 },
 "nbformat": 4,
 "nbformat_minor": 2
}
