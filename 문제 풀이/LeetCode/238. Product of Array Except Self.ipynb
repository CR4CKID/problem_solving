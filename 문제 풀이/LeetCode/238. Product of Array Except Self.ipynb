{
 "cells": [
  {
   "cell_type": "code",
   "execution_count": 17,
   "metadata": {},
   "outputs": [
    {
     "data": {
      "text/plain": [
       "[0, 4, 8, 3]"
      ]
     },
     "execution_count": 17,
     "metadata": {},
     "output_type": "execute_result"
    }
   ],
   "source": [
    "nums = [1,2,3,4]\n",
    "\n",
    "ans = [1] * len(nums)\n",
    "for i in range(len(nums)):\n",
    "    ans = map(lambda a: a*nums[i] if a != i else a, range(len(nums)))\n",
    "list(ans)"
   ]
  },
  {
   "cell_type": "code",
   "execution_count": 10,
   "metadata": {},
   "outputs": [
    {
     "data": {
      "text/plain": [
       "[0, 0]"
      ]
     },
     "execution_count": 10,
     "metadata": {},
     "output_type": "execute_result"
    }
   ],
   "source": [
    "nums = [0,0]\n",
    "\n",
    "from functools import reduce\n",
    "ans = []\n",
    "\n",
    "for i1 in range(len(nums)):\n",
    "    ans.append(reduce(lambda a,b:a*b, [nums[i2] for i2 in range(len(nums)) if i1 != i2]))\n",
    "ans"
   ]
  },
  {
   "cell_type": "code",
   "execution_count": 31,
   "metadata": {},
   "outputs": [
    {
     "data": {
      "text/plain": [
       "[24, 12, 8, 6]"
      ]
     },
     "execution_count": 31,
     "metadata": {},
     "output_type": "execute_result"
    }
   ],
   "source": [
    "nums = [1,2,3,4]\n",
    "\n",
    "out = []\n",
    "p = 1\n",
    "\n",
    "for i in range(len(nums)):\n",
    "    out.append(p)\n",
    "    p = p * nums[i]\n",
    "\n",
    "p = 1\n",
    "for i in range(len(nums)-1,-1,-1):\n",
    "    out[i] *= p\n",
    "    p = p * nums[i]\n",
    "    \n",
    "out"
   ]
  }
 ],
 "metadata": {
  "interpreter": {
   "hash": "fff8f1baadadc5fbf51030dcb2db9f6c81b6acfa6e5b0bb822f1d9b4c699540c"
  },
  "kernelspec": {
   "display_name": "Python 3.8.8 ('base')",
   "language": "python",
   "name": "python3"
  },
  "language_info": {
   "codemirror_mode": {
    "name": "ipython",
    "version": 3
   },
   "file_extension": ".py",
   "mimetype": "text/x-python",
   "name": "python",
   "nbconvert_exporter": "python",
   "pygments_lexer": "ipython3",
   "version": "3.8.8"
  },
  "orig_nbformat": 4
 },
 "nbformat": 4,
 "nbformat_minor": 2
}
