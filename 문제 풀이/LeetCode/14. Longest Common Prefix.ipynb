{
 "cells": [
  {
   "cell_type": "code",
   "execution_count": 2,
   "metadata": {},
   "outputs": [
    {
     "data": {
      "text/plain": [
       "'aa'"
      ]
     },
     "execution_count": 2,
     "metadata": {},
     "output_type": "execute_result"
    }
   ],
   "source": [
    "def longestCommonPrefix(self, strs) -> str:\n",
    "    ans = strs.pop()\n",
    "    for str in strs:\n",
    "        if len(str) == 0:\n",
    "            return ''\n",
    "        for i in range(min(len(ans), len(str))):\n",
    "            if str[i] != ans[i]:\n",
    "                ans = ans[:i]\n",
    "                break\n",
    "        else:\n",
    "            ans = ans[:(min(len(ans), len(str)))]\n",
    "    return ans\n",
    "\n",
    "longestCommonPrefix(True, [\"aaa\",\"aa\",\"aaa\"])"
   ]
  }
 ],
 "metadata": {
  "interpreter": {
   "hash": "fff8f1baadadc5fbf51030dcb2db9f6c81b6acfa6e5b0bb822f1d9b4c699540c"
  },
  "kernelspec": {
   "display_name": "Python 3.8.8 ('base')",
   "language": "python",
   "name": "python3"
  },
  "language_info": {
   "codemirror_mode": {
    "name": "ipython",
    "version": 3
   },
   "file_extension": ".py",
   "mimetype": "text/x-python",
   "name": "python",
   "nbconvert_exporter": "python",
   "pygments_lexer": "ipython3",
   "version": "3.8.8"
  },
  "orig_nbformat": 4
 },
 "nbformat": 4,
 "nbformat_minor": 2
}
