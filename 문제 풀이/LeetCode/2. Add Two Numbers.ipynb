{
 "cells": [
  {
   "cell_type": "code",
   "execution_count": 45,
   "metadata": {},
   "outputs": [
    {
     "data": {
      "text/plain": [
       "[[0, 0, 0]]"
      ]
     },
     "execution_count": 45,
     "metadata": {},
     "output_type": "execute_result"
    }
   ],
   "source": [
    "class Solution:\n",
    "    def threeSum(self, nums):\n",
    "        nums.sort()\n",
    "        ans = []\n",
    "        for i in range(len(nums)):\n",
    "            if i > 0 and nums[i] == nums[i-1]:\n",
    "                continue\n",
    "            j, k = i+1, len(nums)-1\n",
    "            while j<k:\n",
    "                if nums[i]+nums[j]+nums[k] == 0:\n",
    "                    ans.append([nums[i],nums[j],nums[k]])\n",
    "                    j += 1\n",
    "                    k -= 1\n",
    "                    while j<k and nums[j] == nums[j-1]:\n",
    "                        j += 1\n",
    "                    while j<k and nums[k] == nums[k+1]:\n",
    "                        k -= 1    \n",
    "                elif nums[i]+nums[j]+nums[k] > 0:\n",
    "                    k -= 1\n",
    "                else:\n",
    "                    j += 1\n",
    "                \n",
    "                    \n",
    "        return ans\n",
    "Solution().threeSum([0,0,0])"
   ]
  },
  {
   "cell_type": "code",
   "execution_count": 1,
   "metadata": {},
   "outputs": [],
   "source": [
    "class ListNode:\n",
    "    def __init__(self, val=0, next=None):\n",
    "        self.val = val\n",
    "        self.next = next\n",
    "def makeListNode(head):\n",
    "    edit = arr = ListNode()\n",
    "    for n in head:\n",
    "        edit.next = ListNode(n)\n",
    "        edit = edit.next\n",
    "    return arr.next"
   ]
  },
  {
   "cell_type": "code",
   "execution_count": 20,
   "metadata": {},
   "outputs": [
    {
     "data": {
      "text/plain": [
       "[8, 9, 0, 1]"
      ]
     },
     "execution_count": 20,
     "metadata": {},
     "output_type": "execute_result"
    }
   ],
   "source": [
    "class Solution:\n",
    "    def addTwoNumbers(self, l1, l2):\n",
    "        num = ed = ListNode()\n",
    "        plus = 0\n",
    "        while l1 or l2 or plus == 1:\n",
    "            s = 0\n",
    "            if l1:\n",
    "                s += l1.val\n",
    "                l1 = l1.next\n",
    "            if l2:\n",
    "                s += l2.val\n",
    "                l2 = l2.next\n",
    "            plus, b = divmod(s+plus,10)\n",
    "            ed.next = ListNode(b)\n",
    "            ed= ed.next\n",
    "        return num.next\n",
    "\n",
    "a = Solution().addTwoNumbers(makeListNode([9,9]),makeListNode([9,9,9]))\n",
    "arr = []\n",
    "while a != None:\n",
    "    arr.append(a.val)\n",
    "    a = a.next\n",
    "arr"
   ]
  },
  {
   "cell_type": "code",
   "execution_count": 6,
   "metadata": {},
   "outputs": [],
   "source": [
    "def addTwoNumbers(self, l1, l2):\n",
    "    dummy = cur = ListNode(0)\n",
    "    prev = 0\n",
    "    \n",
    "    while l1 and l2:\n",
    "        div =  divmod(l1.val + l2.val + prev, 10)\n",
    "        prev = div[0]\n",
    "        cur.next = ListNode(div[1])\n",
    "        cur, l1, l2 = cur.next, l1.next, l2.next\n",
    "    while l1:\n",
    "        div =  divmod(l1.val+prev, 10)\n",
    "        prev = div[0]\n",
    "        cur.next = ListNode(div[1])\n",
    "        cur, l1= cur.next, l1.next\n",
    "    while l2:\n",
    "        div =  divmod(l2.val+prev, 10)\n",
    "        prev = div[0]\n",
    "        cur.next = ListNode(div[1])\n",
    "        cur, l2= cur.next, l2.next\n",
    "    if prev == 1:\n",
    "        cur.next = ListNode(1) \n",
    "    return dummy.next"
   ]
  },
  {
   "cell_type": "code",
   "execution_count": null,
   "metadata": {},
   "outputs": [],
   "source": [
    "def addTwoNumbers(self, l1, l2):\n",
    "    carry = 0\n",
    "    root = n = ListNode(0)\n",
    "    while l1 or l2 or carry:\n",
    "        v1 = v2 = 0\n",
    "        if l1:\n",
    "            v1 = l1.val\n",
    "            l1 = l1.next\n",
    "        if l2:\n",
    "            v2 = l2.val\n",
    "            l2 = l2.next\n",
    "        carry, val = divmod(v1+v2+carry, 10)\n",
    "        n.next = ListNode(val)\n",
    "        n = n.next\n",
    "    return root.next"
   ]
  }
 ],
 "metadata": {
  "interpreter": {
   "hash": "fff8f1baadadc5fbf51030dcb2db9f6c81b6acfa6e5b0bb822f1d9b4c699540c"
  },
  "kernelspec": {
   "display_name": "Python 3.8.8 64-bit ('base': conda)",
   "name": "python3"
  },
  "language_info": {
   "codemirror_mode": {
    "name": "ipython",
    "version": 3
   },
   "file_extension": ".py",
   "mimetype": "text/x-python",
   "name": "python",
   "nbconvert_exporter": "python",
   "pygments_lexer": "ipython3",
   "version": "3.8.8"
  },
  "orig_nbformat": 4
 },
 "nbformat": 4,
 "nbformat_minor": 2
}
