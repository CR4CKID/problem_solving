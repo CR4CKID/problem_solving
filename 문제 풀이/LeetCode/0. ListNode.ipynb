{
 "cells": [
  {
   "cell_type": "code",
   "execution_count": null,
   "metadata": {},
   "outputs": [],
   "source": [
    "class ListNode:\n",
    "    def __init__(self, val=0, next=None):\n",
    "        self.val = val\n",
    "        self.next = next\n",
    "def makeListNode(head):\n",
    "    edit = arr = ListNode()\n",
    "    for n in head:\n",
    "        edit.next = ListNode(n)\n",
    "        edit = edit.next\n",
    "    return arr.next"
   ]
  },
  {
   "cell_type": "code",
   "execution_count": null,
   "metadata": {},
   "outputs": [],
   "source": [
    "a = Solution()\n",
    "arr = []\n",
    "while a != None:\n",
    "    arr.append(a.val)\n",
    "    a = a.next\n",
    "arr"
   ]
  }
 ],
 "metadata": {
  "language_info": {
   "name": "python"
  },
  "orig_nbformat": 4
 },
 "nbformat": 4,
 "nbformat_minor": 2
}
