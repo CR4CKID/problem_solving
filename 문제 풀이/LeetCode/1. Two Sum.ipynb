{
 "cells": [
  {
   "cell_type": "code",
   "execution_count": 10,
   "metadata": {},
   "outputs": [
    {
     "data": {
      "text/plain": [
       "[4, 2]"
      ]
     },
     "execution_count": 10,
     "metadata": {},
     "output_type": "execute_result"
    }
   ],
   "source": [
    "class Solution:\n",
    "    def twoSum(self, nums, target):\n",
    "        nums_s = sorted(nums)\n",
    "        for num in nums_s:\n",
    "            if target - num in nums_s[::-1]:\n",
    "                if num * 2 == target:\n",
    "                    return [nums.index(num),nums.index(target-num, nums.index(num)+1)]\n",
    "                return [nums.index(num),nums.index(target-num)]\n",
    "            \n",
    "Solution.twoSum(None, [-1,-2,-3,-4,-5], -8)"
   ]
  },
  {
   "cell_type": "code",
   "execution_count": 11,
   "metadata": {},
   "outputs": [
    {
     "data": {
      "text/plain": [
       "[2, 4]"
      ]
     },
     "execution_count": 11,
     "metadata": {},
     "output_type": "execute_result"
    }
   ],
   "source": [
    "class Solution:\n",
    "    def twoSum(self, nums, target):\n",
    "        d = {}\n",
    "        for i, n in enumerate(nums):\n",
    "            m = target - n\n",
    "            if m in d:\n",
    "                return [d[m], i]\n",
    "            else:\n",
    "                d[n] = i\n",
    "            \n",
    "Solution.twoSum(None, [-1,-2,-3,-4,-5], -8)"
   ]
  },
  {
   "cell_type": "code",
   "execution_count": 12,
   "metadata": {},
   "outputs": [
    {
     "data": {
      "text/plain": [
       "[2, 1]"
      ]
     },
     "execution_count": 12,
     "metadata": {},
     "output_type": "execute_result"
    }
   ],
   "source": [
    "nums = [3,2,4]\n",
    "target = 6\n",
    "\n",
    "for n1 in nums:\n",
    "    nums2 = nums[:]\n",
    "    nums2.remove(n1)\n",
    "    for n2 in nums2:\n",
    "        if n1 + n2 == target:\n",
    "            if n1 != n2:\n",
    "                ans = [nums.index(n1),nums.index(n2)]\n",
    "            else:\n",
    "                ans =  list(filter(lambda x: nums[x]==n1, range(len(nums))))[:2]\n",
    "\n",
    "ans  "
   ]
  },
  {
   "cell_type": "code",
   "execution_count": null,
   "metadata": {},
   "outputs": [],
   "source": [
    "nums = [3,2,4]\n",
    "target = 6\n",
    "\n",
    "for i, n1 in enumerate(nums):\n",
    "    if target - n1 in nums[i+1:]:\n",
    "        return list(filter(lambda x: nums[x] in [n1,target-n1], range(len(nums))))"
   ]
  },
  {
   "cell_type": "code",
   "execution_count": null,
   "metadata": {},
   "outputs": [],
   "source": [
    "nums = [3,2,4]\n",
    "target = 6\n",
    "\n",
    "nums_dict = {}\n",
    "for i, n in enumerate(nums):\n",
    "    nums_dict[n] = i\n",
    "for i, n in enumerate(nums):\n",
    "    if target - n in nums_dict and i != nums_dict[target-n]:\n",
    "        return [i, nums_dict[target-n]]"
   ]
  }
 ],
 "metadata": {
  "interpreter": {
   "hash": "fff8f1baadadc5fbf51030dcb2db9f6c81b6acfa6e5b0bb822f1d9b4c699540c"
  },
  "kernelspec": {
   "display_name": "Python 3.8.8 ('base')",
   "language": "python",
   "name": "python3"
  },
  "language_info": {
   "codemirror_mode": {
    "name": "ipython",
    "version": 3
   },
   "file_extension": ".py",
   "mimetype": "text/x-python",
   "name": "python",
   "nbconvert_exporter": "python",
   "pygments_lexer": "ipython3",
   "version": "3.8.8"
  },
  "orig_nbformat": 4
 },
 "nbformat": 4,
 "nbformat_minor": 2
}
