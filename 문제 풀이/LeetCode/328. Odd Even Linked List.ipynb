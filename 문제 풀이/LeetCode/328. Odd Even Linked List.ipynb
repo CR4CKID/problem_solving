{
 "cells": [
  {
   "cell_type": "code",
   "execution_count": 41,
   "metadata": {},
   "outputs": [],
   "source": [
    "class ListNode:\n",
    "    def __init__(self, val=0, next=None):\n",
    "        self.val = val\n",
    "        self.next = next\n",
    "\n",
    "def makeListNode(head):\n",
    "    edit = arr = ListNode()\n",
    "    for n in head:\n",
    "        edit.next = ListNode(n)\n",
    "        edit = edit.next\n",
    "    return arr.next\n",
    "\n",
    "def Node_to_List(head):\n",
    "    arr = []\n",
    "    while head != None:\n",
    "        arr.append(head.val)\n",
    "        head = head.next\n",
    "    return arr\n"
   ]
  },
  {
   "cell_type": "code",
   "execution_count": 65,
   "metadata": {},
   "outputs": [
    {
     "name": "stdout",
     "output_type": "stream",
     "text": [
      "[1, 2, 3, 4, 5, 6, 7] [2, 3, 4, 5, 6, 7] [2, 3, 4, 5, 6, 7]\n",
      "[1, 3, 4, 5, 6, 7] [2, 4, 5, 6, 7] [2, 4, 5, 6, 7]\n",
      "\n",
      "[3, 4, 5, 6, 7] [4, 5, 6, 7] [2, 4, 5, 6, 7]\n",
      "[3, 5, 6, 7] [4, 6, 7] [2, 4, 6, 7]\n",
      "\n",
      "[5, 6, 7] [6, 7] [2, 4, 6, 7]\n",
      "[5, 7] [6] [2, 4, 6]\n",
      "\n"
     ]
    },
    {
     "data": {
      "text/plain": [
       "[1, 3, 5, 7, 2, 4, 6]"
      ]
     },
     "execution_count": 65,
     "metadata": {},
     "output_type": "execute_result"
    }
   ],
   "source": [
    "class Solution:\n",
    "    def oddEvenList(self, head):\n",
    "        if head is None:\n",
    "            return None\n",
    "        \n",
    "        odd = head\n",
    "        ehead = even = head.next\n",
    "        \n",
    "        while even and even.next:\n",
    "            print(Node_to_List(odd), Node_to_List(even), Node_to_List(ehead))\n",
    "            odd.next, even.next = odd.next.next, even.next.next\n",
    "            print(Node_to_List(odd), Node_to_List(even), Node_to_List(ehead))\n",
    "            print()\n",
    "            odd, even = odd.next, even.next\n",
    "            \n",
    "        odd.next = ehead\n",
    "        return head\n",
    "\n",
    "\n",
    "Node_to_List(Solution().oddEvenList(makeListNode([1,2,3,4,5,6,7])))\n"
   ]
  }
 ],
 "metadata": {
  "interpreter": {
   "hash": "fff8f1baadadc5fbf51030dcb2db9f6c81b6acfa6e5b0bb822f1d9b4c699540c"
  },
  "kernelspec": {
   "display_name": "Python 3.8.8 64-bit ('base': conda)",
   "name": "python3"
  },
  "language_info": {
   "codemirror_mode": {
    "name": "ipython",
    "version": 3
   },
   "file_extension": ".py",
   "mimetype": "text/x-python",
   "name": "python",
   "nbconvert_exporter": "python",
   "pygments_lexer": "ipython3",
   "version": "3.8.8"
  },
  "orig_nbformat": 4
 },
 "nbformat": 4,
 "nbformat_minor": 2
}
