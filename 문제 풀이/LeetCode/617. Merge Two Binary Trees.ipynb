{
 "cells": [
  {
   "cell_type": "code",
   "execution_count": 2,
   "metadata": {},
   "outputs": [],
   "source": [
    "class TreeNode:\n",
    "    def __init__(self, val=0, left=None, right=None):\n",
    "        self.val = val\n",
    "        self.left = left\n",
    "        self.right = right\n",
    "    \n",
    "    def __str__(self):\n",
    "        return str(self.val)\n",
    "\n",
    "class Tree:\n",
    "    def __init__(self):\n",
    "        self.root = None\n",
    "        \n",
    "    def makeroot(self, node, left_node,right_node):\n",
    "        if self.root == None:\n",
    "            self.root = node\n",
    "        node.left = left_node\n",
    "        node.right = right_node\n",
    "\n",
    "def ListToTree(arr):\n",
    "    node = [TreeNode(n) for n in arr]\n",
    "    if len(node) % 2 == 0:\n",
    "        node.append(TreeNode(None))\n",
    "    a = node[0]\n",
    "    for i in range(int(len(node)/2)):\n",
    "        Tree().makeroot(node[i],node[i*2+1],node[i*2+2])\n",
    "    return a\n",
    "\n",
    "\n",
    "def TreePrint(tree):\n",
    "    from collections import defaultdict\n",
    "    arr = defaultdict(list)\n",
    "    def dfs(node,depth=0):\n",
    "        if node:\n",
    "            arr[depth].append(node.val)\n",
    "            dfs(node.left, depth+1)\n",
    "            dfs(node.right, depth+1)\n",
    "    dfs(tree)\n",
    "    for n in list(arr):\n",
    "        print('|'.join(map(str,arr[n])).center(40,' '))\n",
    "        \n",
    "\n",
    "def preprocessing(arr):\n",
    "    TreePrint(ListToTree(arr))"
   ]
  },
  {
   "cell_type": "code",
   "execution_count": 43,
   "metadata": {},
   "outputs": [
    {
     "name": "stdout",
     "output_type": "stream",
     "text": [
      "                   2                    \n",
      "                  4|6                   \n",
      "                  4|5                   \n"
     ]
    }
   ],
   "source": [
    "class Solution:\n",
    "    def mergeTrees(self, t1, t2):\n",
    "        if t1 and t2:\n",
    "            node = TreeNode(t1.val+t2.val)\n",
    "            node.left = self.mergeTrees(t1.left,t2.left)\n",
    "            node.right = self.mergeTrees(t1.right,t2.right)\n",
    "            return node\n",
    "        else:\n",
    "            return t1 or t2\n",
    "                \n",
    "TreePrint(Solution().mergeTrees(ListToTree([1,2,3]),ListToTree([1,2,3,4,5])))\n"
   ]
  }
 ],
 "metadata": {
  "interpreter": {
   "hash": "fff8f1baadadc5fbf51030dcb2db9f6c81b6acfa6e5b0bb822f1d9b4c699540c"
  },
  "kernelspec": {
   "display_name": "Python 3.8.8 ('base')",
   "language": "python",
   "name": "python3"
  },
  "language_info": {
   "codemirror_mode": {
    "name": "ipython",
    "version": 3
   },
   "file_extension": ".py",
   "mimetype": "text/x-python",
   "name": "python",
   "nbconvert_exporter": "python",
   "pygments_lexer": "ipython3",
   "version": "3.8.8"
  },
  "orig_nbformat": 4
 },
 "nbformat": 4,
 "nbformat_minor": 2
}
