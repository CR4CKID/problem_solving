{
 "cells": [
  {
   "cell_type": "code",
   "execution_count": 1,
   "metadata": {},
   "outputs": [],
   "source": [
    "class ListNode:\n",
    "    def __init__(self, val=0, next=None):\n",
    "        self.val = val\n",
    "        self.next = next\n",
    "\n",
    "def makeListNode(head):\n",
    "    edit = arr = ListNode()\n",
    "    for n in head:\n",
    "        edit.next = ListNode(n)\n",
    "        edit = edit.next\n",
    "    return arr.next\n",
    "\n",
    "def Node_to_List(head):\n",
    "    arr = []\n",
    "    while head != None:\n",
    "        arr.append(head.val)\n",
    "        head = head.next\n",
    "    return arr"
   ]
  },
  {
   "cell_type": "code",
   "execution_count": 84,
   "metadata": {},
   "outputs": [
    {
     "data": {
      "text/plain": [
       "[3, 2, 1, 4, 5]"
      ]
     },
     "execution_count": 84,
     "metadata": {},
     "output_type": "execute_result"
    }
   ],
   "source": [
    "class Solution:\n",
    "    def reverseBetween(self, head, l: int, r: int):\n",
    "        def makeListNode(head):\n",
    "            edit = arr = ListNode()\n",
    "            for n in head:\n",
    "                edit.next = ListNode(n)\n",
    "                edit = edit.next\n",
    "            return arr.next\n",
    "\n",
    "        def Node_to_List(head):\n",
    "            arr = []\n",
    "            while head != None:\n",
    "                arr.append(head.val)\n",
    "                head = head.next\n",
    "            return arr\n",
    "        \n",
    "        arr = Node_to_List(head)\n",
    "        arr = arr[:l-1] + arr[l-1:r][::-1] + arr[r:]\n",
    "        return makeListNode(arr)\n",
    "        \n",
    "Node_to_List(Solution().reverseBetween(makeListNode([1,2,3,4,5]),1,3))"
   ]
  },
  {
   "cell_type": "code",
   "execution_count": 91,
   "metadata": {},
   "outputs": [
    {
     "ename": "KeyboardInterrupt",
     "evalue": "",
     "output_type": "error",
     "traceback": [
      "\u001b[1;31m---------------------------------------------------------------------------\u001b[0m",
      "\u001b[1;31mKeyboardInterrupt\u001b[0m                         Traceback (most recent call last)",
      "\u001b[1;32mc:\\Users\\CRACKID\\Desktop\\PythonWorkspace\\문제 풀이\\LeetCode\\92. Reverse Linked List II.ipynb Cell 3'\u001b[0m in \u001b[0;36m<module>\u001b[1;34m\u001b[0m\n\u001b[0;32m     <a href='vscode-notebook-cell:/c%3A/Users/CRACKID/Desktop/PythonWorkspace/%EB%AC%B8%EC%A0%9C%20%ED%92%80%EC%9D%B4/LeetCode/92.%20Reverse%20Linked%20List%20II.ipynb#ch0000002?line=14'>15</a>\u001b[0m             a\u001b[39m.\u001b[39mnext, a, prev \u001b[39m=\u001b[39m prev, a\u001b[39m.\u001b[39mnext, a\n\u001b[0;32m     <a href='vscode-notebook-cell:/c%3A/Users/CRACKID/Desktop/PythonWorkspace/%EB%AC%B8%EC%A0%9C%20%ED%92%80%EC%9D%B4/LeetCode/92.%20Reverse%20Linked%20List%20II.ipynb#ch0000002?line=15'>16</a>\u001b[0m             i \u001b[39m+\u001b[39m\u001b[39m=\u001b[39m \u001b[39m1\u001b[39m\n\u001b[1;32m---> <a href='vscode-notebook-cell:/c%3A/Users/CRACKID/Desktop/PythonWorkspace/%EB%AC%B8%EC%A0%9C%20%ED%92%80%EC%9D%B4/LeetCode/92.%20Reverse%20Linked%20List%20II.ipynb#ch0000002?line=20'>21</a>\u001b[0m Node_to_List(Solution()\u001b[39m.\u001b[39;49mreverseBetween(makeListNode([\u001b[39m1\u001b[39;49m,\u001b[39m2\u001b[39;49m,\u001b[39m3\u001b[39;49m,\u001b[39m4\u001b[39;49m,\u001b[39m5\u001b[39;49m]),\u001b[39m2\u001b[39;49m,\u001b[39m4\u001b[39;49m))\n",
      "\u001b[1;32mc:\\Users\\CRACKID\\Desktop\\PythonWorkspace\\문제 풀이\\LeetCode\\92. Reverse Linked List II.ipynb Cell 3'\u001b[0m in \u001b[0;36mSolution.reverseBetween\u001b[1;34m(self, head, l, r)\u001b[0m\n\u001b[0;32m     <a href='vscode-notebook-cell:/c%3A/Users/CRACKID/Desktop/PythonWorkspace/%EB%AC%B8%EC%A0%9C%20%ED%92%80%EC%9D%B4/LeetCode/92.%20Reverse%20Linked%20List%20II.ipynb#ch0000002?line=9'>10</a>\u001b[0m b \u001b[39m=\u001b[39m a\n\u001b[0;32m     <a href='vscode-notebook-cell:/c%3A/Users/CRACKID/Desktop/PythonWorkspace/%EB%AC%B8%EC%A0%9C%20%ED%92%80%EC%9D%B4/LeetCode/92.%20Reverse%20Linked%20List%20II.ipynb#ch0000002?line=10'>11</a>\u001b[0m a\u001b[39m.\u001b[39mnext \u001b[39m=\u001b[39m b\n\u001b[1;32m---> <a href='vscode-notebook-cell:/c%3A/Users/CRACKID/Desktop/PythonWorkspace/%EB%AC%B8%EC%A0%9C%20%ED%92%80%EC%9D%B4/LeetCode/92.%20Reverse%20Linked%20List%20II.ipynb#ch0000002?line=11'>12</a>\u001b[0m \u001b[39mprint\u001b[39m(Node_to_List(a))\n\u001b[0;32m     <a href='vscode-notebook-cell:/c%3A/Users/CRACKID/Desktop/PythonWorkspace/%EB%AC%B8%EC%A0%9C%20%ED%92%80%EC%9D%B4/LeetCode/92.%20Reverse%20Linked%20List%20II.ipynb#ch0000002?line=12'>13</a>\u001b[0m \u001b[39mprint\u001b[39m(Node_to_List(a_start))\n\u001b[0;32m     <a href='vscode-notebook-cell:/c%3A/Users/CRACKID/Desktop/PythonWorkspace/%EB%AC%B8%EC%A0%9C%20%ED%92%80%EC%9D%B4/LeetCode/92.%20Reverse%20Linked%20List%20II.ipynb#ch0000002?line=13'>14</a>\u001b[0m \u001b[39mwhile\u001b[39;00m l\u001b[39m<\u001b[39m\u001b[39m=\u001b[39mi\u001b[39m<\u001b[39m\u001b[39m=\u001b[39mr:\n",
      "\u001b[1;32mc:\\Users\\CRACKID\\Desktop\\PythonWorkspace\\문제 풀이\\LeetCode\\92. Reverse Linked List II.ipynb Cell 1'\u001b[0m in \u001b[0;36mNode_to_List\u001b[1;34m(head)\u001b[0m\n\u001b[0;32m     <a href='vscode-notebook-cell:/c%3A/Users/CRACKID/Desktop/PythonWorkspace/%EB%AC%B8%EC%A0%9C%20%ED%92%80%EC%9D%B4/LeetCode/92.%20Reverse%20Linked%20List%20II.ipynb#ch0000000?line=13'>14</a>\u001b[0m arr \u001b[39m=\u001b[39m []\n\u001b[0;32m     <a href='vscode-notebook-cell:/c%3A/Users/CRACKID/Desktop/PythonWorkspace/%EB%AC%B8%EC%A0%9C%20%ED%92%80%EC%9D%B4/LeetCode/92.%20Reverse%20Linked%20List%20II.ipynb#ch0000000?line=14'>15</a>\u001b[0m \u001b[39mwhile\u001b[39;00m head \u001b[39m!=\u001b[39m \u001b[39mNone\u001b[39;00m:\n\u001b[1;32m---> <a href='vscode-notebook-cell:/c%3A/Users/CRACKID/Desktop/PythonWorkspace/%EB%AC%B8%EC%A0%9C%20%ED%92%80%EC%9D%B4/LeetCode/92.%20Reverse%20Linked%20List%20II.ipynb#ch0000000?line=15'>16</a>\u001b[0m     arr\u001b[39m.\u001b[39;49mappend(head\u001b[39m.\u001b[39;49mval)\n\u001b[0;32m     <a href='vscode-notebook-cell:/c%3A/Users/CRACKID/Desktop/PythonWorkspace/%EB%AC%B8%EC%A0%9C%20%ED%92%80%EC%9D%B4/LeetCode/92.%20Reverse%20Linked%20List%20II.ipynb#ch0000000?line=16'>17</a>\u001b[0m     head \u001b[39m=\u001b[39m head\u001b[39m.\u001b[39mnext\n\u001b[0;32m     <a href='vscode-notebook-cell:/c%3A/Users/CRACKID/Desktop/PythonWorkspace/%EB%AC%B8%EC%A0%9C%20%ED%92%80%EC%9D%B4/LeetCode/92.%20Reverse%20Linked%20List%20II.ipynb#ch0000000?line=17'>18</a>\u001b[0m \u001b[39mreturn\u001b[39;00m arr\n",
      "\u001b[1;31mKeyboardInterrupt\u001b[0m: "
     ]
    }
   ],
   "source": [
    "class Solution:\n",
    "    def reverseBetween(self, head, l: int, r: int):\n",
    "        prev = None\n",
    "        i = 1\n",
    "        a_start = a = head\n",
    "        \n",
    "        while l>i:\n",
    "            a = a.next\n",
    "            i += 1\n",
    "        b = a\n",
    "        a.next = b\n",
    "        print(Node_to_List(a))\n",
    "        print(Node_to_List(a_start))\n",
    "        while l<=i<=r:\n",
    "            a.next, a, prev = prev, a.next, a\n",
    "            i += 1\n",
    "            \n",
    "        \n",
    "            \n",
    "        \n",
    "Node_to_List(Solution().reverseBetween(makeListNode([1,2,3,4,5]),2,4))"
   ]
  }
 ],
 "metadata": {
  "interpreter": {
   "hash": "fff8f1baadadc5fbf51030dcb2db9f6c81b6acfa6e5b0bb822f1d9b4c699540c"
  },
  "kernelspec": {
   "display_name": "Python 3.8.8 ('base')",
   "language": "python",
   "name": "python3"
  },
  "language_info": {
   "codemirror_mode": {
    "name": "ipython",
    "version": 3
   },
   "file_extension": ".py",
   "mimetype": "text/x-python",
   "name": "python",
   "nbconvert_exporter": "python",
   "pygments_lexer": "ipython3",
   "version": "3.8.8"
  },
  "orig_nbformat": 4
 },
 "nbformat": 4,
 "nbformat_minor": 2
}
