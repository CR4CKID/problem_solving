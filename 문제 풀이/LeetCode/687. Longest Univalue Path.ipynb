{
 "cells": [
  {
   "cell_type": "code",
   "execution_count": 22,
   "metadata": {},
   "outputs": [],
   "source": [
    "class TreeNode:\n",
    "    def __init__(self, val=0, left=None, right=None):\n",
    "        self.val = val\n",
    "        self.left = left\n",
    "        self.right = right\n",
    "    \n",
    "    def __str__(self):\n",
    "        return str(self.val)\n",
    "\n",
    "class Tree:\n",
    "    def __init__(self):\n",
    "        self.root = None\n",
    "        \n",
    "    def makeroot(self, node, left_node,right_node):\n",
    "        if self.root == None:\n",
    "            self.root = node\n",
    "        node.left = left_node\n",
    "        node.right = right_node\n",
    "\n",
    "def ListToTree(arr):\n",
    "    node = [TreeNode(n) for n in arr]\n",
    "    if len(node) % 2 == 0:\n",
    "        node.append(TreeNode(None))\n",
    "    a = node[0]\n",
    "    for i in range(int(len(node)/2)):\n",
    "        Tree().makeroot(node[i],node[i*2+1],node[i*2+2])\n",
    "    return a\n",
    "\n",
    "\n",
    "def TreePrint(tree):\n",
    "    from collections import defaultdict\n",
    "    arr = defaultdict(list)\n",
    "    def dfs(node,depth=0):\n",
    "        if node:\n",
    "            arr[depth].append(node.val)\n",
    "            dfs(node.left, depth+1)\n",
    "            dfs(node.right, depth+1)\n",
    "    dfs(tree)\n",
    "    for n in list(arr):\n",
    "        print('|'.join(map(str,arr[n])).center(40,' '))\n",
    "        \n",
    "\n",
    "def preprocessing(arr):\n",
    "    TreePrint(ListToTree(arr))"
   ]
  },
  {
   "cell_type": "code",
   "execution_count": 51,
   "metadata": {},
   "outputs": [
    {
     "name": "stdout",
     "output_type": "stream",
     "text": [
      "                   1                    \n",
      "                  2|2                   \n",
      "                2|2|2|2                 \n",
      "                 2|None                 \n"
     ]
    },
    {
     "ename": "TypeError",
     "evalue": "unsupported operand type(s) for +: 'NoneType' and 'NoneType'",
     "output_type": "error",
     "traceback": [
      "\u001b[1;31m---------------------------------------------------------------------------\u001b[0m",
      "\u001b[1;31mTypeError\u001b[0m                                 Traceback (most recent call last)",
      "\u001b[1;32mc:\\Users\\CRACKID\\Desktop\\PythonWorkspace\\문제 풀이\\LeetCode\\687. Longest Univalue Path.ipynb Cell 2'\u001b[0m in \u001b[0;36m<module>\u001b[1;34m\u001b[0m\n\u001b[0;32m     <a href='vscode-notebook-cell:/c%3A/Users/CRACKID/Desktop/PythonWorkspace/%EB%AC%B8%EC%A0%9C%20%ED%92%80%EC%9D%B4/LeetCode/687.%20Longest%20Univalue%20Path.ipynb#ch0000001?line=27'>28</a>\u001b[0m arr  \u001b[39m=\u001b[39m [\u001b[39m1\u001b[39m,\u001b[39m2\u001b[39m,\u001b[39m2\u001b[39m,\u001b[39m2\u001b[39m,\u001b[39m2\u001b[39m,\u001b[39m2\u001b[39m,\u001b[39m2\u001b[39m,\u001b[39m2\u001b[39m]\n\u001b[0;32m     <a href='vscode-notebook-cell:/c%3A/Users/CRACKID/Desktop/PythonWorkspace/%EB%AC%B8%EC%A0%9C%20%ED%92%80%EC%9D%B4/LeetCode/687.%20Longest%20Univalue%20Path.ipynb#ch0000001?line=28'>29</a>\u001b[0m preprocessing(arr)\n\u001b[1;32m---> <a href='vscode-notebook-cell:/c%3A/Users/CRACKID/Desktop/PythonWorkspace/%EB%AC%B8%EC%A0%9C%20%ED%92%80%EC%9D%B4/LeetCode/687.%20Longest%20Univalue%20Path.ipynb#ch0000001?line=29'>30</a>\u001b[0m Solution()\u001b[39m.\u001b[39;49mlongestUnivaluePath(ListToTree(arr))\n",
      "\u001b[1;32mc:\\Users\\CRACKID\\Desktop\\PythonWorkspace\\문제 풀이\\LeetCode\\687. Longest Univalue Path.ipynb Cell 2'\u001b[0m in \u001b[0;36mSolution.longestUnivaluePath\u001b[1;34m(self, root)\u001b[0m\n\u001b[0;32m     <a href='vscode-notebook-cell:/c%3A/Users/CRACKID/Desktop/PythonWorkspace/%EB%AC%B8%EC%A0%9C%20%ED%92%80%EC%9D%B4/LeetCode/687.%20Longest%20Univalue%20Path.ipynb#ch0000001?line=22'>23</a>\u001b[0m     \u001b[39mif\u001b[39;00m s \u001b[39m>\u001b[39m \u001b[39m0\u001b[39m:\n\u001b[0;32m     <a href='vscode-notebook-cell:/c%3A/Users/CRACKID/Desktop/PythonWorkspace/%EB%AC%B8%EC%A0%9C%20%ED%92%80%EC%9D%B4/LeetCode/687.%20Longest%20Univalue%20Path.ipynb#ch0000001?line=23'>24</a>\u001b[0m         \u001b[39mreturn\u001b[39;00m \u001b[39mmax\u001b[39m(left,right)\u001b[39m+\u001b[39m\u001b[39m1\u001b[39m\n\u001b[1;32m---> <a href='vscode-notebook-cell:/c%3A/Users/CRACKID/Desktop/PythonWorkspace/%EB%AC%B8%EC%A0%9C%20%ED%92%80%EC%9D%B4/LeetCode/687.%20Longest%20Univalue%20Path.ipynb#ch0000001?line=24'>25</a>\u001b[0m dfs(root)\n\u001b[0;32m     <a href='vscode-notebook-cell:/c%3A/Users/CRACKID/Desktop/PythonWorkspace/%EB%AC%B8%EC%A0%9C%20%ED%92%80%EC%9D%B4/LeetCode/687.%20Longest%20Univalue%20Path.ipynb#ch0000001?line=25'>26</a>\u001b[0m \u001b[39mreturn\u001b[39;00m \u001b[39mself\u001b[39m\u001b[39m.\u001b[39mlongest\n",
      "\u001b[1;32mc:\\Users\\CRACKID\\Desktop\\PythonWorkspace\\문제 풀이\\LeetCode\\687. Longest Univalue Path.ipynb Cell 2'\u001b[0m in \u001b[0;36mSolution.longestUnivaluePath.<locals>.dfs\u001b[1;34m(node, s)\u001b[0m\n\u001b[0;32m     <a href='vscode-notebook-cell:/c%3A/Users/CRACKID/Desktop/PythonWorkspace/%EB%AC%B8%EC%A0%9C%20%ED%92%80%EC%9D%B4/LeetCode/687.%20Longest%20Univalue%20Path.ipynb#ch0000001?line=10'>11</a>\u001b[0m         left \u001b[39m=\u001b[39m dfs(node\u001b[39m.\u001b[39mleft, s\u001b[39m+\u001b[39m\u001b[39m1\u001b[39m)\n\u001b[0;32m     <a href='vscode-notebook-cell:/c%3A/Users/CRACKID/Desktop/PythonWorkspace/%EB%AC%B8%EC%A0%9C%20%ED%92%80%EC%9D%B4/LeetCode/687.%20Longest%20Univalue%20Path.ipynb#ch0000001?line=11'>12</a>\u001b[0m     \u001b[39melse\u001b[39;00m:\n\u001b[1;32m---> <a href='vscode-notebook-cell:/c%3A/Users/CRACKID/Desktop/PythonWorkspace/%EB%AC%B8%EC%A0%9C%20%ED%92%80%EC%9D%B4/LeetCode/687.%20Longest%20Univalue%20Path.ipynb#ch0000001?line=12'>13</a>\u001b[0m         dfs(node\u001b[39m.\u001b[39;49mleft)\n\u001b[0;32m     <a href='vscode-notebook-cell:/c%3A/Users/CRACKID/Desktop/PythonWorkspace/%EB%AC%B8%EC%A0%9C%20%ED%92%80%EC%9D%B4/LeetCode/687.%20Longest%20Univalue%20Path.ipynb#ch0000001?line=14'>15</a>\u001b[0m \u001b[39mif\u001b[39;00m node\u001b[39m.\u001b[39mright:\n\u001b[0;32m     <a href='vscode-notebook-cell:/c%3A/Users/CRACKID/Desktop/PythonWorkspace/%EB%AC%B8%EC%A0%9C%20%ED%92%80%EC%9D%B4/LeetCode/687.%20Longest%20Univalue%20Path.ipynb#ch0000001?line=15'>16</a>\u001b[0m     \u001b[39mif\u001b[39;00m node\u001b[39m.\u001b[39mval \u001b[39m==\u001b[39m node\u001b[39m.\u001b[39mright\u001b[39m.\u001b[39mval:\n",
      "\u001b[1;32mc:\\Users\\CRACKID\\Desktop\\PythonWorkspace\\문제 풀이\\LeetCode\\687. Longest Univalue Path.ipynb Cell 2'\u001b[0m in \u001b[0;36mSolution.longestUnivaluePath.<locals>.dfs\u001b[1;34m(node, s)\u001b[0m\n\u001b[0;32m     <a href='vscode-notebook-cell:/c%3A/Users/CRACKID/Desktop/PythonWorkspace/%EB%AC%B8%EC%A0%9C%20%ED%92%80%EC%9D%B4/LeetCode/687.%20Longest%20Univalue%20Path.ipynb#ch0000001?line=17'>18</a>\u001b[0m     \u001b[39melse\u001b[39;00m:\n\u001b[0;32m     <a href='vscode-notebook-cell:/c%3A/Users/CRACKID/Desktop/PythonWorkspace/%EB%AC%B8%EC%A0%9C%20%ED%92%80%EC%9D%B4/LeetCode/687.%20Longest%20Univalue%20Path.ipynb#ch0000001?line=18'>19</a>\u001b[0m         dfs(node\u001b[39m.\u001b[39mright)\n\u001b[1;32m---> <a href='vscode-notebook-cell:/c%3A/Users/CRACKID/Desktop/PythonWorkspace/%EB%AC%B8%EC%A0%9C%20%ED%92%80%EC%9D%B4/LeetCode/687.%20Longest%20Univalue%20Path.ipynb#ch0000001?line=20'>21</a>\u001b[0m \u001b[39mself\u001b[39m\u001b[39m.\u001b[39mlongest \u001b[39m=\u001b[39m \u001b[39mmax\u001b[39m(\u001b[39mself\u001b[39m\u001b[39m.\u001b[39mlongest, left\u001b[39m+\u001b[39;49mright\u001b[39m+\u001b[39m\u001b[39m2\u001b[39m)\n\u001b[0;32m     <a href='vscode-notebook-cell:/c%3A/Users/CRACKID/Desktop/PythonWorkspace/%EB%AC%B8%EC%A0%9C%20%ED%92%80%EC%9D%B4/LeetCode/687.%20Longest%20Univalue%20Path.ipynb#ch0000001?line=22'>23</a>\u001b[0m \u001b[39mif\u001b[39;00m s \u001b[39m>\u001b[39m \u001b[39m0\u001b[39m:\n\u001b[0;32m     <a href='vscode-notebook-cell:/c%3A/Users/CRACKID/Desktop/PythonWorkspace/%EB%AC%B8%EC%A0%9C%20%ED%92%80%EC%9D%B4/LeetCode/687.%20Longest%20Univalue%20Path.ipynb#ch0000001?line=23'>24</a>\u001b[0m     \u001b[39mreturn\u001b[39;00m \u001b[39mmax\u001b[39m(left,right)\u001b[39m+\u001b[39m\u001b[39m1\u001b[39m\n",
      "\u001b[1;31mTypeError\u001b[0m: unsupported operand type(s) for +: 'NoneType' and 'NoneType'"
     ]
    }
   ],
   "source": [
    "class Solution:\n",
    "    longest = 0\n",
    "    def longestUnivaluePath(self, root) -> int:\n",
    "        def dfs(node, s=-1):\n",
    "            if not node:\n",
    "                return -1\n",
    "            left,right = -1,-1\n",
    "            \n",
    "            if node.left:\n",
    "                if node.val == node.left.val:\n",
    "                    left = dfs(node.left, s+1)\n",
    "                else:\n",
    "                    dfs(node.left)\n",
    "                    \n",
    "            if node.right:\n",
    "                if node.val == node.right.val:\n",
    "                    right = dfs(node.right, s+1)\n",
    "                else:\n",
    "                    dfs(node.right)\n",
    "                     \n",
    "            self.longest = max(self.longest, left+right+2)\n",
    "\n",
    "            if s > 0:\n",
    "                return max(left,right)+1\n",
    "        dfs(root)\n",
    "        return self.longest\n",
    "\n",
    "arr  = [1,2,2,2,2,2,2,2]\n",
    "preprocessing(arr)\n",
    "Solution().longestUnivaluePath(ListToTree(arr))"
   ]
  }
 ],
 "metadata": {
  "interpreter": {
   "hash": "fff8f1baadadc5fbf51030dcb2db9f6c81b6acfa6e5b0bb822f1d9b4c699540c"
  },
  "kernelspec": {
   "display_name": "Python 3.8.8 ('base')",
   "language": "python",
   "name": "python3"
  },
  "language_info": {
   "codemirror_mode": {
    "name": "ipython",
    "version": 3
   },
   "file_extension": ".py",
   "mimetype": "text/x-python",
   "name": "python",
   "nbconvert_exporter": "python",
   "pygments_lexer": "ipython3",
   "version": "3.8.8"
  },
  "orig_nbformat": 4
 },
 "nbformat": 4,
 "nbformat_minor": 2
}
