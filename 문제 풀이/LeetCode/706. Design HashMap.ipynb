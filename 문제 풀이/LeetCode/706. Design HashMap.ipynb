{
 "cells": [
  {
   "cell_type": "code",
   "execution_count": null,
   "metadata": {},
   "outputs": [],
   "source": [
    "class MyHashMap:\n",
    "\n",
    "    def __init__(self):\n",
    "        self.k = []\n",
    "        self.v = []\n",
    "\n",
    "    def put(self, key: int, value: int) -> None:\n",
    "        if key in self.k:\n",
    "           i = self.k.index(key)\n",
    "           self.k[i], self.v[i] = key, value\n",
    "        else:\n",
    "            self.k.append(key)\n",
    "            self.v.append(value)\n",
    "\n",
    "    def get(self, key: int) -> int:\n",
    "        if key in self.k:\n",
    "            return self.v[self.k.index(key)]\n",
    "        else:\n",
    "            return -1\n",
    "\n",
    "    def remove(self, key: int) -> None:\n",
    "        if key in self.k:\n",
    "            del self.v[self.k.index(key)]\n",
    "            self.k.remove(key)\n",
    "        "
   ]
  }
 ],
 "metadata": {
  "language_info": {
   "name": "python"
  },
  "orig_nbformat": 4
 },
 "nbformat": 4,
 "nbformat_minor": 2
}
