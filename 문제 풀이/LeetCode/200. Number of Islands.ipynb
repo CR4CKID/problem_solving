{
 "cells": [
  {
   "cell_type": "code",
   "execution_count": 14,
   "metadata": {},
   "outputs": [],
   "source": [
    "grid = [\n",
    "  [\"1\",\"1\",\"1\",\"1\",\"0\"],\n",
    "  [\"1\",\"1\",\"0\",\"1\",\"0\"],\n",
    "  [\"1\",\"1\",\"0\",\"0\",\"0\"],\n",
    "  [\"0\",\"0\",\"0\",\"0\",\"0\"]\n",
    "]"
   ]
  },
  {
   "cell_type": "code",
   "execution_count": 29,
   "metadata": {},
   "outputs": [
    {
     "data": {
      "text/plain": [
       "1"
      ]
     },
     "execution_count": 29,
     "metadata": {},
     "output_type": "execute_result"
    }
   ],
   "source": [
    "class Solution:\n",
    "    def numIslands(self, grid):\n",
    "        m,n, ans = len(grid[0]), len(grid), 0\n",
    "        def dfs(y,x):\n",
    "            if (0<=y<n and 0<=x<m) and grid[y][x] == '1':\n",
    "                grid[y][x] = '0'\n",
    "                dfs(y+1,x)\n",
    "                dfs(y,x+1)\n",
    "                dfs(y-1,x)\n",
    "                dfs(y,x-1)\n",
    "        \n",
    "        for y in range(n):\n",
    "            for x in range(m):\n",
    "                if grid[y][x] == '1':\n",
    "                    ans += 1\n",
    "                    dfs(y,x)\n",
    "        return ans\n",
    "            \n",
    "            \n",
    "Solution().numIslands(\n",
    "[[\"1\",\"1\",\"1\"],[\"0\",\"1\",\"0\"],[\"1\",\"1\",\"1\"]])             "
   ]
  }
 ],
 "metadata": {
  "interpreter": {
   "hash": "fff8f1baadadc5fbf51030dcb2db9f6c81b6acfa6e5b0bb822f1d9b4c699540c"
  },
  "kernelspec": {
   "display_name": "Python 3.8.8 ('base')",
   "language": "python",
   "name": "python3"
  },
  "language_info": {
   "codemirror_mode": {
    "name": "ipython",
    "version": 3
   },
   "file_extension": ".py",
   "mimetype": "text/x-python",
   "name": "python",
   "nbconvert_exporter": "python",
   "pygments_lexer": "ipython3",
   "version": "3.8.8"
  },
  "orig_nbformat": 4
 },
 "nbformat": 4,
 "nbformat_minor": 2
}
