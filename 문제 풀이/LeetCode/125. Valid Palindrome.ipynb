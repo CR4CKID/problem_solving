{
 "cells": [
  {
   "cell_type": "code",
   "execution_count": 10,
   "metadata": {},
   "outputs": [],
   "source": [
    "# 틀린 방법: 알파벳만 구분함\n",
    "def isPalindrome(self, s: str) -> bool:\n",
    "    from string import ascii_lowercase\n",
    "    alpha_list = list(ascii_lowercase)\n",
    "    palindrome = ''\n",
    "    for a in s:\n",
    "        if a.lower() in alpha_list:\n",
    "            palindrome += a.lower()\n",
    "    if palindrome == palindrome[::-1]:\n",
    "        return True\n",
    "    else:\n",
    "        return False\n",
    "    "
   ]
  },
  {
   "cell_type": "code",
   "execution_count": null,
   "metadata": {},
   "outputs": [],
   "source": [
    "# isalnum() 함수가 알파벳+숫자를 구분하여 bool 방식으로 리턴\n",
    "def isPalindrome(self, s: str) -> bool:\n",
    "    palindrome = ''\n",
    "    for a in s:\n",
    "        if a.isalnum():\n",
    "            palindrome += a.lower()\n",
    "    if palindrome == palindrome[::-1]:\n",
    "        return True\n",
    "    else:\n",
    "        return False"
   ]
  },
  {
   "cell_type": "code",
   "execution_count": null,
   "metadata": {},
   "outputs": [],
   "source": [
    "def isPalindrome(self, s: str) -> bool:\n",
    "    palindrome = ''\n",
    "    for a in s:\n",
    "        if a.isalnum():\n",
    "            palindrome += a.lower()\n",
    "    return palindrome == palindrome[::-1]"
   ]
  },
  {
   "cell_type": "code",
   "execution_count": null,
   "metadata": {},
   "outputs": [],
   "source": [
    "# 정규표현식 사용\n",
    "def isPalindrome(self, s: str) -> bool:\n",
    "    import re\n",
    "    s = s.lower()\n",
    "    s = re.sub('[^a-z0-9]', '', s)\n",
    "    return s == s[::-1]"
   ]
  },
  {
   "cell_type": "code",
   "execution_count": 18,
   "metadata": {},
   "outputs": [
    {
     "data": {
      "text/plain": [
       "'abcasd12aasaa'"
      ]
     },
     "execution_count": 18,
     "metadata": {},
     "output_type": "execute_result"
    }
   ],
   "source": [
    "import re\n",
    "s = re.sub('[^a-z0-9]', '', 'abc asd12a as a a  ')\n",
    "s"
   ]
  }
 ],
 "metadata": {
  "interpreter": {
   "hash": "fff8f1baadadc5fbf51030dcb2db9f6c81b6acfa6e5b0bb822f1d9b4c699540c"
  },
  "kernelspec": {
   "display_name": "Python 3.8.8 ('base')",
   "language": "python",
   "name": "python3"
  },
  "language_info": {
   "codemirror_mode": {
    "name": "ipython",
    "version": 3
   },
   "file_extension": ".py",
   "mimetype": "text/x-python",
   "name": "python",
   "nbconvert_exporter": "python",
   "pygments_lexer": "ipython3",
   "version": "3.8.8"
  },
  "orig_nbformat": 4
 },
 "nbformat": 4,
 "nbformat_minor": 2
}
