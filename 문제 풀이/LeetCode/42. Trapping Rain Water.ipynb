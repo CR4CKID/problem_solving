{
 "cells": [
  {
   "cell_type": "code",
   "execution_count": 5,
   "metadata": {},
   "outputs": [
    {
     "data": {
      "text/plain": [
       "6"
      ]
     },
     "execution_count": 5,
     "metadata": {},
     "output_type": "execute_result"
    }
   ],
   "source": [
    "# 투 포인터 사용\n",
    "height = [0,1,0,2,1,0,1,3,2,1,2,1]\n",
    "\n",
    "volume = 0\n",
    "left, right = 0, len(height)-1\n",
    "left_max, right_max = height[left], height[right]\n",
    "\n",
    "while left < right:\n",
    "    left_max, right_max = max(height[left], left_max), max(height[right], right_max)\n",
    "    if left_max < right_max:\n",
    "        volume += left_max - height[left]\n",
    "        left += 1\n",
    "    else:\n",
    "        volume += right_max - height[right]\n",
    "        right -= 1\n",
    "    \n",
    "volume"
   ]
  },
  {
   "cell_type": "code",
   "execution_count": 2,
   "metadata": {},
   "outputs": [
    {
     "data": {
      "text/plain": [
       "6"
      ]
     },
     "execution_count": 2,
     "metadata": {},
     "output_type": "execute_result"
    }
   ],
   "source": [
    "# 스택 처리\n",
    "height = [0,1,0,2,1,0,1,3,2,1,2,1]\n",
    "\n",
    "\n",
    "stack = []\n",
    "volume = 0\n",
    "\n",
    "for i in range(len(height)):\n",
    "    while stack and height[i] > height[stack[-1]]:\n",
    "        top = stack.pop()\n",
    "        \n",
    "        if not len(stack):\n",
    "            break\n",
    "        \n",
    "        distance = i - stack[-1] -1\n",
    "        waters = min(height[i], height[stack[-1]]) - height[top]\n",
    "        \n",
    "        volume += distance * waters\n",
    "    stack.append(i)\n",
    "    \n",
    "volume"
   ]
  },
  {
   "cell_type": "code",
   "execution_count": 10,
   "metadata": {},
   "outputs": [
    {
     "data": {
      "text/plain": [
       "6"
      ]
     },
     "execution_count": 10,
     "metadata": {},
     "output_type": "execute_result"
    }
   ],
   "source": [
    "height = [0,1,0,2,1,0,1,3,2,1,2,1]\n",
    "\n",
    "ans = 0\n",
    "\n",
    "left = height[:height.index(max(height))]\n",
    "right = height[height.index(max(height))+1:][::-1]\n",
    "\n",
    "def volume_plus(height):\n",
    "    if len(height) == 0:\n",
    "        return 0\n",
    "    volume = 0\n",
    "    start = 0\n",
    "    start_max = height[start]\n",
    "    for h in height:\n",
    "        start_max = max(start_max, h)\n",
    "        volume += start_max - h\n",
    "    return volume\n",
    "    \n",
    "ans += (volume_plus(left)+ volume_plus(right))\n",
    "\n",
    "ans"
   ]
  }
 ],
 "metadata": {
  "interpreter": {
   "hash": "fff8f1baadadc5fbf51030dcb2db9f6c81b6acfa6e5b0bb822f1d9b4c699540c"
  },
  "kernelspec": {
   "display_name": "Python 3.8.8 ('base')",
   "language": "python",
   "name": "python3"
  },
  "language_info": {
   "codemirror_mode": {
    "name": "ipython",
    "version": 3
   },
   "file_extension": ".py",
   "mimetype": "text/x-python",
   "name": "python",
   "nbconvert_exporter": "python",
   "pygments_lexer": "ipython3",
   "version": "3.8.8"
  },
  "orig_nbformat": 4
 },
 "nbformat": 4,
 "nbformat_minor": 2
}
