{
 "cells": [
  {
   "cell_type": "code",
   "execution_count": 16,
   "metadata": {},
   "outputs": [
    {
     "data": {
      "text/plain": [
       "19"
      ]
     },
     "execution_count": 16,
     "metadata": {},
     "output_type": "execute_result"
    }
   ],
   "source": [
    "def brokenCalc(self, X, Y):\n",
    "        res = 0\n",
    "        while X < Y:\n",
    "            res += Y % 2 + 1\n",
    "            Y = (Y + 1) / 2\n",
    "        return res + X - Y"
   ]
  },
  {
   "cell_type": "code",
   "execution_count": null,
   "metadata": {},
   "outputs": [],
   "source": [
    "class Solution:\n",
    "    def brokenCalc(self, s: int, t: int) -> int:\n",
    "        \n",
    "        if t <= s:\n",
    "            return s-t\n",
    "        \n",
    "        k = 0\n",
    "        while t != s:\n",
    "            a,b = divmod(t,2)\n",
    "            if b == 1 or a*2 < s+1:\n",
    "                t += 1\n",
    "            else:\n",
    "                t //= 2\n",
    "            k += 1\n",
    "                \n",
    "        return k\n",
    "\n",
    "Solution().brokenCalc(10000000,1)"
   ]
  }
 ],
 "metadata": {
  "interpreter": {
   "hash": "fff8f1baadadc5fbf51030dcb2db9f6c81b6acfa6e5b0bb822f1d9b4c699540c"
  },
  "kernelspec": {
   "display_name": "Python 3.8.8 ('base')",
   "language": "python",
   "name": "python3"
  },
  "language_info": {
   "codemirror_mode": {
    "name": "ipython",
    "version": 3
   },
   "file_extension": ".py",
   "mimetype": "text/x-python",
   "name": "python",
   "nbconvert_exporter": "python",
   "pygments_lexer": "ipython3",
   "version": "3.8.8"
  },
  "orig_nbformat": 4
 },
 "nbformat": 4,
 "nbformat_minor": 2
}
