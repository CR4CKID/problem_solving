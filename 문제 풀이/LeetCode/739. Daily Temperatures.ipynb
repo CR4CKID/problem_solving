{
 "cells": [
  {
   "cell_type": "code",
   "execution_count": 2,
   "metadata": {},
   "outputs": [
    {
     "data": {
      "text/plain": [
       "[1, 1, 4, 2, 1, 1, 0, 0]"
      ]
     },
     "execution_count": 2,
     "metadata": {},
     "output_type": "execute_result"
    }
   ],
   "source": [
    "class Solution:\n",
    "    def dailyTemperatures(self, temp):\n",
    "        stack = []\n",
    "        for n1 in range(len(temp)-1):\n",
    "            for n2 in range(n1+1, len(temp)):\n",
    "                if temp[n1] < temp[n2]:     \n",
    "                    stack.append(n2-n1)\n",
    "                    break\n",
    "            else:\n",
    "                stack.append(0)\n",
    "        return stack + [0]\n",
    "\n",
    "\n",
    "\n",
    "Solution().dailyTemperatures([73,74,75,71,69,72,76,73])"
   ]
  }
 ],
 "metadata": {
  "interpreter": {
   "hash": "fff8f1baadadc5fbf51030dcb2db9f6c81b6acfa6e5b0bb822f1d9b4c699540c"
  },
  "kernelspec": {
   "display_name": "Python 3.8.8 ('base')",
   "language": "python",
   "name": "python3"
  },
  "language_info": {
   "codemirror_mode": {
    "name": "ipython",
    "version": 3
   },
   "file_extension": ".py",
   "mimetype": "text/x-python",
   "name": "python",
   "nbconvert_exporter": "python",
   "pygments_lexer": "ipython3",
   "version": "3.8.8"
  },
  "orig_nbformat": 4
 },
 "nbformat": 4,
 "nbformat_minor": 2
}
