{
 "cells": [
  {
   "cell_type": "code",
   "execution_count": 1,
   "metadata": {},
   "outputs": [
    {
     "data": {
      "text/plain": [
       "[1, 1, 4, 2, 1, 1, 0, 0]"
      ]
     },
     "execution_count": 1,
     "metadata": {},
     "output_type": "execute_result"
    }
   ],
   "source": [
    "class Solution:\n",
    "    def dailyTemperatures(self, temp):\n",
    "        ans = [0] * len(temp)\n",
    "        stack = []\n",
    "        for i in range(len(temp)):\n",
    "            while stack and temp[stack[-1]] < temp[i]:\n",
    "                n = stack.pop()\n",
    "                ans[n] = i-n\n",
    "            stack.append(i)\n",
    "        return ans\n",
    "\n",
    "\n",
    "\n",
    "Solution().dailyTemperatures([73,74,75,71,69,72,76,73])"
   ]
  },
  {
   "cell_type": "code",
   "execution_count": 2,
   "metadata": {},
   "outputs": [
    {
     "data": {
      "text/plain": [
       "[1, 1, 4, 2, 1, 1, 0, 0]"
      ]
     },
     "execution_count": 2,
     "metadata": {},
     "output_type": "execute_result"
    }
   ],
   "source": [
    "class Solution:\n",
    "    def dailyTemperatures(self, temp):\n",
    "        ans = [0] * len(temp)\n",
    "        stack = []\n",
    "        for i, t in enumerate(temp):\n",
    "            while stack and temp[stack[-1]] < t:\n",
    "                n = stack.pop()\n",
    "                ans[n] = i-n\n",
    "            stack.append(i)\n",
    "        return ans\n",
    "\n",
    "\n",
    "\n",
    "Solution().dailyTemperatures([73,74,75,71,69,72,76,73])"
   ]
  }
 ],
 "metadata": {
  "interpreter": {
   "hash": "fff8f1baadadc5fbf51030dcb2db9f6c81b6acfa6e5b0bb822f1d9b4c699540c"
  },
  "kernelspec": {
   "display_name": "Python 3.8.8 ('base')",
   "language": "python",
   "name": "python3"
  },
  "language_info": {
   "codemirror_mode": {
    "name": "ipython",
    "version": 3
   },
   "file_extension": ".py",
   "mimetype": "text/x-python",
   "name": "python",
   "nbconvert_exporter": "python",
   "pygments_lexer": "ipython3",
   "version": "3.8.8"
  },
  "orig_nbformat": 4
 },
 "nbformat": 4,
 "nbformat_minor": 2
}
