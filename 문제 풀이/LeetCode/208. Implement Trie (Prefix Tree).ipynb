{
 "cells": [
  {
   "cell_type": "code",
   "execution_count": null,
   "metadata": {},
   "outputs": [],
   "source": [
    "class Trie:\n",
    "\n",
    "    def __init__(self):\n",
    "        \n",
    "\n",
    "    def insert(self, word: str) -> None:\n",
    "        \n",
    "\n",
    "    def search(self, word: str) -> bool:\n",
    "        \n",
    "\n",
    "    def startsWith(self, prefix: str) -> bool:"
   ]
  }
 ],
 "metadata": {
  "language_info": {
   "name": "python"
  },
  "orig_nbformat": 4
 },
 "nbformat": 4,
 "nbformat_minor": 2
}
