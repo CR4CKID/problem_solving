{
 "cells": [
  {
   "cell_type": "code",
   "execution_count": 43,
   "metadata": {},
   "outputs": [
    {
     "name": "stdout",
     "output_type": "stream",
     "text": [
      "[2, 4, 5, 1, 0, 3] [0, 2, 5, 3, 4, 1]\n"
     ]
    },
    {
     "data": {
      "text/plain": [
       "1859"
      ]
     },
     "execution_count": 43,
     "metadata": {},
     "output_type": "execute_result"
    }
   ],
   "source": [
    "class Solution:\n",
    "    def twoCitySchedCost(self, costs):\n",
    "        city_a, city_b = dict(), dict()\n",
    "        ans = 0\n",
    "        for i,n in enumerate(costs):\n",
    "            city_a[i] = n[0]\n",
    "            city_b[i] = n[1]\n",
    "\n",
    "        price_a = sorted(city_a, key=lambda x: city_a[x], reverse=True)\n",
    "        price_b = sorted(city_b, key=lambda x: city_b[x], reverse=True)\n",
    "        \n",
    "        print(price_a,price_b)\n",
    "        while price_a and price_b:\n",
    "            if price_a[-1] == price_b[-1]:\n",
    "                if price_a[-2] - price_a[-1] >= price_b[-2] - price_b[-1]:\n",
    "                    pa = price_a.pop()\n",
    "                    price_b.remove(pa)\n",
    "                    pb = price_b.pop()\n",
    "                    price_a.remove(pb)\n",
    "                    ans += (city_a[pa]+city_b[pb])\n",
    "                else:\n",
    "                    pb = price_b.pop()\n",
    "                    price_a.remove(pb)\n",
    "                    pa = price_a.pop()\n",
    "                    price_b.remove(pa)\n",
    "                    ans += (city_a[pa]+city_b[pb])\n",
    "            else:\n",
    "                pa = price_a.pop()\n",
    "                pb = price_b.pop()\n",
    "                price_a.remove(pb)\n",
    "                price_b.remove(pa)\n",
    "                ans += (city_a[pa]+city_b[pb])\n",
    "        return ans\n",
    "Solution().twoCitySchedCost([[259,770],[448,54],[926,667],[184,139],[840,118],[577,469]])"
   ]
  },
  {
   "cell_type": "code",
   "execution_count": 69,
   "metadata": {},
   "outputs": [
    {
     "data": {
      "text/plain": [
       "110"
      ]
     },
     "execution_count": 69,
     "metadata": {},
     "output_type": "execute_result"
    }
   ],
   "source": [
    "class Solution:\n",
    "    def twoCitySchedCost(self, costs):\n",
    "        costs = sorted(costs, key= lambda x: x[1]-x[0])\n",
    "        \n",
    "        ans = 0\n",
    "        for i, c in enumerate(costs):\n",
    "            if i < len(costs) // 2:\n",
    "                ans += c[1]\n",
    "            else:\n",
    "                ans += c[0]\n",
    "        return ans\n",
    "    \n",
    "Solution().twoCitySchedCost([[10,20],[30,200],[400,50],[30,20]])    "
   ]
  },
  {
   "cell_type": "code",
   "execution_count": 65,
   "metadata": {},
   "outputs": [
    {
     "data": {
      "text/plain": [
       "[[10, 10], [30, 30], [400, 400], [30, 30]]"
      ]
     },
     "execution_count": 65,
     "metadata": {},
     "output_type": "execute_result"
    }
   ],
   "source": [
    "sorted([[10,10],[30,30],[400,400],[30,30]], key= lambda x: x[1]-x[0])"
   ]
  }
 ],
 "metadata": {
  "interpreter": {
   "hash": "fff8f1baadadc5fbf51030dcb2db9f6c81b6acfa6e5b0bb822f1d9b4c699540c"
  },
  "kernelspec": {
   "display_name": "Python 3.8.8 ('base')",
   "language": "python",
   "name": "python3"
  },
  "language_info": {
   "codemirror_mode": {
    "name": "ipython",
    "version": 3
   },
   "file_extension": ".py",
   "mimetype": "text/x-python",
   "name": "python",
   "nbconvert_exporter": "python",
   "pygments_lexer": "ipython3",
   "version": "3.8.8"
  },
  "orig_nbformat": 4
 },
 "nbformat": 4,
 "nbformat_minor": 2
}
