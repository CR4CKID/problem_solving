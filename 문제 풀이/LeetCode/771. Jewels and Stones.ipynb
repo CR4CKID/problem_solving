{
 "cells": [
  {
   "cell_type": "code",
   "execution_count": null,
   "metadata": {},
   "outputs": [],
   "source": [
    "class Solution:\n",
    "    def numJewelsInStones(self, jewels: str, stones: str) -> int:\n",
    "        jewels = [j for j in jewels]\n",
    "        ans = 0\n",
    "        for st in stones:\n",
    "            if st in jewels:\n",
    "                ans += 1\n",
    "        return ans"
   ]
  },
  {
   "cell_type": "code",
   "execution_count": null,
   "metadata": {},
   "outputs": [],
   "source": [
    "class Solution:\n",
    "    def numJewelsInStones(self, jewels: str, stones: str) -> int:\n",
    "        from collections import Counter\n",
    "        stones = Counter(stones)\n",
    "        ans = 0\n",
    "        for j in jewels:\n",
    "            ans += stones[j]\n",
    "        return ans"
   ]
  }
 ],
 "metadata": {
  "language_info": {
   "name": "python"
  },
  "orig_nbformat": 4
 },
 "nbformat": 4,
 "nbformat_minor": 2
}
