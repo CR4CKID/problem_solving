{
 "cells": [
  {
   "cell_type": "code",
   "execution_count": 40,
   "metadata": {},
   "outputs": [
    {
     "name": "stdout",
     "output_type": "stream",
     "text": [
      "1\n",
      "1\n",
      "2\n",
      "3\n",
      "4\n",
      "4\n"
     ]
    }
   ],
   "source": [
    "class ListNode:\n",
    "    def __init__(self, val=0, next=None):\n",
    "        self.val = val\n",
    "        self.next = next\n",
    "def makeListNode(head):\n",
    "    edit = arr = ListNode()\n",
    "    for n in head:\n",
    "        edit.next = ListNode(n)\n",
    "        edit = edit.next\n",
    "    arr = arr.next\n",
    "    return arr\n",
    "\n",
    "class Solution:\n",
    "    def mergeTwoLists(self,l1, l2):\n",
    "        if (not l1) or (l2 and (l1.val > l2.val)):\n",
    "            l1, l2 = l2, l1\n",
    "        if l1:\n",
    "            l1.next = mergeTwoLists(l1.next,l2)\n",
    "        return l1\n",
    "\n",
    "a = Solution().mergeTwoLists(makeListNode([1,2,4]),makeListNode([1,3,4]))\n",
    "\n",
    "while a != None:\n",
    "    print(a.val)\n",
    "    a = a.next"
   ]
  },
  {
   "cell_type": "code",
   "execution_count": 25,
   "metadata": {},
   "outputs": [
    {
     "ename": "NameError",
     "evalue": "name 'self' is not defined",
     "output_type": "error",
     "traceback": [
      "\u001b[1;31m---------------------------------------------------------------------------\u001b[0m",
      "\u001b[1;31mNameError\u001b[0m                                 Traceback (most recent call last)",
      "\u001b[1;32mc:\\Users\\CRACKID\\Desktop\\PythonWorkspace\\문제 풀이\\LeetCode\\21. Merge Two Sorted Lists.ipynb Cell 2'\u001b[0m in \u001b[0;36m<module>\u001b[1;34m\u001b[0m\n\u001b[0;32m     <a href='vscode-notebook-cell:/c%3A/Users/CRACKID/Desktop/PythonWorkspace/%EB%AC%B8%EC%A0%9C%20%ED%92%80%EC%9D%B4/LeetCode/21.%20Merge%20Two%20Sorted%20Lists.ipynb#ch0000006?line=22'>23</a>\u001b[0m     edit\u001b[39m.\u001b[39mnext \u001b[39m=\u001b[39m l1 \u001b[39mor\u001b[39;00m l2\n\u001b[0;32m     <a href='vscode-notebook-cell:/c%3A/Users/CRACKID/Desktop/PythonWorkspace/%EB%AC%B8%EC%A0%9C%20%ED%92%80%EC%9D%B4/LeetCode/21.%20Merge%20Two%20Sorted%20Lists.ipynb#ch0000006?line=24'>25</a>\u001b[0m     \u001b[39mreturn\u001b[39;00m arr\u001b[39m.\u001b[39mnext\n\u001b[1;32m---> <a href='vscode-notebook-cell:/c%3A/Users/CRACKID/Desktop/PythonWorkspace/%EB%AC%B8%EC%A0%9C%20%ED%92%80%EC%9D%B4/LeetCode/21.%20Merge%20Two%20Sorted%20Lists.ipynb#ch0000006?line=26'>27</a>\u001b[0m a \u001b[39m=\u001b[39m \u001b[39mself\u001b[39;49m\u001b[39m.\u001b[39mmergeTwoLists(makeListNode([\u001b[39m1\u001b[39m,\u001b[39m2\u001b[39m,\u001b[39m4\u001b[39m]),makeListNode([\u001b[39m1\u001b[39m,\u001b[39m3\u001b[39m,\u001b[39m4\u001b[39m]))\n\u001b[0;32m     <a href='vscode-notebook-cell:/c%3A/Users/CRACKID/Desktop/PythonWorkspace/%EB%AC%B8%EC%A0%9C%20%ED%92%80%EC%9D%B4/LeetCode/21.%20Merge%20Two%20Sorted%20Lists.ipynb#ch0000006?line=28'>29</a>\u001b[0m \u001b[39mwhile\u001b[39;00m a \u001b[39m!=\u001b[39m \u001b[39mNone\u001b[39;00m:\n\u001b[0;32m     <a href='vscode-notebook-cell:/c%3A/Users/CRACKID/Desktop/PythonWorkspace/%EB%AC%B8%EC%A0%9C%20%ED%92%80%EC%9D%B4/LeetCode/21.%20Merge%20Two%20Sorted%20Lists.ipynb#ch0000006?line=29'>30</a>\u001b[0m     \u001b[39mprint\u001b[39m(a\u001b[39m.\u001b[39mval)\n",
      "\u001b[1;31mNameError\u001b[0m: name 'self' is not defined"
     ]
    }
   ],
   "source": [
    "class ListNode:\n",
    "    def __init__(self, val=0, next=None):\n",
    "        self.val = val\n",
    "        self.next = next\n",
    "def makeListNode(head):\n",
    "    edit = arr = ListNode()\n",
    "    for n in head:\n",
    "        edit.next = ListNode(n)\n",
    "        edit = edit.next\n",
    "    arr = arr.next\n",
    "    return arr\n",
    "\n",
    "\n",
    "def mergeTwoLists(self, l1, l2):\n",
    "    arr = edit = ListNode()\n",
    "    while l1 and l2:\n",
    "        if l1.val >= l2.val:\n",
    "            edit.next = l2\n",
    "            l2, edit = l2.next, edit.next\n",
    "        else:\n",
    "            edit.next = l1\n",
    "            l1, edit = l1.next, edit.next     \n",
    "    edit.next = l1 or l2\n",
    "    \n",
    "    return arr.next\n",
    "\n",
    "a = mergeTwoLists(None, makeListNode([1,2,4]),makeListNode([1,3,4]))\n",
    "\n",
    "while a != None:\n",
    "    print(a.val)\n",
    "    a = a.next"
   ]
  },
  {
   "cell_type": "code",
   "execution_count": 1,
   "metadata": {},
   "outputs": [],
   "source": [
    "class ListNode:\n",
    "    def __init__(self, val=0, next=None):\n",
    "         self.val = val\n",
    "         self.next = next\n",
    "\n",
    "def mergeTwoLists(self, list1, list2):\n",
    "    ans = ListNode()\n",
    "    while list1 or list2:\n",
    "        if list1.val >= list2.val:\n",
    "            ans.next = ListNode(list1.val)\n",
    "            list1.next\n",
    "        else:\n",
    "            ans.next = ListNode(list2.val)\n",
    "            list2.next\n",
    "    return ans\n"
   ]
  },
  {
   "cell_type": "code",
   "execution_count": null,
   "metadata": {},
   "outputs": [],
   "source": [
    "def mergeTwoLists1(self, l1, l2):\n",
    "    dummy = cur = ListNode(0)\n",
    "    while l1 and l2:\n",
    "        if l1.val < l2.val:\n",
    "            cur.next = l1\n",
    "            l1 = l1.next\n",
    "        else:\n",
    "            cur.next = l2\n",
    "            l2 = l2.next\n",
    "        cur = cur.next\n",
    "    cur.next = l1 or l2\n",
    "    return dummy.next"
   ]
  }
 ],
 "metadata": {
  "interpreter": {
   "hash": "fff8f1baadadc5fbf51030dcb2db9f6c81b6acfa6e5b0bb822f1d9b4c699540c"
  },
  "kernelspec": {
   "display_name": "Python 3.8.8 ('base')",
   "language": "python",
   "name": "python3"
  },
  "language_info": {
   "codemirror_mode": {
    "name": "ipython",
    "version": 3
   },
   "file_extension": ".py",
   "mimetype": "text/x-python",
   "name": "python",
   "nbconvert_exporter": "python",
   "pygments_lexer": "ipython3",
   "version": "3.8.8"
  },
  "orig_nbformat": 4
 },
 "nbformat": 4,
 "nbformat_minor": 2
}
