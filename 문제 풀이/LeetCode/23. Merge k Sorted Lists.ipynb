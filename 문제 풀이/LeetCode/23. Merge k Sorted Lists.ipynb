{
 "cells": [
  {
   "cell_type": "code",
   "execution_count": 1,
   "metadata": {},
   "outputs": [],
   "source": [
    "class ListNode:\n",
    "    def __init__(self, val=0, next=None):\n",
    "        self.val = val\n",
    "        self.next = next\n",
    "\n",
    "def makeListNode(head):\n",
    "    edit = arr = ListNode()\n",
    "    for n in head:\n",
    "        edit.next = ListNode(n)\n",
    "        edit = edit.next\n",
    "    return arr.next\n",
    "\n",
    "def Node_to_List(head):\n",
    "    arr = []\n",
    "    while head != None:\n",
    "        arr.append(head.val)\n",
    "        head = head.next\n",
    "    return arr"
   ]
  },
  {
   "cell_type": "code",
   "execution_count": 7,
   "metadata": {},
   "outputs": [
    {
     "data": {
      "text/plain": [
       "[1, 1, 2, 3, 4, 4, 5, 6]"
      ]
     },
     "execution_count": 7,
     "metadata": {},
     "output_type": "execute_result"
    }
   ],
   "source": [
    "class Solution:\n",
    "    def mergeKLists(self, lists):\n",
    "        import heapq\n",
    "        heap = []\n",
    "        for listnode in lists:\n",
    "            while listnode:\n",
    "                heapq.heappush(heap, listnode.val)\n",
    "                listnode = listnode.next\n",
    "        ans = edit = ListNode()\n",
    "        while heap:\n",
    "            edit.next = ListNode(heapq.heappop(heap))\n",
    "            edit = edit.next\n",
    "        return ans.next\n",
    "        \n",
    "Node_to_List(Solution().mergeKLists([makeListNode([1,4,5]),makeListNode([1,3,4]),makeListNode([2,6])])   )"
   ]
  },
  {
   "cell_type": "code",
   "execution_count": null,
   "metadata": {},
   "outputs": [],
   "source": []
  }
 ],
 "metadata": {
  "interpreter": {
   "hash": "fff8f1baadadc5fbf51030dcb2db9f6c81b6acfa6e5b0bb822f1d9b4c699540c"
  },
  "kernelspec": {
   "display_name": "Python 3.8.8 ('base')",
   "language": "python",
   "name": "python3"
  },
  "language_info": {
   "codemirror_mode": {
    "name": "ipython",
    "version": 3
   },
   "file_extension": ".py",
   "mimetype": "text/x-python",
   "name": "python",
   "nbconvert_exporter": "python",
   "pygments_lexer": "ipython3",
   "version": "3.8.8"
  },
  "orig_nbformat": 4
 },
 "nbformat": 4,
 "nbformat_minor": 2
}
