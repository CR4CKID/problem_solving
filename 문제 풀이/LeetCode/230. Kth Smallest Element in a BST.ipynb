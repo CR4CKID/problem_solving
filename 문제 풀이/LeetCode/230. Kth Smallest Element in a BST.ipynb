{
 "cells": [
  {
   "cell_type": "code",
   "execution_count": 1,
   "metadata": {},
   "outputs": [
    {
     "name": "stdout",
     "output_type": "stream",
     "text": [
      "│       ┌── 7\n",
      "│   ┌── 3\n",
      "│   │   │   ┌── 3\n",
      "│   │   └── 6\n",
      "│   │       └── 2\n",
      "└── 1\n",
      "    │       ┌── 1\n",
      "    │   ┌── 5\n",
      "    └── 2\n",
      "        │   ┌── 9\n",
      "        └── 4\n",
      "            └── 8\n"
     ]
    }
   ],
   "source": [
    "# 트리 구현\n",
    "class TreeNode:\n",
    "    def __init__(self, x):\n",
    "        self.val = x\n",
    "        self.left = None\n",
    "        self.right = None\n",
    "\n",
    "def treeNodeToString(root):\n",
    "    if not root:\n",
    "        return \"[]\"\n",
    "    output = \"\"\n",
    "    queue = [root]\n",
    "    current = 0\n",
    "    while current != len(queue):\n",
    "        node = queue[current]\n",
    "        current = current + 1\n",
    "\n",
    "        if not node:\n",
    "            output += \"null, \"\n",
    "            continue\n",
    "\n",
    "        output += str(node.val) + \", \"\n",
    "        queue.append(node.left)\n",
    "        queue.append(node.right)\n",
    "    return \"[\" + output[:-2] + \"]\"\n",
    "\n",
    "def stringToTreeNode(input):\n",
    "    input = input.strip()\n",
    "    input = input[1:-1]\n",
    "    if not input:\n",
    "        return None\n",
    "\n",
    "    inputValues = [s.strip() for s in input.split(',')]\n",
    "    root = TreeNode(int(inputValues[0]))\n",
    "    nodeQueue = [root]\n",
    "    front = 0\n",
    "    index = 1\n",
    "    while index < len(inputValues):\n",
    "        node = nodeQueue[front]\n",
    "        front = front + 1\n",
    "\n",
    "        item = inputValues[index]\n",
    "        index = index + 1\n",
    "        if item != \"null\":\n",
    "            leftNumber = int(item)\n",
    "            node.left = TreeNode(leftNumber)\n",
    "            nodeQueue.append(node.left)\n",
    "\n",
    "        if index >= len(inputValues):\n",
    "            break\n",
    "\n",
    "        item = inputValues[index]\n",
    "        index = index + 1\n",
    "        if item != \"null\":\n",
    "            rightNumber = int(item)\n",
    "            node.right = TreeNode(rightNumber)\n",
    "            nodeQueue.append(node.right)\n",
    "    return root\n",
    "\n",
    "def prettyPrintTree(node, prefix=\"\", isLeft=True):\n",
    "    if not node:\n",
    "        print(\"Empty Tree\")\n",
    "        return\n",
    "\n",
    "    if node.right:\n",
    "        prettyPrintTree(node.right, prefix + (\"│   \" if isLeft else \"    \"), False)\n",
    "\n",
    "    print(prefix + (\"└── \" if isLeft else \"┌── \") + str(node.val))\n",
    "\n",
    "    if node.left:\n",
    "        prettyPrintTree(node.left, prefix + (\"    \" if isLeft else \"│   \"), True)\n",
    "\n",
    "a = stringToTreeNode('[1,2,3,4,5,6,7,8,9,null,1,2,3]')\n",
    "prettyPrintTree(a)"
   ]
  },
  {
   "cell_type": "code",
   "execution_count": null,
   "metadata": {},
   "outputs": [],
   "source": [
    "class Solution:\n",
    "    def kthSmallest(self, root, k: int) -> int:\n",
    "        arr = []\n",
    "        def dfs(node):\n",
    "            if not node:\n",
    "                return \n",
    "            \n",
    "            arr.append()"
   ]
  }
 ],
 "metadata": {
  "interpreter": {
   "hash": "fff8f1baadadc5fbf51030dcb2db9f6c81b6acfa6e5b0bb822f1d9b4c699540c"
  },
  "kernelspec": {
   "display_name": "Python 3.8.8 ('base')",
   "language": "python",
   "name": "python3"
  },
  "language_info": {
   "codemirror_mode": {
    "name": "ipython",
    "version": 3
   },
   "file_extension": ".py",
   "mimetype": "text/x-python",
   "name": "python",
   "nbconvert_exporter": "python",
   "pygments_lexer": "ipython3",
   "version": "3.8.8"
  },
  "orig_nbformat": 4
 },
 "nbformat": 4,
 "nbformat_minor": 2
}
