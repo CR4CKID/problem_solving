{
 "cells": [
  {
   "cell_type": "code",
   "execution_count": null,
   "metadata": {},
   "outputs": [],
   "source": [
    "def romanToInt(self, s: str) -> int:\n",
    "        data = {\n",
    "            'I':1,\n",
    "            'V':5,\n",
    "            'X':10,\n",
    "            'L':50,\n",
    "            'C':100,\n",
    "            'D':500,\n",
    "            'M':1000,\n",
    "        }\n",
    "        ans = 0\n",
    "        pre = 0\n",
    "        for r in s:\n",
    "            if data[r] > pre:\n",
    "                ans += (data[r] - 2*pre)\n",
    "            else:\n",
    "                ans += data[r]\n",
    "            pre = data[r]\n",
    "        return ans\n",
    "romanToInt(None,\"LVIII\")"
   ]
  }
 ],
 "metadata": {
  "language_info": {
   "name": "python"
  },
  "orig_nbformat": 4
 },
 "nbformat": 4,
 "nbformat_minor": 2
}
