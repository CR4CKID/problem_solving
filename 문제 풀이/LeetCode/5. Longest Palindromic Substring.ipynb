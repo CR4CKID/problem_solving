{
 "cells": [
  {
   "cell_type": "code",
   "execution_count": 45,
   "metadata": {},
   "outputs": [
    {
     "data": {
      "text/plain": [
       "'a'"
      ]
     },
     "execution_count": 45,
     "metadata": {},
     "output_type": "execute_result"
    }
   ],
   "source": [
    "s = \"a\"\n",
    "\n",
    "ans = ''\n",
    "for start in range(len(s)):\n",
    "    if len(s[start:]) <= len(ans):\n",
    "        break\n",
    "    for end in list(filter(lambda x: s[x] == s[start], range(start, len(s))))[::-1]:\n",
    "        if len(s[start:end+1]) <= len(ans):\n",
    "            break\n",
    "        else:\n",
    "            if s[start:end+1] == s[start:end+1][::-1]:\n",
    "                ans = s[start:end+1]\n",
    "\n",
    "ans"
   ]
  },
  {
   "cell_type": "code",
   "execution_count": 11,
   "metadata": {},
   "outputs": [
    {
     "data": {
      "text/plain": [
       "'111111111111'"
      ]
     },
     "execution_count": 11,
     "metadata": {},
     "output_type": "execute_result"
    }
   ],
   "source": [
    "s= '111111111111'\n",
    "ans = ''\n",
    "\n",
    "while len(s) > len(ans):\n",
    "    for end in list(filter(lambda x: s[x] == s[0], range(len(s))))[::-1]:\n",
    "        palin = s[:end+1]\n",
    "        if palin == palin[::-1] and len(ans) < len(palin):\n",
    "            ans = palin\n",
    "            break\n",
    "    s= s[1:]\n",
    "ans"
   ]
  },
  {
   "cell_type": "code",
   "execution_count": 14,
   "metadata": {},
   "outputs": [
    {
     "data": {
      "text/plain": [
       "'ababa'"
      ]
     },
     "execution_count": 14,
     "metadata": {},
     "output_type": "execute_result"
    }
   ],
   "source": [
    "s= 'baababa'\n",
    "\n",
    "# if len(s) < 2 or s == s[::-1]:\n",
    "#     return s\n",
    "\n",
    "def expand(left, right):\n",
    "    while left >= 0 and right < len(s) and s[left] == s[right]:\n",
    "        left -= 1\n",
    "        right += 1\n",
    "    return s[left+1:right]\n",
    "\n",
    "ans = ''\n",
    "for i in range(len(s)-1):\n",
    "    ans = max(ans, expand(i,i+1), expand(i,i+2), key= len)\n",
    "        \n",
    "ans"
   ]
  }
 ],
 "metadata": {
  "interpreter": {
   "hash": "fff8f1baadadc5fbf51030dcb2db9f6c81b6acfa6e5b0bb822f1d9b4c699540c"
  },
  "kernelspec": {
   "display_name": "Python 3.8.8 ('base')",
   "language": "python",
   "name": "python3"
  },
  "language_info": {
   "codemirror_mode": {
    "name": "ipython",
    "version": 3
   },
   "file_extension": ".py",
   "mimetype": "text/x-python",
   "name": "python",
   "nbconvert_exporter": "python",
   "pygments_lexer": "ipython3",
   "version": "3.8.8"
  },
  "orig_nbformat": 4
 },
 "nbformat": 4,
 "nbformat_minor": 2
}
