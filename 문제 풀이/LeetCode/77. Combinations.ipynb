{
 "cells": [
  {
   "cell_type": "code",
   "execution_count": 2,
   "metadata": {},
   "outputs": [
    {
     "data": {
      "text/plain": [
       "[(1, 2), (1, 3), (1, 4), (2, 3), (2, 4), (3, 4)]"
      ]
     },
     "execution_count": 2,
     "metadata": {},
     "output_type": "execute_result"
    }
   ],
   "source": [
    "class Solution:\n",
    "    def combine(self, n: int, k: int):\n",
    "        from itertools import combinations\n",
    "        return list(combinations(range(1,n+1), k))\n",
    "\n",
    "Solution().combine(4,2)"
   ]
  },
  {
   "cell_type": "code",
   "execution_count": 4,
   "metadata": {},
   "outputs": [
    {
     "data": {
      "text/plain": [
       "[[1, 2], [1, 3], [1, 4], [2, 3], [2, 4], [3, 4]]"
      ]
     },
     "execution_count": 4,
     "metadata": {},
     "output_type": "execute_result"
    }
   ],
   "source": [
    "class Solution:\n",
    "    def combine(self, n: int, k: int):\n",
    "        result = []\n",
    "        \n",
    "        def dfs(elements, start, k):\n",
    "            if k == 0:\n",
    "                result.append(elements[:])\n",
    "                return\n",
    "\n",
    "            for i in range(start, n+1):\n",
    "                elements.append(i)\n",
    "                dfs(elements, i+1, k-1)\n",
    "                elements.pop()\n",
    "        \n",
    "        dfs([],1,k)\n",
    "        return result\n",
    "    \n",
    "Solution().combine(4,2)"
   ]
  }
 ],
 "metadata": {
  "interpreter": {
   "hash": "fff8f1baadadc5fbf51030dcb2db9f6c81b6acfa6e5b0bb822f1d9b4c699540c"
  },
  "kernelspec": {
   "display_name": "Python 3.8.8 ('base')",
   "language": "python",
   "name": "python3"
  },
  "language_info": {
   "codemirror_mode": {
    "name": "ipython",
    "version": 3
   },
   "file_extension": ".py",
   "mimetype": "text/x-python",
   "name": "python",
   "nbconvert_exporter": "python",
   "pygments_lexer": "ipython3",
   "version": "3.8.8"
  },
  "orig_nbformat": 4
 },
 "nbformat": 4,
 "nbformat_minor": 2
}
