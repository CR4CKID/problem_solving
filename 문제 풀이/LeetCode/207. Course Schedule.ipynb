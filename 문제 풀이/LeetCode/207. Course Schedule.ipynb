{
 "cells": [
  {
   "cell_type": "code",
   "execution_count": 38,
   "metadata": {},
   "outputs": [
    {
     "data": {
      "text/plain": [
       "False"
      ]
     },
     "execution_count": 38,
     "metadata": {},
     "output_type": "execute_result"
    }
   ],
   "source": [
    "class Solution:\n",
    "    def canFinish(self, numCourses: int, prerequisites):\n",
    "        from collections import defaultdict, deque\n",
    "        \n",
    "        if not prerequisites:\n",
    "            return True\n",
    "        \n",
    "        prerequisites.sort()\n",
    "        graph = defaultdict(deque)\n",
    "        start = []\n",
    "        for a,b in prerequisites:\n",
    "            graph[b].append(a)\n",
    "            start.append(b)\n",
    "        \n",
    "        ans = []\n",
    "        visited = set()\n",
    "        def dfs(a,path=set()):\n",
    "            if a in visited:\n",
    "                return\n",
    "            \n",
    "            while graph[a]:\n",
    "                b = graph[a].popleft()\n",
    "                if b in path:\n",
    "                    ans.append(False)\n",
    "                else:\n",
    "                    dfs(b,path+[b])\n",
    "            visited.add(a)\n",
    "                    \n",
    "        for st in start:\n",
    "            if ans:\n",
    "                break\n",
    "            dfs(st,[st])\n",
    "    \n",
    "        return len(ans) == 0\n",
    "                \n",
    "        \n",
    "Solution().canFinish(1, [[0,10],[3,18],[5,5],[6,11],[11,14],[13,1],[15,1],[17,4]])"
   ]
  }
 ],
 "metadata": {
  "interpreter": {
   "hash": "fff8f1baadadc5fbf51030dcb2db9f6c81b6acfa6e5b0bb822f1d9b4c699540c"
  },
  "kernelspec": {
   "display_name": "Python 3.8.8 ('base')",
   "language": "python",
   "name": "python3"
  },
  "language_info": {
   "codemirror_mode": {
    "name": "ipython",
    "version": 3
   },
   "file_extension": ".py",
   "mimetype": "text/x-python",
   "name": "python",
   "nbconvert_exporter": "python",
   "pygments_lexer": "ipython3",
   "version": "3.8.8"
  },
  "orig_nbformat": 4
 },
 "nbformat": 4,
 "nbformat_minor": 2
}
