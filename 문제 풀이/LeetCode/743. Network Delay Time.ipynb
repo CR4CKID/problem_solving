{
 "cells": [
  {
   "cell_type": "code",
   "execution_count": 18,
   "metadata": {},
   "outputs": [
    {
     "name": "stdout",
     "output_type": "stream",
     "text": [
      "defaultdict(<class 'int'>, {3: 0, 4: 1, 2: 2, 1: 4})\n"
     ]
    },
    {
     "data": {
      "text/plain": [
       "4"
      ]
     },
     "execution_count": 18,
     "metadata": {},
     "output_type": "execute_result"
    }
   ],
   "source": [
    "class Solution:\n",
    "    def networkDelayTime(self, times, n: int, k: int):\n",
    "        from collections import defaultdict\n",
    "        import heapq\n",
    "        \n",
    "        graph = defaultdict(list)\n",
    "        for u,v,w in times:\n",
    "            graph[u].append((v,w))\n",
    "        \n",
    "        Q = [(0,k)]\n",
    "        dist = defaultdict(int)\n",
    "        \n",
    "        while Q:\n",
    "            time, node = heapq.heappop(Q)\n",
    "            if node not in dist:\n",
    "                dist[node] = time\n",
    "                for v,w in graph[node]:\n",
    "                    alt = time + w\n",
    "                    heapq.heappush(Q,(alt,v))\n",
    "        if len(dist) == n:\n",
    "            return max(dist.values())\n",
    "        else:\n",
    "            return -1                \n",
    "            \n",
    "Solution().networkDelayTime([[3,1,5],[3,2,2],[2,1,2],[3,4,1]],4,3)    "
   ]
  }
 ],
 "metadata": {
  "interpreter": {
   "hash": "fff8f1baadadc5fbf51030dcb2db9f6c81b6acfa6e5b0bb822f1d9b4c699540c"
  },
  "kernelspec": {
   "display_name": "Python 3.8.8 ('base')",
   "language": "python",
   "name": "python3"
  },
  "language_info": {
   "codemirror_mode": {
    "name": "ipython",
    "version": 3
   },
   "file_extension": ".py",
   "mimetype": "text/x-python",
   "name": "python",
   "nbconvert_exporter": "python",
   "pygments_lexer": "ipython3",
   "version": "3.8.8"
  },
  "orig_nbformat": 4
 },
 "nbformat": 4,
 "nbformat_minor": 2
}
