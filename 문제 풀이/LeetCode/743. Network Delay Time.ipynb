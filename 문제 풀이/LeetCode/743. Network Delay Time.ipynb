{
 "cells": [
  {
   "cell_type": "code",
   "execution_count": null,
   "metadata": {},
   "outputs": [],
   "source": [
    "class Solution:\n",
    "    def networkDelayTime(self, times, n: int, k: int):\n",
    "        from collections import defaultdict\n",
    "        \n",
    "        graph = defaultdict(list)\n",
    "        for a,b,t in times:\n",
    "            graph[a].append([b,t])\n",
    "        \n",
    "        ans = 0\n",
    "        cur_time = 0\n",
    "        def dfs(a):\n",
    "            \n",
    "            for b in graph[a]:\n",
    "                \n",
    "                "
   ]
  }
 ],
 "metadata": {
  "language_info": {
   "name": "python"
  },
  "orig_nbformat": 4
 },
 "nbformat": 4,
 "nbformat_minor": 2
}
