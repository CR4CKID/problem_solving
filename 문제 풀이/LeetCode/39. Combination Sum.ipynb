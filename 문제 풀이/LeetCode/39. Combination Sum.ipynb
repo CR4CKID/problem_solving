{
 "cells": [
  {
   "cell_type": "code",
   "execution_count": 35,
   "metadata": {},
   "outputs": [
    {
     "data": {
      "text/plain": [
       "[[2, 2, 3], [7]]"
      ]
     },
     "execution_count": 35,
     "metadata": {},
     "output_type": "execute_result"
    }
   ],
   "source": [
    "class Solution:\n",
    "    def combinationSum(self, candidates, target: int):\n",
    "        ans = []\n",
    "        candidates.sort()\n",
    "\n",
    "        def cur_sum(nums, prev_index):\n",
    "            if sum(nums) == target:\n",
    "                ans.append(sorted(nums))\n",
    "                return 0\n",
    "            if sum(nums) > target:\n",
    "                return 0\n",
    "            for n in candidates[prev_index:]:\n",
    "                prev_index = candidates.index(n)\n",
    "                if type(cur_sum(nums+[n], prev_index)) == int:\n",
    "                    break\n",
    "\n",
    "        cur_sum([],0)\n",
    "        return ans\n",
    "    \n",
    "Solution().combinationSum([2,3,6,7],7)"
   ]
  },
  {
   "cell_type": "code",
   "execution_count": 36,
   "metadata": {},
   "outputs": [
    {
     "data": {
      "text/plain": [
       "[[2, 2, 3], [7]]"
      ]
     },
     "execution_count": 36,
     "metadata": {},
     "output_type": "execute_result"
    }
   ],
   "source": [
    "class Solution:\n",
    "    def combinationSum(self, candidates, target: int):\n",
    "        result = []\n",
    "        def dfs(csum, index, path):\n",
    "            if csum < 0:\n",
    "                return\n",
    "            if csum == 0:\n",
    "                result.append(path)\n",
    "                return\n",
    "            for i in range(index, len(candidates)):\n",
    "                dfs(csum-candidates[i], i, path+[candidates[i]])\n",
    "                \n",
    "        dfs(target,0,[])\n",
    "        return result\n",
    "    \n",
    "Solution().combinationSum([2,3,6,7],7)"
   ]
  }
 ],
 "metadata": {
  "interpreter": {
   "hash": "fff8f1baadadc5fbf51030dcb2db9f6c81b6acfa6e5b0bb822f1d9b4c699540c"
  },
  "kernelspec": {
   "display_name": "Python 3.8.8 ('base')",
   "language": "python",
   "name": "python3"
  },
  "language_info": {
   "codemirror_mode": {
    "name": "ipython",
    "version": 3
   },
   "file_extension": ".py",
   "mimetype": "text/x-python",
   "name": "python",
   "nbconvert_exporter": "python",
   "pygments_lexer": "ipython3",
   "version": "3.8.8"
  },
  "orig_nbformat": 4
 },
 "nbformat": 4,
 "nbformat_minor": 2
}
