{
 "cells": [
  {
   "cell_type": "code",
   "execution_count": 1,
   "metadata": {},
   "outputs": [],
   "source": [
    "class ListNode:\n",
    "    def __init__(self, val=0, next=None):\n",
    "        self.val = val\n",
    "        self.next = next\n",
    "def makeListNode(head):\n",
    "    edit = arr = ListNode()\n",
    "    for n in head:\n",
    "        edit.next = ListNode(n)\n",
    "        edit = edit.next\n",
    "    arr = arr.next\n",
    "    return arr"
   ]
  },
  {
   "cell_type": "code",
   "execution_count": 2,
   "metadata": {},
   "outputs": [
    {
     "data": {
      "text/plain": [
       "False"
      ]
     },
     "execution_count": 2,
     "metadata": {},
     "output_type": "execute_result"
    }
   ],
   "source": [
    "# pop(0) 사용\n",
    "def isPalindrome(self, head) -> bool:\n",
    "    arr = []\n",
    "\n",
    "    if not head:\n",
    "        return True\n",
    "    \n",
    "    while head != None:\n",
    "        arr.append(head.val)\n",
    "        head = head.next\n",
    "\n",
    "    while len(arr) > 1:\n",
    "        if arr.pop(0) != arr.pop():\n",
    "            return False\n",
    "    return True\n",
    "\n",
    "isPalindrome(None,makeListNode([2,1]))"
   ]
  },
  {
   "cell_type": "code",
   "execution_count": 3,
   "metadata": {},
   "outputs": [
    {
     "data": {
      "text/plain": [
       "False"
      ]
     },
     "execution_count": 3,
     "metadata": {},
     "output_type": "execute_result"
    }
   ],
   "source": [
    "# deque 사용\n",
    "def isPalindrome(self, head) -> bool:\n",
    "    from collections import deque\n",
    "    arr = deque()\n",
    "\n",
    "    if not head:\n",
    "        return True\n",
    "    \n",
    "    while head != None:\n",
    "        arr.append(head.val)\n",
    "        head = head.next\n",
    "\n",
    "    while len(arr) > 1:\n",
    "        if arr.popleft() != arr.pop():\n",
    "            return False\n",
    "    return True\n",
    "\n",
    "isPalindrome(None,makeListNode([2,1]))"
   ]
  },
  {
   "cell_type": "code",
   "execution_count": 5,
   "metadata": {},
   "outputs": [
    {
     "data": {
      "text/plain": [
       "True"
      ]
     },
     "execution_count": 5,
     "metadata": {},
     "output_type": "execute_result"
    }
   ],
   "source": [
    "# 런너 기법\n",
    "def isPalindrome(self, head) -> bool:\n",
    "    rev = None\n",
    "    slow = fast = head\n",
    "    \n",
    "    while fast and fast.next:\n",
    "        fast = fast.next.next\n",
    "        rev, rev.next, slow = slow, rev, slow.next\n",
    "    if fast:\n",
    "        slow = slow.next\n",
    "        \n",
    "    while rev and rev.val == slow.val:\n",
    "        slow, rev = slow.next, rev.next\n",
    "    \n",
    "    return not rev\n",
    "\n",
    "isPalindrome(None,makeListNode([1,2,2,1]))"
   ]
  }
 ],
 "metadata": {
  "interpreter": {
   "hash": "fff8f1baadadc5fbf51030dcb2db9f6c81b6acfa6e5b0bb822f1d9b4c699540c"
  },
  "kernelspec": {
   "display_name": "Python 3.8.8 ('base')",
   "language": "python",
   "name": "python3"
  },
  "language_info": {
   "codemirror_mode": {
    "name": "ipython",
    "version": 3
   },
   "file_extension": ".py",
   "mimetype": "text/x-python",
   "name": "python",
   "nbconvert_exporter": "python",
   "pygments_lexer": "ipython3",
   "version": "3.8.8"
  },
  "orig_nbformat": 4
 },
 "nbformat": 4,
 "nbformat_minor": 2
}
