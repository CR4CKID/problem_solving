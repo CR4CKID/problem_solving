{
 "cells": [
  {
   "cell_type": "code",
   "execution_count": null,
   "metadata": {},
   "outputs": [],
   "source": [
    "class ListNode:\n",
    "    def __init__(self, val=0, next=None):\n",
    "        self.val = val\n",
    "        self.next = next\n",
    "\n",
    "def makeListNode(head):\n",
    "    edit = arr = ListNode()\n",
    "    for n in head:\n",
    "        edit.next = ListNode(n)\n",
    "        edit = edit.next\n",
    "    return arr.next\n",
    "\n",
    "def Node_to_List(head):\n",
    "    arr = []\n",
    "    while head != None:\n",
    "        arr.append(head.val)\n",
    "        head = head.next\n",
    "    return arr"
   ]
  },
  {
   "cell_type": "code",
   "execution_count": null,
   "metadata": {},
   "outputs": [],
   "source": []
  }
 ],
 "metadata": {
  "language_info": {
   "name": "python"
  },
  "orig_nbformat": 4
 },
 "nbformat": 4,
 "nbformat_minor": 2
}
