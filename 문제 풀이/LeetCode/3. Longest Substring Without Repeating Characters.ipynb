{
 "cells": [
  {
   "cell_type": "code",
   "execution_count": 23,
   "metadata": {},
   "outputs": [
    {
     "data": {
      "text/plain": [
       "5"
      ]
     },
     "execution_count": 23,
     "metadata": {},
     "output_type": "execute_result"
    }
   ],
   "source": [
    "class Solution:\n",
    "    def lengthOfLongestSubstring(self, s: str) -> int:\n",
    "        used = {}\n",
    "        max_length = start = 0\n",
    "        for i, char in enumerate(s):\n",
    "            if char in used and start <= used[char]:\n",
    "                start = used[char] + 1\n",
    "            else:\n",
    "                max_length = max(max_length, i-start+1)\n",
    "            \n",
    "            used[char] = i\n",
    "        return max_length\n",
    "Solution().lengthOfLongestSubstring('abbasxq')"
   ]
  },
  {
   "cell_type": "code",
   "execution_count": 20,
   "metadata": {},
   "outputs": [
    {
     "data": {
      "text/plain": [
       "2"
      ]
     },
     "execution_count": 20,
     "metadata": {},
     "output_type": "execute_result"
    }
   ],
   "source": [
    "class Solution:\n",
    "    def lengthOfLongestSubstring(self, s: str) -> int:\n",
    "        from collections import Counter\n",
    "        \n",
    "        count = Counter(s)\n",
    "        if len(count) == 1:\n",
    "            return 1\n",
    "        max_length = len(count)\n",
    "        \n",
    "        longest = 0\n",
    "        \n",
    "        for i in range(len(s)-1):\n",
    "            \n",
    "            if s[i] == s[i+1]:\n",
    "                continue\n",
    "            \n",
    "            n = i+1\n",
    "            while n < len(s):\n",
    "                if s[n] in s[i:n]:\n",
    "                    break\n",
    "                n += 1\n",
    "            \n",
    "            longest = max(longest, n-i)\n",
    "            \n",
    "            if longest == max_length:\n",
    "                return longest\n",
    "        return longest\n",
    "\n",
    "\n",
    "Solution().lengthOfLongestSubstring('bbbab')"
   ]
  },
  {
   "cell_type": "code",
   "execution_count": 17,
   "metadata": {},
   "outputs": [
    {
     "data": {
      "text/plain": [
       "Counter({'1': 1, '2': 1, '3': 1})"
      ]
     },
     "execution_count": 17,
     "metadata": {},
     "output_type": "execute_result"
    }
   ],
   "source": [
    "from collections import Counter\n",
    "a = Counter('123')\n",
    "len(a)\n",
    "a"
   ]
  }
 ],
 "metadata": {
  "interpreter": {
   "hash": "fff8f1baadadc5fbf51030dcb2db9f6c81b6acfa6e5b0bb822f1d9b4c699540c"
  },
  "kernelspec": {
   "display_name": "Python 3.8.8 ('base')",
   "language": "python",
   "name": "python3"
  },
  "language_info": {
   "codemirror_mode": {
    "name": "ipython",
    "version": 3
   },
   "file_extension": ".py",
   "mimetype": "text/x-python",
   "name": "python",
   "nbconvert_exporter": "python",
   "pygments_lexer": "ipython3",
   "version": "3.8.8"
  },
  "orig_nbformat": 4
 },
 "nbformat": 4,
 "nbformat_minor": 2
}
