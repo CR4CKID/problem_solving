{
 "cells": [
  {
   "cell_type": "code",
   "execution_count": 35,
   "metadata": {},
   "outputs": [],
   "source": [
    "class Solution:\n",
    "    def shiftGrid(self, grid, k: int):\n",
    "        col, nums = len(grid[0]), sum(grid, [])\n",
    "        k = k % len(nums)\n",
    "        nums = nums[-k:] + nums[:-k]\n",
    "        return [nums[i:i+col] for i in range(0, len(nums), col)]"
   ]
  },
  {
   "cell_type": "code",
   "execution_count": 28,
   "metadata": {},
   "outputs": [
    {
     "data": {
      "text/plain": [
       "[[6], [5], [1], [2], [3], [4], [7]]"
      ]
     },
     "execution_count": 28,
     "metadata": {},
     "output_type": "execute_result"
    }
   ],
   "source": [
    "from collections import deque\n",
    "\n",
    "class Solution:\n",
    "    def shiftGrid(self, grid, k: int):\n",
    "        arr = deque()\n",
    "        for g in grid:\n",
    "            arr += [*g]\n",
    "        \n",
    "        n = len(grid[0])\n",
    "        arr.rotate(k)\n",
    "        arr = list(arr)\n",
    "        ans = []\n",
    "        while arr:\n",
    "            ans.append(arr[:n])\n",
    "            arr = arr[n:]\n",
    "        return ans\n",
    "    \n",
    "Solution().shiftGrid([[1],[2],[3],[4],[7],[6],[5]], 23)        "
   ]
  }
 ],
 "metadata": {
  "interpreter": {
   "hash": "fff8f1baadadc5fbf51030dcb2db9f6c81b6acfa6e5b0bb822f1d9b4c699540c"
  },
  "kernelspec": {
   "display_name": "Python 3.8.8 ('base')",
   "language": "python",
   "name": "python3"
  },
  "language_info": {
   "codemirror_mode": {
    "name": "ipython",
    "version": 3
   },
   "file_extension": ".py",
   "mimetype": "text/x-python",
   "name": "python",
   "nbconvert_exporter": "python",
   "pygments_lexer": "ipython3",
   "version": "3.8.8"
  },
  "orig_nbformat": 4
 },
 "nbformat": 4,
 "nbformat_minor": 2
}
