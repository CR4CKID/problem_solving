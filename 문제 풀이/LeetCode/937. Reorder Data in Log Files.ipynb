{
 "cells": [
  {
   "cell_type": "code",
   "execution_count": 41,
   "metadata": {},
   "outputs": [
    {
     "data": {
      "text/plain": [
       "['1 n u', 'r 527', 'j 893', '6 82']"
      ]
     },
     "execution_count": 41,
     "metadata": {},
     "output_type": "execute_result"
    }
   ],
   "source": [
    "# 식별자를 key로 두고 사전을 만들면 중복되는 식별자가 존재할 수 있기때문에 통과 못함\n",
    "logs = [\"1 n u\", \"r 527\", \"j 893\", \"6 14\", \"6 82\"]\n",
    "\n",
    "logs = {log.pop(0):log for log in [log.split(' ') for log in logs]}\n",
    "logs_digit, logs_lett = {}, {}\n",
    "ans = []\n",
    "\n",
    "for key, item in logs.items():\n",
    "    if item[0].isdigit():\n",
    "        logs_digit[key] = item\n",
    "    else:\n",
    "        logs_lett[key] = item\n",
    "\n",
    "for lett in sorted(logs_lett.items(), key= lambda x: (x[1],x[0])):\n",
    "    ans.append(' '.join([lett[0], ' '.join(lett[1])]))\n",
    "    \n",
    "for digit in logs_digit.items():\n",
    "    ans.append(' '.join([digit[0], ' '.join(digit[1])]))\n",
    "\n",
    "ans"
   ]
  },
  {
   "cell_type": "code",
   "execution_count": 5,
   "metadata": {},
   "outputs": [
    {
     "data": {
      "text/plain": [
       "['1 n u', 'r 527', 'j 893', '6 14', '6 82']"
      ]
     },
     "execution_count": 5,
     "metadata": {},
     "output_type": "execute_result"
    }
   ],
   "source": [
    "# isdigit(): 문자열이 숫자로 이루어져 있는지 체크\n",
    "logs = [\"1 n u\", \"r 527\", \"j 893\", \"6 14\", \"6 82\"]\n",
    "\n",
    "logs = [log.split(' ') for log in logs]\n",
    "logs_digit, logs_lett = [], []\n",
    "ans = []\n",
    "\n",
    "for log in logs:\n",
    "    if log[1].isdigit():\n",
    "        logs_digit.append(log)\n",
    "    else:\n",
    "        logs_lett.append(log)\n",
    "\n",
    "for lett in sorted(logs_lett, key= lambda x: (x[1:], x[0])): # lambda의 튜플안에 슬라이싱 형태로 전달도 가능\n",
    "    ans.append(' '.join(lett))\n",
    "    \n",
    "for digit in logs_digit:\n",
    "    ans.append(' '.join(digit))\n",
    "\n",
    "ans"
   ]
  },
  {
   "cell_type": "code",
   "execution_count": 12,
   "metadata": {},
   "outputs": [
    {
     "data": {
      "text/plain": [
       "['1 n u', 'r 527', 'j 893', '6 14', '6 82']"
      ]
     },
     "execution_count": 12,
     "metadata": {},
     "output_type": "execute_result"
    }
   ],
   "source": [
    "logs = [\"1 n u\", \"r 527\", \"j 893\", \"6 14\", \"6 82\"]\n",
    "\n",
    "logs = [log.split(' ') for log in logs]\n",
    "logs_digit, logs_lett = [], []\n",
    "\n",
    "for log in logs:\n",
    "    if log[1].isdigit():\n",
    "        logs_digit.append(log)\n",
    "    else:\n",
    "        logs_lett.append(log)\n",
    "\n",
    "ans = [' '.join(log) for log in sorted(logs_lett, key= lambda x: (x[1:], x[0])) + logs_digit]\n"
   ]
  },
  {
   "cell_type": "code",
   "execution_count": 16,
   "metadata": {},
   "outputs": [
    {
     "data": {
      "text/plain": [
       "[[2, 1, 2], [1, 2, 3], [1, 3, 2], [1, 3, 3]]"
      ]
     },
     "execution_count": 16,
     "metadata": {},
     "output_type": "execute_result"
    }
   ],
   "source": [
    "arr = [[1,2,3], [1,3,2], [1,3,3],[2,1,2]]\n",
    "\n",
    "sorted(arr, key= lambda x: x[1:])"
   ]
  },
  {
   "cell_type": "code",
   "execution_count": 17,
   "metadata": {},
   "outputs": [
    {
     "data": {
      "text/plain": [
       "['1 n u', 'r 527', 'j 893', '6 14', '6 82']"
      ]
     },
     "execution_count": 17,
     "metadata": {},
     "output_type": "execute_result"
    }
   ],
   "source": [
    "# 책 풀이\n",
    "logs = [\"1 n u\", \"r 527\", \"j 893\", \"6 14\", \"6 82\"]\n",
    "\n",
    "digit, letter = [], []\n",
    "for log in logs:\n",
    "    if log.split()[1].isdigit():\n",
    "        digit.append(log)\n",
    "    else:\n",
    "        letter.append(log)\n",
    "\n",
    "letter.sort(key= lambda x: (x.split()[1:], x.split()[0]))\n",
    "\n",
    "letter + digit"
   ]
  }
 ],
 "metadata": {
  "interpreter": {
   "hash": "fff8f1baadadc5fbf51030dcb2db9f6c81b6acfa6e5b0bb822f1d9b4c699540c"
  },
  "kernelspec": {
   "display_name": "Python 3.8.8 ('base')",
   "language": "python",
   "name": "python3"
  },
  "language_info": {
   "codemirror_mode": {
    "name": "ipython",
    "version": 3
   },
   "file_extension": ".py",
   "mimetype": "text/x-python",
   "name": "python",
   "nbconvert_exporter": "python",
   "pygments_lexer": "ipython3",
   "version": "3.8.8"
  },
  "orig_nbformat": 4
 },
 "nbformat": 4,
 "nbformat_minor": 2
}
