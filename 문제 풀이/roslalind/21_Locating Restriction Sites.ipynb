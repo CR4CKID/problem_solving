{
 "cells": [
  {
   "cell_type": "code",
   "execution_count": 41,
   "metadata": {},
   "outputs": [
    {
     "data": {
      "text/plain": [
       "Seq('GCGCAAGCGACTCGAACCAGACGGCCTTCGACGCTCCTAGTGGGGAGACGAGGT...TAT')"
      ]
     },
     "execution_count": 41,
     "metadata": {},
     "output_type": "execute_result"
    }
   ],
   "source": [
    "from Bio.Seq import Seq\n",
    "from Bio import SeqIO\n",
    "\n",
    "seq = SeqIO.read('sample.fasta', 'fasta').seq\n",
    "seq"
   ]
  },
  {
   "cell_type": "code",
   "execution_count": 42,
   "metadata": {},
   "outputs": [],
   "source": [
    "def palindrome(seq):\n",
    "    l = 0\n",
    "    for n in range(4, len(seq)+1, 2):\n",
    "        if seq[:n] == seq[:n].reverse_complement():\n",
    "            l = n\n",
    "    return l"
   ]
  },
  {
   "cell_type": "code",
   "execution_count": 43,
   "metadata": {},
   "outputs": [
    {
     "name": "stdout",
     "output_type": "stream",
     "text": [
      "1 4\n",
      "12 4\n",
      "23 4\n",
      "28 4\n",
      "37 4\n",
      "58 6\n",
      "59 4\n",
      "61 4\n",
      "64 4\n",
      "78 4\n",
      "92 4\n",
      "104 6\n",
      "105 4\n",
      "108 6\n",
      "109 4\n",
      "111 4\n",
      "124 4\n",
      "144 4\n",
      "145 6\n",
      "146 4\n",
      "149 4\n",
      "185 8\n",
      "186 6\n",
      "187 4\n",
      "206 4\n",
      "209 4\n",
      "234 4\n",
      "253 4\n",
      "254 4\n",
      "268 4\n",
      "276 4\n",
      "292 4\n",
      "294 6\n",
      "295 4\n",
      "304 4\n",
      "310 10\n",
      "311 8\n",
      "312 6\n",
      "313 4\n",
      "324 4\n",
      "350 4\n",
      "354 4\n",
      "389 8\n",
      "390 6\n",
      "391 4\n",
      "394 4\n",
      "397 4\n",
      "403 12\n",
      "404 10\n",
      "405 8\n",
      "406 6\n",
      "407 4\n",
      "422 4\n",
      "472 4\n",
      "475 6\n",
      "476 4\n",
      "498 4\n",
      "508 4\n",
      "543 4\n",
      "558 4\n",
      "593 4\n",
      "633 6\n",
      "634 4\n",
      "642 4\n",
      "653 4\n",
      "655 4\n",
      "682 4\n",
      "691 4\n",
      "694 4\n",
      "724 4\n",
      "729 4\n",
      "757 6\n",
      "758 4\n",
      "778 4\n",
      "813 4\n"
     ]
    }
   ],
   "source": [
    "for i in range(len(seq)-3):\n",
    "    s = palindrome(seq[i:])\n",
    "    if 4 <= s <= 12:\n",
    "        print(i+1, s)"
   ]
  }
 ],
 "metadata": {
  "interpreter": {
   "hash": "fff8f1baadadc5fbf51030dcb2db9f6c81b6acfa6e5b0bb822f1d9b4c699540c"
  },
  "kernelspec": {
   "display_name": "Python 3.8.8 ('base')",
   "language": "python",
   "name": "python3"
  },
  "language_info": {
   "codemirror_mode": {
    "name": "ipython",
    "version": 3
   },
   "file_extension": ".py",
   "mimetype": "text/x-python",
   "name": "python",
   "nbconvert_exporter": "python",
   "pygments_lexer": "ipython3",
   "version": "3.8.8"
  },
  "orig_nbformat": 4
 },
 "nbformat": 4,
 "nbformat_minor": 2
}
