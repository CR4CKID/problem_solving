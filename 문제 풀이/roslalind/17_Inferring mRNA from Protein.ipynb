{
 "cells": [
  {
   "cell_type": "code",
   "execution_count": 9,
   "metadata": {},
   "outputs": [
    {
     "data": {
      "text/plain": [
       "[('GCT', 'A'), ('GCC', 'A'), ('GCA', 'A'), ('GCG', 'A')]"
      ]
     },
     "execution_count": 9,
     "metadata": {},
     "output_type": "execute_result"
    }
   ],
   "source": [
    "table = {\n",
    "    \"TTT\": \"F\", \"TTC\": \"F\", \"TTA\": \"L\", \"TTG\": \"L\",\n",
    "        \"TCT\": \"S\", \"TCC\": \"S\", \"TCA\": \"S\", \"TCG\": \"S\",\n",
    "        \"TAT\": \"Y\", \"TAC\": \"Y\",                           # noqa: E241\n",
    "        \"TGT\": \"C\", \"TGC\": \"C\",             \"TGG\": \"W\",   # noqa: E241\n",
    "        \"CTT\": \"L\", \"CTC\": \"L\", \"CTA\": \"L\", \"CTG\": \"L\",\n",
    "        \"CCT\": \"P\", \"CCC\": \"P\", \"CCA\": \"P\", \"CCG\": \"P\",\n",
    "        \"CAT\": \"H\", \"CAC\": \"H\", \"CAA\": \"Q\", \"CAG\": \"Q\",\n",
    "        \"CGT\": \"R\", \"CGC\": \"R\", \"CGA\": \"R\", \"CGG\": \"R\",\n",
    "        \"ATT\": \"I\", \"ATC\": \"I\", \"ATA\": \"I\", \"ATG\": \"M\",\n",
    "        \"ACT\": \"T\", \"ACC\": \"T\", \"ACA\": \"T\", \"ACG\": \"T\",\n",
    "        \"AAT\": \"N\", \"AAC\": \"N\", \"AAA\": \"K\", \"AAG\": \"K\",\n",
    "        \"AGT\": \"S\", \"AGC\": \"S\", \"AGA\": \"R\", \"AGG\": \"R\",\n",
    "        \"GTT\": \"V\", \"GTC\": \"V\", \"GTA\": \"V\", \"GTG\": \"V\",\n",
    "        \"GCT\": \"A\", \"GCC\": \"A\", \"GCA\": \"A\", \"GCG\": \"A\",\n",
    "        \"GAT\": \"D\", \"GAC\": \"D\", \"GAA\": \"E\", \"GAG\": \"E\",\n",
    "        \"GGT\": \"G\", \"GGC\": \"G\", \"GGA\": \"G\", \"GGG\": \"G\",\n",
    "}\n",
    "\n",
    "list(filter(lambda x: x[1] == 'A', table.items()))"
   ]
  },
  {
   "cell_type": "code",
   "execution_count": 10,
   "metadata": {},
   "outputs": [
    {
     "data": {
      "text/plain": [
       "{'F': 2,\n",
       " 'L': 6,\n",
       " 'S': 6,\n",
       " 'Y': 2,\n",
       " 'C': 2,\n",
       " 'W': 1,\n",
       " 'P': 4,\n",
       " 'H': 2,\n",
       " 'Q': 2,\n",
       " 'R': 6,\n",
       " 'I': 3,\n",
       " 'M': 1,\n",
       " 'T': 4,\n",
       " 'N': 2,\n",
       " 'K': 2,\n",
       " 'V': 4,\n",
       " 'A': 4,\n",
       " 'D': 2,\n",
       " 'E': 2,\n",
       " 'G': 4}"
      ]
     },
     "execution_count": 10,
     "metadata": {},
     "output_type": "execute_result"
    }
   ],
   "source": [
    "count_list = {}\n",
    "for con in table.items():\n",
    "    if con[1] in count_list:\n",
    "        count_list[con[1]] += 1\n",
    "    else:\n",
    "        count_list[con[1]] = 1\n",
    "        \n",
    "count_list"
   ]
  },
  {
   "cell_type": "code",
   "execution_count": 14,
   "metadata": {},
   "outputs": [
    {
     "data": {
      "text/plain": [
       "19332084318471398919842090121435394207879882109928923024954186250893685764061896065094715267735131176620647184672748901562982386012834716084567054169021910943530101290728105820141438189825316079920025703750509807534880774083280620197465490718427851554385774725885980093184026733570140387778404937171183208713521171342613944647782826378930620320237317431079050080736752799094690618511539059351636207501582760506025651994624"
      ]
     },
     "execution_count": 14,
     "metadata": {},
     "output_type": "execute_result"
    }
   ],
   "source": [
    "pro = input()\n",
    "rna = 3\n",
    "for aa in pro:\n",
    "    rna *= count_list[aa]\n",
    "    \n",
    "rna"
   ]
  }
 ],
 "metadata": {
  "interpreter": {
   "hash": "fff8f1baadadc5fbf51030dcb2db9f6c81b6acfa6e5b0bb822f1d9b4c699540c"
  },
  "kernelspec": {
   "display_name": "Python 3.8.8 ('base')",
   "language": "python",
   "name": "python3"
  },
  "language_info": {
   "codemirror_mode": {
    "name": "ipython",
    "version": 3
   },
   "file_extension": ".py",
   "mimetype": "text/x-python",
   "name": "python",
   "nbconvert_exporter": "python",
   "pygments_lexer": "ipython3",
   "version": "3.8.8"
  },
  "orig_nbformat": 4
 },
 "nbformat": 4,
 "nbformat_minor": 2
}
