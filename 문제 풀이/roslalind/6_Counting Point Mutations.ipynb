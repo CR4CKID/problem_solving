{
 "cells": [
  {
   "cell_type": "code",
   "execution_count": null,
   "metadata": {},
   "outputs": [],
   "source": [
    "'''Given two strings s and t of equal length, the Hamming distance between s and t, denoted dH(s,t), is the number of corresponding symbols that differ in s and t. See Figure 2.\n",
    "\n",
    "Given: Two DNA strings s and t of equal length (not exceeding 1 kbp).\n",
    "\n",
    "Return: The Hamming distance dH(s,t).'''"
   ]
  },
  {
   "cell_type": "code",
   "execution_count": 4,
   "metadata": {},
   "outputs": [
    {
     "data": {
      "text/plain": [
       "489"
      ]
     },
     "execution_count": 4,
     "metadata": {},
     "output_type": "execute_result"
    }
   ],
   "source": [
    "f1,f2 = input().split()\n",
    "num = 0\n",
    "for a, b in zip(f1, f2):\n",
    "    if a != b:\n",
    "        num += 1\n",
    "num"
   ]
  }
 ],
 "metadata": {
  "interpreter": {
   "hash": "fff8f1baadadc5fbf51030dcb2db9f6c81b6acfa6e5b0bb822f1d9b4c699540c"
  },
  "kernelspec": {
   "display_name": "Python 3.8.8 64-bit ('base': conda)",
   "language": "python",
   "name": "python3"
  },
  "language_info": {
   "codemirror_mode": {
    "name": "ipython",
    "version": 3
   },
   "file_extension": ".py",
   "mimetype": "text/x-python",
   "name": "python",
   "nbconvert_exporter": "python",
   "pygments_lexer": "ipython3",
   "version": "3.8.8"
  },
  "orig_nbformat": 4
 },
 "nbformat": 4,
 "nbformat_minor": 2
}
