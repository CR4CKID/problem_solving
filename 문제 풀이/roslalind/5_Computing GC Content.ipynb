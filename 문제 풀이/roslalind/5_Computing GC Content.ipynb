{
 "cells": [
  {
   "cell_type": "code",
   "execution_count": 17,
   "metadata": {},
   "outputs": [
    {
     "name": "stdout",
     "output_type": "stream",
     "text": [
      "Rosalind_0852\n",
      "51.64948453608248\n"
     ]
    }
   ],
   "source": [
    "from collections import Counter\n",
    "\n",
    "data_dict = {}\n",
    "datas = input().split('>')[1:]\n",
    "for data in datas:\n",
    "    name = data[:13]\n",
    "    string = data[14:].replace(' ', '')\n",
    "    compo = Counter(string)\n",
    "    data_dict[name] = (compo['C'] + compo['G']) / len(string) * 100\n",
    "m = max(data_dict.items(), key= lambda x : x[1])\n",
    "print(f'{m[0]}\\n{m[1]}')"
   ]
  }
 ],
 "metadata": {
  "interpreter": {
   "hash": "fff8f1baadadc5fbf51030dcb2db9f6c81b6acfa6e5b0bb822f1d9b4c699540c"
  },
  "kernelspec": {
   "display_name": "Python 3.8.8 64-bit ('base': conda)",
   "language": "python",
   "name": "python3"
  },
  "language_info": {
   "codemirror_mode": {
    "name": "ipython",
    "version": 3
   },
   "file_extension": ".py",
   "mimetype": "text/x-python",
   "name": "python",
   "nbconvert_exporter": "python",
   "pygments_lexer": "ipython3",
   "version": "3.8.8"
  },
  "orig_nbformat": 4
 },
 "nbformat": 4,
 "nbformat_minor": 2
}
