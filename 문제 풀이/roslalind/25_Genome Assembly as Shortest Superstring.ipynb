{
 "cells": [
  {
   "cell_type": "code",
   "execution_count": null,
   "metadata": {},
   "outputs": [],
   "source": [
    "from Bio import SeqIO\n",
    "\n",
    "records = SeqIO.parse('sample.fasta', 'fasta')\n",
    "data = [str(record.seq) for record in records]\n",
    "data"
   ]
  },
  {
   "cell_type": "code",
   "execution_count": 20,
   "metadata": {},
   "outputs": [],
   "source": [
    "def substring(long, short):\n",
    "    l = len(short) // 2\n",
    "    def combine(a,b):\n",
    "        return a[:a.index(b[:l])] + b\n",
    "    if short[:l] in long:\n",
    "        return combine(long,short)\n",
    "    elif long[:l] in short:\n",
    "        return combine(short,long)\n"
   ]
  },
  {
   "cell_type": "code",
   "execution_count": null,
   "metadata": {},
   "outputs": [],
   "source": [
    "ans = data.pop()\n",
    "while data:\n",
    "    for seq1 in data:\n",
    "        if substring(ans, seq1):\n",
    "            ans = substring(ans, seq1)\n",
    "            data.remove(seq1)\n",
    "            break"
   ]
  }
 ],
 "metadata": {
  "interpreter": {
   "hash": "fff8f1baadadc5fbf51030dcb2db9f6c81b6acfa6e5b0bb822f1d9b4c699540c"
  },
  "kernelspec": {
   "display_name": "Python 3.8.8 ('base')",
   "language": "python",
   "name": "python3"
  },
  "language_info": {
   "codemirror_mode": {
    "name": "ipython",
    "version": 3
   },
   "file_extension": ".py",
   "mimetype": "text/x-python",
   "name": "python",
   "nbconvert_exporter": "python",
   "pygments_lexer": "ipython3",
   "version": "3.8.8"
  },
  "orig_nbformat": 4
 },
 "nbformat": 4,
 "nbformat_minor": 2
}
