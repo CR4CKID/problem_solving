{
 "cells": [
  {
   "cell_type": "markdown",
   "metadata": {},
   "source": [
    "일반적인 피보나치 \n",
    "1 1 2 3 5 8 \n",
    "\n",
    "3개월이면 죽는 피보나치\n",
    "1 1 2 2 3 4"
   ]
  },
  {
   "cell_type": "code",
   "execution_count": 77,
   "metadata": {},
   "outputs": [],
   "source": [
    "month, life = map(int, input().split(' '))\n",
    "answer = [0] * (month+1)\n",
    "dying = [0] * (month+life+1)"
   ]
  },
  {
   "cell_type": "code",
   "execution_count": 78,
   "metadata": {},
   "outputs": [],
   "source": [
    "def mortal_rab(month):\n",
    "    if month <= 2:\n",
    "        dying[life+1] = 1\n",
    "        answer[month] = 1\n",
    "    if answer[month] == 0:\n",
    "        answer[month] = mortal_rab(month-1) + mortal_rab(month-2) - dying[month]\n",
    "        dying[month+life-1] = mortal_rab(month-2)\n",
    "    return answer[month]"
   ]
  },
  {
   "cell_type": "code",
   "execution_count": 79,
   "metadata": {},
   "outputs": [
    {
     "data": {
      "text/plain": [
       "12081658148171622250"
      ]
     },
     "execution_count": 79,
     "metadata": {},
     "output_type": "execute_result"
    }
   ],
   "source": [
    "mortal_rab(month)"
   ]
  },
  {
   "cell_type": "code",
   "execution_count": 80,
   "metadata": {},
   "outputs": [
    {
     "data": {
      "text/plain": [
       "12081658148171622250"
      ]
     },
     "execution_count": 80,
     "metadata": {},
     "output_type": "execute_result"
    }
   ],
   "source": [
    "def fib(n,k=1):\n",
    "  ages = [1] + [0]*(k-1)\n",
    "  for i in range(n-1):\n",
    "    ages = [sum(ages[1:])] + ages[:-1]\n",
    "  return sum(ages)\n",
    "fib(month, life)"
   ]
  }
 ],
 "metadata": {
  "interpreter": {
   "hash": "fff8f1baadadc5fbf51030dcb2db9f6c81b6acfa6e5b0bb822f1d9b4c699540c"
  },
  "kernelspec": {
   "display_name": "Python 3.8.8 64-bit ('base': conda)",
   "language": "python",
   "name": "python3"
  },
  "language_info": {
   "codemirror_mode": {
    "name": "ipython",
    "version": 3
   },
   "file_extension": ".py",
   "mimetype": "text/x-python",
   "name": "python",
   "nbconvert_exporter": "python",
   "pygments_lexer": "ipython3",
   "version": "3.8.8"
  },
  "orig_nbformat": 4
 },
 "nbformat": 4,
 "nbformat_minor": 2
}
