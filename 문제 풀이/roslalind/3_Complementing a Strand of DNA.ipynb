{
 "cells": [
  {
   "cell_type": "code",
   "execution_count": null,
   "metadata": {},
   "outputs": [],
   "source": [
    "'''\n",
    "Problem\n",
    "In DNA strings, symbols 'A' and 'T' are complements of each other, as are 'C' and 'G'.\n",
    "\n",
    "The reverse complement of a DNA string s is the string sc formed by reversing the symbols of s, then taking the complement of each symbol (e.g., the reverse complement of \"GTCA\" is \"TGAC\").\n",
    "\n",
    "Given: A DNA string s of length at most 1000 bp.\n",
    "\n",
    "Return: The reverse complement sc of s.\n",
    "\n",
    "Sample Dataset\n",
    "AAAACCCGGT\n",
    "Sample Output\n",
    "ACCGGGTTTT\n",
    "\n",
    "'''"
   ]
  },
  {
   "cell_type": "code",
   "execution_count": 2,
   "metadata": {},
   "outputs": [
    {
     "data": {
      "text/plain": [
       "'AGGGGGAGGGCTGAACCGGTCTCTTAAATAGTAAATACCGGATTTTGTCTATTATTCCACGGTGAAGCATCAGGCTAGGTACAAGCAGGAGCATATTTTGAACTTACGGACCAGAATTTTCCCCGGTCTTCCATAATCACGATCCTCACCCCATTGGACAATGGGACGTGAATTATTCTATGTGGACAATTGTTCAAGTCTCCGCACCTTCGTATATAGATGTAGTTAATGACGTACTTCCTCTGCACCGTTGTTTGCCTAGCCAAGTAGTGTGTGATGCGGCGGAAAGATGTTCCCTTGCGCGAGCGAAAGGAGCTTGCGATCTCCCTCGTGGATGAGCTACCTCTCGACCCGGGTTAAATCTGTGATCAATGGTTGGCCATCTTATAATGAATCGCCCCCGTGGGCCCGCCTCATCGTGTCCTTCGACTGATGATAAGTTGATACTGAATGCATTGAGTGACATGTCGGGAACTTATTTCCTAATCCTAACCTCACTTTGACAGCGCAGAAGCGGCACGTGTATATCAAACCTGCGGCGCGCCGTTATTTTAATATCAGCCGGTGATATTAACTCATACAAATACTAAACCAACGCTCTCCGATCACCAAAATGATTCGGTCAAAGTTCTGAACATTCACTGTCGACATCTCCTTGAAATGGGCCTGCCGTGTGTTATGCGTACCAGTGGCGTTGGAAGGCTTCTCTTTTATCCGTACGAAAGGGCCTAGACAAGGTTAGTCTAGATCCAGATCCTCGGATCAAGGGCCGGTTCGACCCCGGCATAATGCAAAAATGTCGAGCCTTATTGTAGACGATGCGCGGAATCTTAGATGGACTTTCCAACCAGCTGCTAACTTAGTAGTGGATCGGTTTGCTTTTCA'"
      ]
     },
     "execution_count": 2,
     "metadata": {},
     "output_type": "execute_result"
    }
   ],
   "source": [
    "DNA = input()\n",
    "RNA = []\n",
    "DNA = ''.join(reversed(DNA))\n",
    "for i in DNA:\n",
    "    if i == 'A':\n",
    "        RNA.append('T')\n",
    "    elif i == 'T':\n",
    "        RNA.append('A')\n",
    "    elif i == 'C':\n",
    "        RNA.append('G')\n",
    "    else:\n",
    "        RNA.append('C')\n",
    "''.join(RNA)"
   ]
  },
  {
   "cell_type": "code",
   "execution_count": 4,
   "metadata": {},
   "outputs": [
    {
     "data": {
      "text/plain": [
       "'ACCGGGTTTT'"
      ]
     },
     "execution_count": 4,
     "metadata": {},
     "output_type": "execute_result"
    }
   ],
   "source": [
    "st = \"AAAACCCGGT\"\n",
    "st = st.replace('A', 't').replace('T', 'a').replace('C', 'g').replace('G', 'c').upper()[::-1]\n",
    "st"
   ]
  }
 ],
 "metadata": {
  "interpreter": {
   "hash": "fff8f1baadadc5fbf51030dcb2db9f6c81b6acfa6e5b0bb822f1d9b4c699540c"
  },
  "kernelspec": {
   "display_name": "Python 3.8.8 64-bit ('base': conda)",
   "language": "python",
   "name": "python3"
  },
  "language_info": {
   "codemirror_mode": {
    "name": "ipython",
    "version": 3
   },
   "file_extension": ".py",
   "mimetype": "text/x-python",
   "name": "python",
   "nbconvert_exporter": "python",
   "pygments_lexer": "ipython3",
   "version": "3.8.8"
  },
  "orig_nbformat": 4
 },
 "nbformat": 4,
 "nbformat_minor": 2
}
