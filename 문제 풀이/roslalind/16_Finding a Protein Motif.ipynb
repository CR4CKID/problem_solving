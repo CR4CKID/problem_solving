{
 "cells": [
  {
   "cell_type": "code",
   "execution_count": 12,
   "metadata": {},
   "outputs": [],
   "source": [
    "from itertools import accumulate\n",
    "from Bio import SwissProt\n",
    "from Bio import ExPASy\n",
    "import re"
   ]
  },
  {
   "cell_type": "code",
   "execution_count": 13,
   "metadata": {},
   "outputs": [],
   "source": [
    "p = re.compile(r'N[^P][S|T][^P]')"
   ]
  },
  {
   "cell_type": "code",
   "execution_count": 14,
   "metadata": {},
   "outputs": [],
   "source": [
    "def N_find(access):\n",
    "    handle = ExPASy.get_sprot_raw(access)\n",
    "    seq = SwissProt.read(handle).sequence\n",
    "    ans = []\n",
    "    while p.search(seq):\n",
    "        idx = p.search(seq).start() + 1\n",
    "        ans.append(idx)\n",
    "        seq = seq[idx:]\n",
    "    return ans"
   ]
  },
  {
   "cell_type": "code",
   "execution_count": 15,
   "metadata": {},
   "outputs": [
    {
     "name": "stdout",
     "output_type": "stream",
     "text": [
      "P02790_HEMO_HUMAN\n",
      "64 187 240 246 453\n",
      "P19823_ITH2_HUMAN\n",
      "118 445\n",
      "P00742_FA10_HUMAN\n",
      "221 231\n",
      "P10761_ZP3_MOUSE\n",
      "146 273 304 327 330\n",
      "Q8PV50\n",
      "188 195\n",
      "Q2V4D9\n",
      "64\n",
      "Q181G8\n",
      "13 222 283\n",
      "P11171_41_HUMAN\n",
      "258 281 358\n",
      "Q7TMB8\n",
      "209 291 328 442 607 672 831 858\n",
      "P02760_HC_HUMAN\n",
      "36 115 250\n"
     ]
    }
   ],
   "source": [
    "for id in input().split():\n",
    "    ans = list(accumulate(N_find(id)))\n",
    "    if ans:\n",
    "        print(id)\n",
    "        print(' '.join(map(str, ans)))   "
   ]
  }
 ],
 "metadata": {
  "interpreter": {
   "hash": "fff8f1baadadc5fbf51030dcb2db9f6c81b6acfa6e5b0bb822f1d9b4c699540c"
  },
  "kernelspec": {
   "display_name": "Python 3.8.8 ('base')",
   "language": "python",
   "name": "python3"
  },
  "language_info": {
   "codemirror_mode": {
    "name": "ipython",
    "version": 3
   },
   "file_extension": ".py",
   "mimetype": "text/x-python",
   "name": "python",
   "nbconvert_exporter": "python",
   "pygments_lexer": "ipython3",
   "version": "3.8.8"
  },
  "orig_nbformat": 4
 },
 "nbformat": 4,
 "nbformat_minor": 2
}
