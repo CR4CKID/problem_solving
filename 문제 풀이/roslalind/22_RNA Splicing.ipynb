{
 "cells": [
  {
   "cell_type": "code",
   "execution_count": 48,
   "metadata": {},
   "outputs": [
    {
     "data": {
      "text/plain": [
       "['CGTATTGCGATGGCTCTAGGTCTGTAGCAATTCTTTAAAT',\n",
       " 'TAACCGGGCCAGCCAGGGATCATGCAGCTCGTGTCAGA',\n",
       " 'CCGACCGACTCGGATGT',\n",
       " 'GGTAACAAGGCTACGCCCACTACATAGTTAAGCAGAGCC',\n",
       " 'GTATTTGTTTCCTGTT',\n",
       " 'TTCGTGCCACCCGCATGGGCGTGAGTGCTAGGCTCTACCGTGCTCCT',\n",
       " 'CTTGCTGCCAGCTTGACCGCTCCATTAT',\n",
       " 'CGTACCAGTTAAGTC',\n",
       " 'TCTCAGGGCGAATTCGGATTATC',\n",
       " 'GTGAAAGATGTTTGCCAACATTTGATGACCCGAATAAT',\n",
       " 'TCGCAGAACACAGGGAGAACAACATT',\n",
       " 'GTATAACATGCTGCCTTCGCTTAAGGATTAG',\n",
       " 'TGATTGTGCCAGAAGAGCTT',\n",
       " 'GTTACCGGCA']"
      ]
     },
     "execution_count": 48,
     "metadata": {},
     "output_type": "execute_result"
    }
   ],
   "source": [
    "from Bio.Seq import Seq\n",
    "from Bio import SeqIO\n",
    "\n",
    "introns = []\n",
    "for seq in SeqIO.parse('sample.fasta', 'fasta'):\n",
    "    introns.append(str(seq.seq))\n",
    "main_DNA = introns.pop(0)\n",
    "introns"
   ]
  },
  {
   "cell_type": "code",
   "execution_count": 49,
   "metadata": {},
   "outputs": [
    {
     "name": "stdout",
     "output_type": "stream",
     "text": [
      "MYMQIAAHAMASLSLTNGSASCSDGWWLHGRFFLLPRFRLRRLSIATLHRATLYALASVFAASRDNPGFLPPPSYVLSATLAPSNAVTNTKTEAGDSSAERTKYTTYMAYERSYLCLVYKLSQRDIHTCASDVRPWPRQARARRRVQRSNTAPLETCHKSPWNEIVIPVRPCLMSTNHARLVYLRIS*\n"
     ]
    }
   ],
   "source": [
    "for i in introns:\n",
    "    main_DNA = main_DNA.replace(i, '')\n",
    "\n",
    "print(Seq(main_DNA).translate())"
   ]
  },
  {
   "cell_type": "code",
   "execution_count": 52,
   "metadata": {},
   "outputs": [
    {
     "name": "stdout",
     "output_type": "stream",
     "text": [
      "MYMQIAAHAMASLSLTNGSASCSDGWWLHGRFFLLPRFRLRRLSIATLHRATLYALASVFAASRDNPGFLPPPSYVLSATLAPSNAVTNTKTEAGDSSAERTKYTTYMAYERSYLCLVYKLSQRDIHTCASDVRPWPRQARARRRVQRSNTAPLETCHKSPWNEIVIPVRPCLMSTNHARLVYLRIS\n"
     ]
    }
   ],
   "source": [
    "from Bio.Seq import Seq\n",
    "from Bio import SeqIO\n",
    "\n",
    "instream = SeqIO.parse(\"sample.fasta\",\"fasta\")\n",
    "target = str(next(instream).seq)\n",
    "\n",
    "for intron in instream:\n",
    "    target = target.replace(str(intron.seq),\"\")\n",
    "\n",
    "print(Seq(target).translate()[:-1])\n"
   ]
  }
 ],
 "metadata": {
  "interpreter": {
   "hash": "fff8f1baadadc5fbf51030dcb2db9f6c81b6acfa6e5b0bb822f1d9b4c699540c"
  },
  "kernelspec": {
   "display_name": "Python 3.8.8 ('base')",
   "language": "python",
   "name": "python3"
  },
  "language_info": {
   "codemirror_mode": {
    "name": "ipython",
    "version": 3
   },
   "file_extension": ".py",
   "mimetype": "text/x-python",
   "name": "python",
   "nbconvert_exporter": "python",
   "pygments_lexer": "ipython3",
   "version": "3.8.8"
  },
  "orig_nbformat": 4
 },
 "nbformat": 4,
 "nbformat_minor": 2
}
