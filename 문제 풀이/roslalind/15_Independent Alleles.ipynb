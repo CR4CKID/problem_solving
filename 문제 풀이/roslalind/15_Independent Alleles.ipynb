{
 "cells": [
  {
   "cell_type": "markdown",
   "metadata": {},
   "source": [
    "input() = k, N\n",
    "\n",
    "k차 자손에서 Aa Bb가 나올 확률\n",
    "    부모 세대에서 뭐가 나오냐에 따라 확률이 바뀌지 않나\n",
    "    근데 A랑 B랑 관련 없으므로 하나 구하고 제곱하면 될듯\n",
    "\n",
    "0차 Aa X Aa\n",
    "1차 [AA Aa Aa aa] X Aa\n",
    "2차 AA Aa AA Aa | AA Aa Aa aa | AA Aa Aa aa | Aa Aa aa aa\n",
    "\n",
    "자식 세대가 Aa이려면 부모 세대는\n",
    "AA : 1/2\n",
    "Aa : 1/2\n",
    "aa : 1/2\n",
    "\n",
    "k차에서 자손의 수 2^k에서 적어도 N개 이상 확률 = 1 - N개 미만\n",
    "    2^k C range(N, 2^k)\n",
    "    1 - (2^k C range(1, N))"
   ]
  },
  {
   "cell_type": "code",
   "execution_count": 11,
   "metadata": {},
   "outputs": [
    {
     "data": {
      "text/plain": [
       "7"
      ]
     },
     "execution_count": 11,
     "metadata": {},
     "output_type": "execute_result"
    }
   ],
   "source": [
    "k, n = map(int, input().split())\n",
    "k"
   ]
  },
  {
   "cell_type": "code",
   "execution_count": 12,
   "metadata": {},
   "outputs": [
    {
     "data": {
      "text/plain": [
       "0.45268544440216346"
      ]
     },
     "execution_count": 12,
     "metadata": {},
     "output_type": "execute_result"
    }
   ],
   "source": [
    "from math import factorial\n",
    "from functools import reduce\n",
    "\n",
    "def nCr(q,r):\n",
    "    return int(factorial(q) / (factorial(r) * factorial(q-r)))\n",
    "\n",
    "def combi(num):\n",
    "    return nCr(2**k, num) * ((1/4) ** num) * (3/4) ** ((2**k -num))\n",
    "\n",
    "\n",
    "reduce(lambda x,y:x+y, [combi(a) for a in range(n, 2**k +1)])\n"
   ]
  }
 ],
 "metadata": {
  "interpreter": {
   "hash": "fff8f1baadadc5fbf51030dcb2db9f6c81b6acfa6e5b0bb822f1d9b4c699540c"
  },
  "kernelspec": {
   "display_name": "Python 3.8.8 ('base')",
   "language": "python",
   "name": "python3"
  },
  "language_info": {
   "codemirror_mode": {
    "name": "ipython",
    "version": 3
   },
   "file_extension": ".py",
   "mimetype": "text/x-python",
   "name": "python",
   "nbconvert_exporter": "python",
   "pygments_lexer": "ipython3",
   "version": "3.8.8"
  },
  "orig_nbformat": 4
 },
 "nbformat": 4,
 "nbformat_minor": 2
}
