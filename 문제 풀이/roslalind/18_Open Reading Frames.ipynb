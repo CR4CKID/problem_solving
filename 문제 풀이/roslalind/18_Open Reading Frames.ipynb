{
 "cells": [
  {
   "cell_type": "code",
   "execution_count": 128,
   "metadata": {},
   "outputs": [],
   "source": [
    "from Bio import SeqIO\n",
    "from Bio.Seq import Seq\n",
    "seq = SeqIO.read('rosalind_orf.fasta', 'fasta').seq"
   ]
  },
  {
   "cell_type": "code",
   "execution_count": 129,
   "metadata": {},
   "outputs": [],
   "source": [
    "def search_orf(seq):\n",
    "    ans = []\n",
    "    seqs = [seq[:], seq[1:], seq[2:]]\n",
    "    for sq in seqs:\n",
    "        pr = sq.translate()\n",
    "        for i in list(filter(lambda x: pr[x] == 'M', range(len(pr)))):\n",
    "            try:\n",
    "                ans.append(pr[i:pr.index('*', start=i)])\n",
    "            except:\n",
    "                continue\n",
    "    return ans"
   ]
  },
  {
   "cell_type": "code",
   "execution_count": 130,
   "metadata": {},
   "outputs": [],
   "source": [
    "a = Seq('AGCCATGTAGCTAACTCAGGTTACATGGGGATGACCCCGCGACTTGGATTAGAGTCTCTTTTGGAATAAGCCTGAATGATCCGAGTAGCATCTCAG')"
   ]
  },
  {
   "cell_type": "code",
   "execution_count": 131,
   "metadata": {},
   "outputs": [
    {
     "data": {
      "text/plain": [
       "{Seq('M'),\n",
       " Seq('MGMTPRLGLESLLE'),\n",
       " Seq('MLLGSFRLIPKETLIQVAGSSPCNLS'),\n",
       " Seq('MTPRLGLESLLE')}"
      ]
     },
     "execution_count": 131,
     "metadata": {},
     "output_type": "execute_result"
    }
   ],
   "source": [
    "set(search_orf(a) + search_orf(a.reverse_complement()))"
   ]
  },
  {
   "cell_type": "code",
   "execution_count": 132,
   "metadata": {},
   "outputs": [
    {
     "name": "stdout",
     "output_type": "stream",
     "text": [
      "MGVIAKIVATILAITPILASLAVIGRQRVVPPQCLVGGLPNLH\n",
      "MFASQRAGAEAQVISRIRRK\n",
      "MTPNPYLCRLRIKTAADALRRLT\n",
      "MSRPTDRKRLDLSHRNRRFLGVHLTYVGFARLLVLPPPRVVRRTWTIIPMPIAQIFLSKETTLST\n",
      "MH\n",
      "MTTHKELKEAPAY\n",
      "M\n",
      "MGVIAKIVATILAITPILASYYDPKPLFM\n",
      "MEYGPGYLSKSKSQLYVGRTSAPTS\n",
      "MGSNSI\n",
      "MWTCRSVCGVQPRT\n",
      "MSDALRRLPLNCGRVFCYTKGQAS\n",
      "MWTPILALSCARNDSFCTI\n",
      "MC\n",
      "MGMGMIVHVRLTTRGGGSTSNLANPT\n",
      "MHPPLSLCEVYINKGLGS\n",
      "MGMIVHVRLTTRGGGSTSNLANPT\n",
      "MVQKLSFLAQLRANIGVHIALIVYRSFPARLT\n",
      "MWFLWIGKSVRWAWV\n",
      "MFCRAGDLDYMVQKLSFLAQLRANIGVHIALIVYRSFPARLT\n",
      "MPIAQIFLSKETTLST\n",
      "MGSHIILHVLLAAV\n",
      "MNAQKTSITM\n",
      "MIVHVRLTTRGGGSTSNLANPT\n",
      "MDDHTHAHRTDFPIQRNHIIDLSPCCVTSAALMHPPLSLCEVYINKGLGS\n",
      "MRSLHK\n",
      "MNAISANYQHISGMWTCRSVCGVQPRT\n",
      "MKRVWE\n"
     ]
    }
   ],
   "source": [
    "result = set(search_orf(seq) + search_orf(seq.reverse_complement()))\n",
    "for r in result:\n",
    "    print(r)"
   ]
  },
  {
   "cell_type": "code",
   "execution_count": 133,
   "metadata": {},
   "outputs": [
    {
     "name": "stdout",
     "output_type": "stream",
     "text": [
      "MGMTPRLGLESLLE\n",
      "MLLGSFRLIPKETLIQVAGSSPCNLS\n",
      "MTPRLGLESLLE\n",
      "M\n"
     ]
    },
    {
     "name": "stderr",
     "output_type": "stream",
     "text": [
      "C:\\Users\\CRACKID\\anaconda3\\lib\\site-packages\\Bio\\Seq.py:2334: BiopythonWarning: Partial codon, len(sequence) not a multiple of three. Explicitly trim the sequence or add trailing N before translation. This may become an error in future.\n",
      "  warnings.warn(\n"
     ]
    }
   ],
   "source": [
    "from Bio.Seq import Seq\n",
    "import re\n",
    "\n",
    "seq = Seq(\"AGCCATGTAGCTAACTCAGGTTACATGGGGATGACCCCGCGACTTGGATTAGAGTCTCTTTTGGAATAAGCCTGAATGATCCGAGTAGCATCTCAG\")\n",
    "\n",
    "orfs = set([])\n",
    "prot = re.compile(\"(?=(M.*?\\*))\")\n",
    "for frame in range(3):\n",
    "    orfs = orfs.union(set(prot.findall(str(seq[frame:].translate()))))\n",
    "    orfs = orfs.union(set(prot.findall(str(seq.reverse_complement()[frame:].translate()))))\n",
    "\n",
    "for i in orfs:\n",
    "    print (i[0:-1])"
   ]
  }
 ],
 "metadata": {
  "interpreter": {
   "hash": "fff8f1baadadc5fbf51030dcb2db9f6c81b6acfa6e5b0bb822f1d9b4c699540c"
  },
  "kernelspec": {
   "display_name": "Python 3.8.8 ('base')",
   "language": "python",
   "name": "python3"
  },
  "language_info": {
   "codemirror_mode": {
    "name": "ipython",
    "version": 3
   },
   "file_extension": ".py",
   "mimetype": "text/x-python",
   "name": "python",
   "nbconvert_exporter": "python",
   "pygments_lexer": "ipython3",
   "version": "3.8.8"
  },
  "orig_nbformat": 4
 },
 "nbformat": 4,
 "nbformat_minor": 2
}
