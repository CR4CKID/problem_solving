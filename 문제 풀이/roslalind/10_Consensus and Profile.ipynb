{
 "cells": [
  {
   "cell_type": "code",
   "execution_count": 24,
   "metadata": {},
   "outputs": [
    {
     "name": "stdout",
     "output_type": "stream",
     "text": [
      "TAAATACGGTCGCGCGTGCAGGAAGTCATAATAGGCATTGATTCGAAGACTAATGTTAGTTATCAAAGGTAAGCTAACGCGGTGGCGAAAGCGCGACAAACAACCGAACAGAGAAAGATTCTACAATGAAAAGCAGGGATTTAACGAACCCTCTCTATAGCGCCCAGCGTCCGAATGATTTACCTACAATGATTATAAGCACTTCCGATAGCCCACGTGTGCCCATTACCTACAACTGCAGTTTTCCCTTAAATGCACGCAAAATAAGCAGTACTCGCGCAACCCGCATCCTGATTAAAAAGACCAATCCCAGACAGGTCTGCACGTAACAGGAAAAGCTGTCAAGGCAATGTGAAAAAGGGACTAATAACACTGGCAAGTATAGCTGGCTTCCTCCTCACAAAACCCCGGGCACAAAAGGTCAAGAACACGCGAAGTCCGCGCCAACCCATACCATGACAGCACCTCAAACTAAGCGTTCGCAACCTAAAACTCGTTACGCCACTCAGGACTTAGAAAAGGCCGCATAATTAGAAGAGTAATAAGCAAAAATTTCTCGCAGAATATACACCAGCAAGTAAACCAGACCCAGTCAGACGCGCGGACGTAACGTCTCATATGAAAGAAGAACCCAAATGTGACTGAACGAGGCCCCGGACGTCGGTACTGCGCATCTCGCACATTCAAAGTTTAACGAAACACCTCAAAGAGAGCCCTAGATGGCGAAGCACATGATATCCGACTACTTCAAAGAAACCACGAAACAATCATAGAAAACTCCTATGTAATTAATTACCGGATATATCCTGACTCCGCACTAAAATAGTGTATGCTCACATACAGCAAAGAATAACATAAAGCCGTCAGCTGGAACTACCTCGCAGGGCGAAACCAAGGGACACCAGTTCGTCGCGGAAACCCGCAAGCTAATGAAATGCAATCCGAATATGCCTAAGTAAAACCCAGGAGCGAGCTTGCCGGCCCGACATCGCAAAACAA\n",
      "A: 2 6 4 3 3 4 2 1 1 1 2 2 2 3 2 1 1 1 3 3 2 1 5 4 2 2 1 6 1 4 5 3 3 0 3 2 5 2 3 3 4 3 3 0 2 4 4 2 3 2 1 5 5 3 2 3 1 4 2 3 2 3 3 3 3 5 3 2 1 1 4 6 2 3 4 5 3 1 3 2 3 2 2 2 1 1 0 4 5 3 2 1 3 2 1 3 2 3 5 4 2 4 6 1 2 3 4 5 2 4 2 4 3 3 4 5 1 3 2 0 1 2 3 2 4 4 0 3 3 5 3 5 3 2 4 2 2 1 4 2 2 0 5 5 2 2 3 3 2 1 2 1 2 2 2 3 3 2 4 1 1 3 1 1 3 5 1 2 1 3 2 1 2 3 3 3 2 6 0 1 3 5 1 2 1 3 2 4 4 0 1 3 3 3 4 3 4 3 1 2 3 1 3 1 1 1 1 6 3 3 2 2 1 3 5 2 1 2 1 2 1 1 1 2 4 1 2 3 1 2 1 4 2 5 6 1 2 2 2 3 3 3 3 0 3 2 4 2 1 1 3 3 4 3 2 0 6 2 1 3 4 5 4 6 2 4 3 3 1 4 2 1 5 2 0 1 2 1 3 4 4 3 1 2 3 1 1 3 0 1 2 0 2 3 3 2 6 5 3 4 5 0 5 2 1 4 3 1 1 2 2 4 2 4 2 3 3 2 1 2 2 2 1 3 2 3 2 3 4 1 3 2 0 4 4 4 4 2 3 1 2 2 2 4 4 2 2 2 4 4 2 3 1 3 4 3 3 5 4 2 2 2 4 2 3 6 3 2 4 4 1 6 2 0 3 2 1 4 3 2 1 3 3 6 1 1 2 3 2 1 2 3 1 3 3 2 3 3 2 5 2 4 5 3 3 2 1 2 3 2 2 2 2 3 2 3 3 6 3 2 3 1 1 6 5 2 4 6 2 4 2 2 1 2 3 4 2 3 3 3 2 1 2 2 2 3 3 2 2 2 4 0 3 0 1 6 2 3 5 2 5 4 2 3 2 1 2 2 5 6 3 3 1 4 3 0 1 2 2 2 2 2 3 3 4 1 2 3 5 3 5 4 1 2 2 2 1 2 5 0 2 2 2 4 3 2 1 3 1 1 4 3 2 2 4 3 4 4 4 3 2 3 1 2 2 2 5 1 5 3 1 2 4 2 3 4 2 4 2 3 3 6 2 4 5 2 2 3 3 4 4 5 3 2 2 1 2 4 3 2 4 2 3 4 2 4 1 5 2 4 2 1 5 2 2 4 4 2 0 4 4 3 1 2 4 2 6 3 2 2 5 2 2 2 3 2 3 2 2 2 3 2 0 3 4 3 2 2 3 3 2 1 1 2 2 1 4 2 3 2 1 5 5 3 0 5 4 1 3 4 3 2 1 3 3 6 4 1 1 2 4 1 1 0 3 6 0 2 3 2 3 2 3 4 3 2 0 5 2 2 1 2 1 1 1 3 3 2 1 1 2 1 5 1 1 2 1 1 4 6 2 3 2 1 2 3 5 5 2 2 2 2 4 4 3 1 3 4 3 0 4 3 2 3 0 5 5 4 2 3 0 3 2 1 1 1 2 4 0 5 2 3 2 2 1 3 4 1 1 3 3 3 1 0 4 3 3 3 2 0 1 3 1 0 3 2 1 3 2 3 5 3 2 3 3 3 2 2 4 0 3 3 3 3 1 3 4 2 1 4 2 5 0 4 3 5 4 1 1 3 2 2 5 2 3 2 3 4 2 2 4 5 3 2 4 1 2 2 1 4 1 4 1 5 2 2 2 1 2 3 2 1 1 1 1 2 3 2 2 4 5 3 3 3 4 1 3 2 1 4 2 3 3 0 2 3 2 4 2 4 0 4 2 2 3 5 4 3 5 3 2 3 6 2 5 2 5 4 4 1 2 1 2 3 0 3 1 3 1 2 2 4 3 2 2 5 1 2 2 2 1 1 4 2 2 3 2 2 5 3 3 2 1 4 4 3 2 1 4 2 3 3 1 3 3 3 2 3 2 2 1 1 2 1 2 3 4 4 2 1 2 0 3 3 7 1 3 1 4 3 2 3 3 4 3 2 2 2 3 4 2 1 2 2 3 4 1 5 1 0 3 2 3 4 3 3 3 4 5 4 4 3 1 2 5 0 1 4 2 1 3 5 3 2 1 3 2 2 1 2 2 0 2 1 1 3 2 4 1 1 3 1 3 4 5 3 0 3 4\n",
      "C: 3 1 3 3 0 2 3 1 3 2 3 2 4 1 5 2 1 3 6 2 1 2 3 3 1 3 4 1 3 3 1 3 2 2 2 4 1 1 3 3 1 3 0 5 2 2 1 2 3 4 2 3 2 0 1 2 1 3 2 2 1 2 1 4 3 5 2 2 1 1 1 1 0 4 1 1 3 4 1 5 1 2 2 2 3 4 1 1 4 2 2 4 1 4 1 3 5 3 0 1 4 3 1 5 5 0 1 3 5 1 0 0 3 3 1 2 3 2 2 1 4 1 2 4 1 1 3 0 2 1 2 1 2 5 3 3 2 2 1 0 2 1 3 3 3 3 2 2 4 3 5 2 3 1 4 0 1 2 1 2 5 2 5 3 4 2 2 3 1 1 4 3 1 3 2 1 1 2 1 2 1 3 6 3 3 2 3 2 3 2 3 2 2 2 1 1 3 1 2 6 2 6 1 4 5 4 1 2 1 2 1 4 4 5 2 4 2 1 3 3 1 3 5 4 2 2 1 3 6 4 3 1 3 5 0 5 3 3 3 3 0 2 1 2 0 4 6 4 1 2 2 2 2 1 1 4 1 4 1 6 3 4 2 2 2 4 2 2 4 3 1 1 3 3 2 4 1 3 1 5 3 3 3 3 4 1 3 3 2 5 3 1 2 2 1 2 2 0 3 4 3 2 2 3 3 2 2 3 5 5 4 3 2 2 3 3 2 2 1 4 2 2 5 2 3 0 0 2 2 5 1 1 3 1 1 4 2 1 4 2 0 1 3 2 3 1 3 3 2 2 2 2 2 2 3 3 3 3 1 2 2 2 1 3 0 1 2 2 2 1 4 1 4 3 2 2 5 3 2 1 3 2 1 0 2 4 2 2 0 4 3 2 4 4 1 4 5 1 3 1 3 2 2 1 3 3 5 5 4 2 2 2 4 3 4 1 2 1 3 2 1 4 3 2 1 1 3 0 3 3 3 2 4 2 3 0 2 2 4 4 3 4 0 3 3 3 3 3 4 3 1 3 1 9 4 2 2 2 1 4 0 0 5 2 4 4 2 4 2 0 2 5 3 0 2 2 3 3 2 2 3 2 4 1 0 3 3 2 1 3 3 1 3 1 5 3 2 2 3 6 2 3 5 2 4 1 6 1 1 1 2 4 3 1 2 2 3 1 1 3 2 1 4 3 3 3 3 2 0 3 2 3 2 2 3 4 2 0 2 0 3 2 3 2 0 2 4 3 3 2 4 1 1 2 2 4 2 5 0 4 2 1 2 3 3 0 2 0 4 2 4 5 1 1 4 2 3 2 3 3 1 3 4 4 1 2 0 6 3 4 2 2 2 3 3 2 2 4 2 5 2 5 3 3 3 4 1 1 3 3 3 2 2 4 1 4 3 3 1 1 1 0 1 1 3 1 2 3 3 3 4 3 4 2 2 1 1 1 0 2 1 4 1 3 3 3 4 3 2 2 2 4 4 5 4 3 3 0 3 2 3 5 3 3 2 2 4 1 1 6 1 4 0 3 4 1 5 2 5 1 4 3 3 2 6 3 1 2 2 1 2 1 2 0 4 2 3 1 2 6 1 5 5 1 4 3 1 2 2 2 4 3 1 4 4 6 1 2 2 2 2 2 2 4 1 2 1 2 5 3 5 3 2 2 2 1 2 2 4 4 3 3 4 3 2 5 2 2 4 3 1 3 0 3 2 2 5 4 4 5 3 1 2 3 4 2 1 1 4 2 1 2 3 2 2 1 1 4 4 5 3 1 1 2 2 1 2 2 2 2 2 1 3 2 3 4 3 2 2 1 3 1 3 0 1 3 5 2 2 2 5 3 3 4 3 4 3 4 2 2 2 1 2 2 1 3 1 0 2 1 1 2 4 3 4 2 3 3 0 4 6 4 2 3 3 1 1 1 2 3 2 3 3 4 1 3 0 2 0 3 5 4 1 0 4 3 1 4 1 2 2 3 3 5 0 3 3 4 3 3 2 4 4 2 3 0 4 2 1 3 2 3 5 0 0 1 2 3 3 5 3 4 4 1 1 1 2 4 0 2 3 0 3 3 2 3 2 2 4 4 4 3 4 2 1 2 4 1 2 2 2 1 3 2 2 3 1 3 3 1 2 6 4 2 2 1 3 3 3 4 4 3 1 1 2 2 1 2 1 1 1 4 5 5 3 3 2 1 1 3 1 1 1 3 3 1 1 5 5 1 3 4 3 5 0 3 3 1 1 7 2 4 2 0 1 2 4 2 2\n",
      "G: 1 1 3 1 3 1 2 5 4 2 2 4 2 6 0 5 3 5 0 2 4 6 1 2 4 1 4 0 1 3 2 0 2 5 4 2 3 3 0 4 4 0 3 2 5 2 3 3 1 3 3 1 1 3 5 1 3 1 3 1 3 3 1 1 2 0 2 3 4 3 3 0 6 2 0 2 2 3 4 3 4 3 2 3 4 2 6 3 0 3 3 2 4 2 5 2 2 3 2 2 0 1 2 2 2 4 2 1 3 1 5 3 4 1 1 2 4 2 2 4 2 2 3 2 2 2 2 5 2 3 3 3 4 2 1 4 3 4 1 2 2 1 2 2 3 4 3 3 2 3 1 3 2 3 2 2 3 0 3 4 3 4 1 3 2 1 5 3 4 2 4 3 5 2 2 2 4 1 4 3 1 1 0 2 2 3 3 3 2 1 4 3 1 0 2 2 1 3 5 0 3 1 2 0 2 4 4 1 1 3 4 1 4 1 1 2 4 3 4 1 5 3 1 0 3 1 3 2 2 1 2 3 2 0 2 1 1 4 2 2 4 1 2 2 1 1 0 1 3 3 3 2 3 1 5 4 2 1 5 0 2 0 3 2 2 2 2 4 2 0 4 2 0 3 3 1 5 3 5 0 1 2 3 3 2 4 3 2 3 1 3 4 3 2 2 2 1 3 3 1 1 4 1 3 3 2 2 2 4 1 3 2 3 2 2 2 4 3 1 1 2 3 2 2 3 5 2 3 3 1 3 6 4 4 4 0 2 6 1 1 5 3 3 4 0 4 4 3 3 2 1 5 3 4 2 3 3 1 1 3 4 4 2 3 3 2 3 1 0 4 2 2 4 3 4 3 3 2 2 5 1 2 2 2 7 2 2 4 6 2 1 1 2 1 1 1 0 1 2 4 3 3 2 3 2 3 3 2 2 5 4 3 2 2 3 3 3 2 3 3 5 0 3 1 2 5 1 1 3 2 2 4 4 3 3 3 4 1 2 3 5 1 4 3 2 3 1 3 1 3 3 3 3 1 3 2 2 4 3 3 2 5 3 3 1 3 2 2 2 3 2 1 2 4 2 5 3 4 2 1 2 4 2 3 4 3 3 1 2 2 0 2 3 2 2 4 3 2 0 2 5 3 1 2 1 2 2 3 6 4 1 2 0 3 2 5 1 2 3 1 3 4 2 2 4 2 1 3 1 2 3 1 2 3 2 0 4 3 3 3 2 1 1 2 3 4 0 2 1 2 2 2 1 1 1 3 1 1 6 1 1 4 2 2 1 4 2 3 2 3 2 1 3 6 4 3 2 5 1 1 1 2 3 0 1 3 2 1 3 3 3 5 1 2 2 3 2 3 4 1 4 1 6 4 2 0 5 2 1 2 3 4 3 2 3 3 2 1 3 2 4 2 0 3 4 3 1 5 2 3 1 2 4 3 3 3 0 5 4 3 4 2 3 4 1 0 4 4 2 4 4 1 2 0 2 4 7 1 3 4 2 2 5 4 3 2 1 1 4 1 5 2 4 1 2 3 2 4 0 2 2 2 1 3 1 3 3 2 4 2 2 3 1 3 1 4 1 3 2 1 2 2 1 2 4 1 3 0 4 2 6 1 4 2 1 3 3 2 5 1 2 5 5 2 6 2 4 4 1 3 1 2 1 4 2 2 2 1 2 2 5 2 3 3 3 2 3 1 3 3 4 2 4 3 3 2 1 2 2 3 4 3 3 3 3 3 1 2 3 1 1 1 4 3 2 2 2 3 0 1 3 3 4 1 4 2 2 0 1 2 2 2 0 2 2 4 2 3 5 4 2 1 2 3 2 3 1 3 5 3 0 2 3 2 4 3 1 2 2 3 2 3 3 1 2 4 1 4 3 3 3 4 1 3 4 2 2 1 3 2 0 0 4 3 1 2 3 4 2 2 2 3 0 1 1 1 4 2 2 4 1 2 6 2 3 3 5 1 2 3 4 3 2 3 2 2 3 3 1 2 5 2 0 3 4 4 3 3 2 1 3 3 1 3 4 4 3 4 0 2 2 3 2 3 4 2 2 0 4 1 3 5 3 4 4 2 1 1 2 1 3 4 1 3 1 4 1 3 0 2 0 4 1 3 2 1 4 2 3 4 2 2 2 4 2 1 2 1 1 5 1 2 2 3 2 4 1 3 0 3 3 1 2 2 0 4 4 3 4 3 4 3 4 2 1 1 6 1 2 4 4 4 3 2 5 1 2 1 2 1 4 2 2 2 1 2 2 2 3\n",
      "T: 4 2 0 3 4 3 3 3 2 5 3 2 2 0 3 2 5 1 1 3 3 1 1 1 3 4 1 3 5 0 2 4 3 3 1 2 1 4 4 0 1 4 4 3 1 2 2 3 3 1 4 1 2 4 2 4 5 2 3 4 4 2 5 2 2 0 3 3 4 5 2 3 2 1 5 2 2 2 2 0 2 3 4 3 2 3 3 2 1 2 3 3 2 2 3 2 1 1 3 3 4 2 1 2 1 3 3 1 0 4 3 3 0 3 4 1 2 3 4 5 3 5 2 2 3 3 5 2 3 1 2 1 1 1 2 1 3 3 4 6 4 8 0 0 2 1 2 2 2 3 2 4 3 4 2 5 3 6 2 3 1 1 3 3 1 2 2 2 4 4 0 3 2 2 3 4 3 1 5 4 5 1 3 3 4 2 2 1 1 7 2 2 4 5 3 4 2 3 2 2 2 2 4 5 2 1 4 1 5 2 3 3 1 1 2 2 3 4 2 4 3 3 3 4 1 6 4 2 1 3 4 2 3 0 2 3 4 1 3 2 3 4 4 6 6 3 0 3 5 4 2 3 1 5 2 2 1 3 3 1 1 1 1 0 4 0 3 1 3 3 3 6 2 2 5 4 2 3 1 1 2 2 3 2 1 4 3 2 5 3 2 5 3 3 4 4 1 2 1 1 1 4 2 2 3 2 3 4 0 2 1 1 3 2 3 2 1 3 7 3 4 3 2 3 2 2 6 2 1 3 3 1 3 1 1 2 2 1 2 6 3 4 2 0 3 3 1 2 1 2 5 0 4 1 1 1 1 1 4 3 2 2 3 2 4 1 2 5 4 1 3 1 0 4 1 3 1 1 3 2 5 3 4 2 0 3 4 1 2 3 4 4 3 2 5 3 2 5 3 0 2 1 1 3 2 2 1 1 1 1 2 3 2 2 1 3 2 1 1 3 1 5 3 1 2 2 2 3 2 1 3 2 1 3 1 3 2 4 1 0 0 4 4 2 3 1 3 2 3 2 2 4 3 0 2 0 4 1 1 1 3 1 0 2 3 2 4 2 1 1 3 1 4 2 3 3 3 1 4 5 3 2 1 3 2 3 2 4 2 2 2 3 3 5 1 1 4 4 2 2 1 2 2 2 2 5 1 3 2 4 3 1 5 4 2 0 2 3 2 3 3 2 3 3 1 3 1 4 4 2 4 4 2 3 2 2 2 3 3 4 2 1 4 2 2 2 4 2 3 2 0 2 5 5 5 2 5 0 1 3 3 3 3 1 4 2 5 2 2 1 2 3 1 1 0 1 1 1 6 2 4 2 2 4 4 3 2 0 2 1 0 1 5 3 2 3 3 1 2 2 1 2 1 0 1 3 2 5 3 2 2 3 4 2 4 2 1 4 3 5 4 3 4 3 3 1 3 1 2 0 2 3 1 2 2 0 5 3 5 3 1 3 5 3 3 1 2 1 3 2 1 3 1 1 1 1 0 4 2 2 4 1 1 2 4 3 2 6 4 2 2 3 1 5 3 4 2 3 1 1 2 2 4 4 1 1 1 1 2 5 4 4 3 3 2 3 3 2 3 3 3 0 2 4 2 1 1 4 2 3 0 3 3 3 4 0 4 2 3 2 4 0 1 2 2 3 1 3 3 1 1 2 6 4 2 4 3 4 2 4 1 2 2 4 2 1 4 4 1 1 0 2 4 1 2 3 2 2 0 2 0 3 2 1 2 2 4 5 2 3 6 2 3 1 3 2 3 2 5 1 2 4 0 5 1 5 3 4 5 4 2 2 4 4 1 1 3 3 2 1 4 4 4 2 5 2 2 4 1 2 3 4 3 3 2 1 3 2 4 1 1 3 2 4 3 2 5 4 4 2 4 1 2 4 0 3 3 2 5 0 4 2 2 2 3 2 2 2 1 2 4 1 1 3 3 4 1 2 4 2 2 3 1 5 3 1 3 2 6 3 2 0 2 0 6 0 3 1 4 3 2 3 2 3 1 3 1 3 2 3 2 2 3 3 2 2 3 2 3 1 2 0 3 3 2 4 4 3 4 5 3 4 2 2 2 2 3 3 2 4 1 3 2 2 1 3 2 5 4 3 6 2 3 1 3 4 3 3 1 1 4 1 2 2 3 4 4 1 5 1 2 3 4 2 3 1 5 1 4 2 2 2 2 1 2 3 3 2 3 3 2 1 2 3 5 5 1 2 2 3 1 2 2 2 4 3 3 4 6 1 1 3 3 4 3 3 4 3 1\n"
     ]
    }
   ],
   "source": [
    "from Bio.Seq import Seq\n",
    "from Bio import SeqIO\n",
    "\n",
    "seq_list = []\n",
    "for record in SeqIO.parse('rosalind_cons.fasta', 'fasta'):\n",
    "    seq_list.append(record.seq)\n",
    "    \n",
    "A_list = [0] * len(seq_list[0])\n",
    "C_list = [0] * len(seq_list[0])\n",
    "G_list = [0] * len(seq_list[0])\n",
    "T_list = [0] * len(seq_list[0])\n",
    "cons_str = []\n",
    "\n",
    "for seq in seq_list:\n",
    "    for i, sym in enumerate(seq):\n",
    "        if sym == 'A':\n",
    "            A_list[i] += 1\n",
    "        elif sym == 'C':\n",
    "            C_list[i] += 1\n",
    "        elif sym == 'G':\n",
    "            G_list[i] += 1\n",
    "        else:\n",
    "            T_list[i] += 1\n",
    "\n",
    "for a,c,g,t in zip(A_list, C_list, G_list, T_list):\n",
    "    m = max(a,c,g,t)\n",
    "    if m == a:\n",
    "        cons_str.append('A')\n",
    "    elif m == c:\n",
    "        cons_str.append('C')\n",
    "    elif m == g:\n",
    "        cons_str.append('G')\n",
    "    else:\n",
    "        cons_str.append('T')\n",
    "\n",
    "print(''.join(cons_str))\n",
    "print('A: {}'.format(' '.join(map(str,A_list))))\n",
    "print('C: {}'.format(' '.join(map(str,C_list))))\n",
    "print('G: {}'.format(' '.join(map(str,G_list))))\n",
    "print('T: {}'.format(' '.join(map(str,T_list))))\n"
   ]
  },
  {
   "cell_type": "code",
   "execution_count": 3,
   "metadata": {},
   "outputs": [
    {
     "name": "stdout",
     "output_type": "stream",
     "text": [
      "TACCAAATTTCAGT\n",
      "A:\n",
      "\n",
      "C:\n",
      "\n",
      "G:\n",
      "\n",
      "T:\n",
      "\n"
     ]
    }
   ],
   "source": [
    "f = open('rosalind_cons.fasta', 'r', encoding= 'utf8')\n",
    "    \n",
    "strands = [x.strip() for x in f.readlines()]\n",
    "\n",
    "matrix = zip(*strands)\n",
    "\n",
    "profile_matrix = map(lambda x: dict((base, x.count(base)) for base in \"ACGT\"), matrix)\n",
    "\n",
    "consensus = [max(x,key = x.get) for x in profile_matrix]\n",
    "\n",
    "print(\"\".join(consensus))\n",
    "\n",
    "for base in \"ACGT\":\n",
    "    print (base+\":\")\n",
    "    for x in profile_matrix:\n",
    "        print (x[base])\n",
    "    print (\"\")"
   ]
  }
 ],
 "metadata": {
  "interpreter": {
   "hash": "fff8f1baadadc5fbf51030dcb2db9f6c81b6acfa6e5b0bb822f1d9b4c699540c"
  },
  "kernelspec": {
   "display_name": "Python 3.8.8 64-bit ('base': conda)",
   "language": "python",
   "name": "python3"
  },
  "language_info": {
   "codemirror_mode": {
    "name": "ipython",
    "version": 3
   },
   "file_extension": ".py",
   "mimetype": "text/x-python",
   "name": "python",
   "nbconvert_exporter": "python",
   "pygments_lexer": "ipython3",
   "version": "3.8.8"
  },
  "orig_nbformat": 4
 },
 "nbformat": 4,
 "nbformat_minor": 2
}
