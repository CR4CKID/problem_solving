{
 "cells": [
  {
   "cell_type": "code",
   "execution_count": null,
   "metadata": {},
   "outputs": [],
   "source": [
    "def solution(operations):\n",
    "    import heapq\n",
    "    q = []\n",
    "    for op in operations:\n",
    "        o, n = op.split(' ')\n",
    "        n = int(n)\n",
    "        if o == 'I':\n",
    "            heapq.heappush(q,n)\n",
    "        else:\n",
    "            if q:\n",
    "                if n == -1:\n",
    "                    if q:\n",
    "                        heapq.heappop(q)\n",
    "                else:\n",
    "                    q.remove(heapq.nlargest(1,q)[0])\n",
    "                    heapq.heapify(q)\n",
    "                    \n",
    "    if q:\n",
    "        return (heapq.nlargest(1,q)[0], heapq.heappop(q))\n",
    "    else:\n",
    "        return [0,0]"
   ]
  }
 ],
 "metadata": {
  "language_info": {
   "name": "python"
  },
  "orig_nbformat": 4
 },
 "nbformat": 4,
 "nbformat_minor": 2
}
