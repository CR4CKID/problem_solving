{
 "cells": [
  {
   "cell_type": "code",
   "execution_count": 20,
   "metadata": {},
   "outputs": [
    {
     "data": {
      "text/plain": [
       "3"
      ]
     },
     "execution_count": 20,
     "metadata": {},
     "output_type": "execute_result"
    }
   ],
   "source": [
    "class Solution:\n",
    "    def lengthOfLongestSubstring(self, s: str) -> int:\n",
    "        longest, start = 0, 0\n",
    "        used = {}\n",
    "        for i, char in enumerate(s):\n",
    "            if char in used and start <= used[char]:\n",
    "                start = used[char]+1\n",
    "            else:\n",
    "                longest = max(longest, i-start+1)\n",
    "            used[char] = i\n",
    "        \n",
    "        return max(longest, len(s)-start)\n",
    "\n",
    "Solution().lengthOfLongestSubstring('abcabcbb')"
   ]
  }
 ],
 "metadata": {
  "interpreter": {
   "hash": "fff8f1baadadc5fbf51030dcb2db9f6c81b6acfa6e5b0bb822f1d9b4c699540c"
  },
  "kernelspec": {
   "display_name": "Python 3.8.8 64-bit ('base': conda)",
   "name": "python3"
  },
  "language_info": {
   "codemirror_mode": {
    "name": "ipython",
    "version": 3
   },
   "file_extension": ".py",
   "mimetype": "text/x-python",
   "name": "python",
   "nbconvert_exporter": "python",
   "pygments_lexer": "ipython3",
   "version": "3.8.8"
  },
  "orig_nbformat": 4
 },
 "nbformat": 4,
 "nbformat_minor": 2
}
