{
 "cells": [
  {
   "cell_type": "code",
   "execution_count": 2,
   "metadata": {},
   "outputs": [
    {
     "data": {
      "text/plain": [
       "True"
      ]
     },
     "execution_count": 2,
     "metadata": {},
     "output_type": "execute_result"
    }
   ],
   "source": [
    "class Solution:\n",
    "    def canFinish(self, numCourses: int, prerequisites):\n",
    "        from collections import defaultdict\n",
    "        \n",
    "        graph = defaultdict(list)\n",
    "        start = []\n",
    "        for a,b in sorted(prerequisites):\n",
    "            if a == b:\n",
    "                return False\n",
    "            graph[b].append(a)\n",
    "            start.append(b)\n",
    "        \n",
    "        def dfs(a,path=[]):\n",
    "            while graph[a]:\n",
    "                b = graph[a].pop()\n",
    "                if b not in path:\n",
    "                    if not dfs(b, path+[b]):\n",
    "                        return False   \n",
    "                else:\n",
    "                    return False\n",
    "            return True\n",
    "        \n",
    "        for i in start:\n",
    "            if graph[i]:\n",
    "                if dfs(i,[i]) == False:\n",
    "                    return False\n",
    "        \n",
    "        return True\n",
    "\n",
    "Solution().canFinish(2,[[1,0]])"
   ]
  }
 ],
 "metadata": {
  "interpreter": {
   "hash": "fff8f1baadadc5fbf51030dcb2db9f6c81b6acfa6e5b0bb822f1d9b4c699540c"
  },
  "kernelspec": {
   "display_name": "Python 3.8.8 64-bit ('base': conda)",
   "name": "python3"
  },
  "language_info": {
   "codemirror_mode": {
    "name": "ipython",
    "version": 3
   },
   "file_extension": ".py",
   "mimetype": "text/x-python",
   "name": "python",
   "nbconvert_exporter": "python",
   "pygments_lexer": "ipython3",
   "version": "3.8.8"
  },
  "orig_nbformat": 4
 },
 "nbformat": 4,
 "nbformat_minor": 2
}
