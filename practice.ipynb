{
 "cells": [
  {
   "cell_type": "code",
   "execution_count": 33,
   "metadata": {},
   "outputs": [
    {
     "data": {
      "text/plain": [
       "[0, 0]"
      ]
     },
     "execution_count": 33,
     "metadata": {},
     "output_type": "execute_result"
    }
   ],
   "source": [
    "def solution(operations):\n",
    "    import heapq\n",
    "    q = []\n",
    "    for op in operations:\n",
    "        o, n = op.split(' ')\n",
    "        n = int(n)\n",
    "        if o == 'I':\n",
    "            heapq.heappush(q,n)\n",
    "        else:\n",
    "            if q:\n",
    "                if n == -1:\n",
    "                    if q:\n",
    "                        heapq.heappop(q)\n",
    "                else:\n",
    "                    q.remove(heapq.nlargest(1,q)[0])\n",
    "                    heapq.heapify(q)\n",
    "                    \n",
    "    if q:\n",
    "        return (heapq.nlargest(1,q)[0], heapq.heappop(q))\n",
    "    else:\n",
    "        return [0,0]\n",
    "    \n",
    "solution([\"I 16\",\"D 1\"])"
   ]
  },
  {
   "cell_type": "code",
   "execution_count": null,
   "metadata": {},
   "outputs": [],
   "source": []
  },
  {
   "cell_type": "code",
   "execution_count": 32,
   "metadata": {},
   "outputs": [
    {
     "data": {
      "text/plain": [
       "9999999"
      ]
     },
     "execution_count": 32,
     "metadata": {},
     "output_type": "execute_result"
    }
   ],
   "source": [
    "class Solution:\n",
    "    def brokenCalc(self, s: int, t: int) -> int:\n",
    "        \n",
    "        if t <= s:\n",
    "            return s-t\n",
    "        \n",
    "        k = 0\n",
    "        while t != s:\n",
    "            a,b = divmod(t,2)\n",
    "            if b == 1 or a*2 < s+1:\n",
    "                t += 1\n",
    "            else:\n",
    "                t //= 2\n",
    "            k += 1\n",
    "                \n",
    "        return k\n",
    "\n",
    "Solution().brokenCalc(10000000,1)"
   ]
  }
 ],
 "metadata": {
  "interpreter": {
   "hash": "fff8f1baadadc5fbf51030dcb2db9f6c81b6acfa6e5b0bb822f1d9b4c699540c"
  },
  "kernelspec": {
   "display_name": "Python 3.8.8 64-bit ('base': conda)",
   "name": "python3"
  },
  "language_info": {
   "codemirror_mode": {
    "name": "ipython",
    "version": 3
   },
   "file_extension": ".py",
   "mimetype": "text/x-python",
   "name": "python",
   "nbconvert_exporter": "python",
   "pygments_lexer": "ipython3",
   "version": "3.8.8"
  },
  "orig_nbformat": 4
 },
 "nbformat": 4,
 "nbformat_minor": 2
}
