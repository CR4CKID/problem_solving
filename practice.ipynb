{
 "cells": [
  {
   "cell_type": "code",
   "execution_count": 5,
   "metadata": {},
   "outputs": [
    {
     "name": "stdout",
     "output_type": "stream",
     "text": [
      "defaultdict(<class 'int'>, {2: 0, 1: 1, 3: 1, 4: 2})\n"
     ]
    },
    {
     "data": {
      "text/plain": [
       "2"
      ]
     },
     "execution_count": 5,
     "metadata": {},
     "output_type": "execute_result"
    }
   ],
   "source": [
    "class Solution:\n",
    "    def networkDelayTime(self, times, n: int, k: int):\n",
    "        from collections import defaultdict\n",
    "        import heapq\n",
    "\n",
    "        graph = defaultdict(list)\n",
    "        for a, b, t in times:\n",
    "            graph[a].append((b, t))\n",
    "\n",
    "        Q = [(0, k)]\n",
    "        stack = defaultdict(int)\n",
    "        while Q:\n",
    "            t, a = heapq.heappop(Q)\n",
    "            if a not in stack:\n",
    "                for b, t2 in graph[a]:\n",
    "                    heapq.heappush(Q, (t2 + t, b))\n",
    "                stack[a] = t\n",
    "\n",
    "        print(stack)\n",
    "        if len(stack) == n:\n",
    "            return max(stack.values())\n",
    "        else:\n",
    "            return -1\n",
    "\n",
    "Solution().networkDelayTime(times=[[2, 1, 1], [2, 3, 1], [3, 4, 1]], n=4, k=2)\n",
    "\n"
   ]
  }
 ],
 "metadata": {
  "interpreter": {
   "hash": "fff8f1baadadc5fbf51030dcb2db9f6c81b6acfa6e5b0bb822f1d9b4c699540c"
  },
  "kernelspec": {
   "display_name": "Python 3.8.8 64-bit ('base': conda)",
   "name": "python3"
  },
  "language_info": {
   "codemirror_mode": {
    "name": "ipython",
    "version": 3
   },
   "file_extension": ".py",
   "mimetype": "text/x-python",
   "name": "python",
   "nbconvert_exporter": "python",
   "pygments_lexer": "ipython3",
   "version": "3.8.8"
  },
  "orig_nbformat": 4
 },
 "nbformat": 4,
 "nbformat_minor": 2
}
