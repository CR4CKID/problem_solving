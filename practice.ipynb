{
 "cells": [
  {
   "cell_type": "code",
   "execution_count": 23,
   "metadata": {},
   "outputs": [],
   "source": [
    "from collections import Counter\n",
    "n = int(input())\n",
    "nums = list(map(int, input().split(' ')))\n",
    "counter = Counter(nums)"
   ]
  },
  {
   "cell_type": "code",
   "execution_count": 24,
   "metadata": {},
   "outputs": [
    {
     "name": "stdout",
     "output_type": "stream",
     "text": [
      "3 0 3 0 3 0\n"
     ]
    }
   ],
   "source": [
    "ans = []\n",
    "for num in nums:\n",
    "    ans.append(sum([c[1] for c in counter.items() if c[0] < num]))\n",
    "print(' '.join(map(str, ans)))"
   ]
  }
 ],
 "metadata": {
  "interpreter": {
   "hash": "fff8f1baadadc5fbf51030dcb2db9f6c81b6acfa6e5b0bb822f1d9b4c699540c"
  },
  "kernelspec": {
   "display_name": "Python 3.8.8 64-bit ('base': conda)",
   "name": "python3"
  },
  "language_info": {
   "codemirror_mode": {
    "name": "ipython",
    "version": 3
   },
   "file_extension": ".py",
   "mimetype": "text/x-python",
   "name": "python",
   "nbconvert_exporter": "python",
   "pygments_lexer": "ipython3",
   "version": "3.8.8"
  },
  "orig_nbformat": 4
 },
 "nbformat": 4,
 "nbformat_minor": 2
}
