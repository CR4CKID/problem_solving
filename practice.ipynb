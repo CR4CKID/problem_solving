{
 "cells": [
  {
   "cell_type": "code",
   "execution_count": 9,
   "metadata": {},
   "outputs": [
    {
     "name": "stdout",
     "output_type": "stream",
     "text": [
      "140723065071536 140723065071472\n"
     ]
    },
    {
     "data": {
      "text/plain": [
       "140723065071472"
      ]
     },
     "execution_count": 9,
     "metadata": {},
     "output_type": "execute_result"
    }
   ],
   "source": [
    "a = 5\n",
    "b = 3\n",
    "\n",
    "print(id(a),id(b))\n",
    "a = b\n",
    "id(a)"
   ]
  },
  {
   "cell_type": "code",
   "execution_count": 9,
   "metadata": {},
   "outputs": [
    {
     "data": {
      "text/plain": [
       "5"
      ]
     },
     "execution_count": 9,
     "metadata": {},
     "output_type": "execute_result"
    }
   ],
   "source": [
    "prices = [7,1,5,3,6,4]\n",
    "\n",
    "profit = 0\n",
    "min_price = sys.maxsize\n",
    "\n",
    "for pr in prices:\n",
    "    min_price = min(min_price, pr)\n",
    "    profit = max(profit, pr-min_price)\n",
    "    \n",
    "profit"
   ]
  },
  {
   "cell_type": "code",
   "execution_count": 7,
   "metadata": {},
   "outputs": [
    {
     "data": {
      "text/plain": [
       "[[-2, 0, 2]]"
      ]
     },
     "execution_count": 7,
     "metadata": {},
     "output_type": "execute_result"
    }
   ],
   "source": [
    "nums = [-2,0,0,2,2]\n",
    "\n",
    "ans = []\n",
    "nums.sort()\n",
    "\n",
    "for i in range(len(nums)):\n",
    "    if i>0 and nums[i] == nums[i-1]:\n",
    "        continue\n",
    "    \n",
    "    l,r = i+1, len(nums)-1\n",
    "    while l < r:\n",
    "        if nums[i]+nums[l]+nums[r] > 0:\n",
    "            r -= 1\n",
    "        elif nums[i]+nums[l]+nums[r] < 0:\n",
    "            l += 1\n",
    "        else:\n",
    "            ans.append([nums[i],nums[l],nums[r]])\n",
    "            \n",
    "            while l < r and nums[l] == nums[l+1]:\n",
    "                l += 1\n",
    "            while l < r and nums[r] == nums[r-1]:\n",
    "                r -= 1\n",
    "            l += 1\n",
    "            r -= 1\n",
    "    \n",
    "        \n",
    "ans"
   ]
  },
  {
   "cell_type": "code",
   "execution_count": 9,
   "metadata": {},
   "outputs": [
    {
     "data": {
      "text/plain": [
       "6"
      ]
     },
     "execution_count": 9,
     "metadata": {},
     "output_type": "execute_result"
    }
   ],
   "source": [
    "height = [0,1,0,2,1,0,1,3,2,1,2,1]\n",
    "\n",
    "i = height.index(max(height))\n",
    "\n",
    "def water(height):\n",
    "    ans, n_max = 0,0\n",
    "    for n in height:\n",
    "        n_max = max(n,n_max)\n",
    "        ans += n_max-n\n",
    "    return ans\n",
    "water(height[:i])+water(height[i:][::-1])"
   ]
  },
  {
   "cell_type": "code",
   "execution_count": 4,
   "metadata": {},
   "outputs": [
    {
     "data": {
      "text/plain": [
       "[[2, 0], [7, 1], [11, 2], [15, 3]]"
      ]
     },
     "execution_count": 4,
     "metadata": {},
     "output_type": "execute_result"
    }
   ],
   "source": [
    "nums = [2,7,11,15]\n",
    "target = 9\n",
    "\n",
    "nums = sorted([[n,i] for i,n in enumerate(nums)], key=lambda x:x[0])\n",
    "l, r = 0, len(nums)-1\n",
    "\n",
    "while l < r:\n",
    "    if nums[l][0] + nums[r][0] > target:\n",
    "        r -= 1\n",
    "    elif nums[l][0] + nums[r][0] < target:\n",
    "        l += 1\n",
    "    else:\n",
    "        return [nums[l][1], nums[r][1]]   "
   ]
  },
  {
   "cell_type": "code",
   "execution_count": null,
   "metadata": {},
   "outputs": [],
   "source": [
    "nums = [2,7,11,15]\n",
    "target = 9\n",
    "\n",
    "for i in range(len(nums)):\n",
    "    for j in range(i+1, len(nums)):\n",
    "        if i+j == target:\n",
    "            return [i,j]"
   ]
  },
  {
   "cell_type": "code",
   "execution_count": 4,
   "metadata": {},
   "outputs": [],
   "source": [
    "class ListNode:\n",
    "    def __init__(self, val=0, next=None):\n",
    "         self.val = val\n",
    "         self.next = next"
   ]
  },
  {
   "cell_type": "code",
   "execution_count": 6,
   "metadata": {},
   "outputs": [],
   "source": [
    "def addTwoNumbers(self, l1, l2):\n",
    "    dummy = cur = ListNode(0)\n",
    "    prev = 0\n",
    "    \n",
    "    while l1 and l2:\n",
    "        div =  divmod(l1.val + l2.val + prev, 10)\n",
    "        prev = div[0]\n",
    "        cur.next = ListNode(div[1])\n",
    "        cur, l1, l2 = cur.next, l1.next, l2.next\n",
    "    while l1:\n",
    "        div =  divmod(l1.val+prev, 10)\n",
    "        prev = div[0]\n",
    "        cur.next = ListNode(div[1])\n",
    "        cur, l1= cur.next, l1.next\n",
    "    while l2:\n",
    "        div =  divmod(l2.val+prev, 10)\n",
    "        prev = div[0]\n",
    "        cur.next = ListNode(div[1])\n",
    "        cur, l2= cur.next, l2.next\n",
    "    if prev == 1:\n",
    "        cur.next = ListNode(1) \n",
    "    return dummy.next"
   ]
  },
  {
   "cell_type": "code",
   "execution_count": null,
   "metadata": {},
   "outputs": [],
   "source": [
    "def addTwoNumbers(self, l1, l2):\n",
    "    carry = 0\n",
    "    root = n = ListNode(0)\n",
    "    while l1 or l2 or carry:\n",
    "        v1 = v2 = 0\n",
    "        if l1:\n",
    "            v1 = l1.val\n",
    "            l1 = l1.next\n",
    "        if l2:\n",
    "            v2 = l2.val\n",
    "            l2 = l2.next\n",
    "        carry, val = divmod(v1+v2+carry, 10)\n",
    "        n.next = ListNode(val)\n",
    "        n = n.next\n",
    "    return root.next"
   ]
  },
  {
   "cell_type": "code",
   "execution_count": 1,
   "metadata": {},
   "outputs": [
    {
     "data": {
      "text/plain": [
       "['o', 'l', 'l', 'e', 'h']"
      ]
     },
     "execution_count": 1,
     "metadata": {},
     "output_type": "execute_result"
    }
   ],
   "source": [
    "s = [\"h\",\"e\",\"l\",\"l\",\"o\"]\n",
    "left, right = 0, len(s) - 1\n",
    "\n",
    "while left < right:\n",
    "    s[left], s[right] = s[right], s[left]\n",
    "    left += 1\n",
    "    right -= 1\n",
    "\n",
    "s"
   ]
  },
  {
   "cell_type": "code",
   "execution_count": 19,
   "metadata": {},
   "outputs": [
    {
     "data": {
      "text/plain": [
       "'0p'"
      ]
     },
     "execution_count": 19,
     "metadata": {},
     "output_type": "execute_result"
    }
   ],
   "source": [
    "s = \"0P\"\n",
    "\n",
    "import re\n",
    "\n",
    "s = re.sub('[^A-Za-z0-9]', '', s.lower())\n",
    "s"
   ]
  },
  {
   "cell_type": "code",
   "execution_count": 29,
   "metadata": {},
   "outputs": [
    {
     "data": {
      "text/plain": [
       "['let1 art can',\n",
       " 'let3 art zero',\n",
       " 'let2 own kit dig',\n",
       " 'dig1 8 1 5 1',\n",
       " 'dig2 3 6']"
      ]
     },
     "execution_count": 29,
     "metadata": {},
     "output_type": "execute_result"
    }
   ],
   "source": [
    "logs = [\"dig1 8 1 5 1\",\"let1 art can\",\"dig2 3 6\",\"let2 own kit dig\",\"let3 art zero\"]\n",
    "\n",
    "digit, letter = [], []\n",
    "for log in logs:\n",
    "    if log.split(' ')[1].isalpha():\n",
    "        letter.append(log.split(' '))\n",
    "    else:\n",
    "        digit.append(log.split(' '))\n",
    "\n",
    "ans = [' '.join(log) for log in sorted(letter, key= lambda x: (x[1:], x[0])) + digit]\n",
    "ans"
   ]
  },
  {
   "cell_type": "code",
   "execution_count": 41,
   "metadata": {},
   "outputs": [
    {
     "data": {
      "text/plain": [
       "'ball'"
      ]
     },
     "execution_count": 41,
     "metadata": {},
     "output_type": "execute_result"
    }
   ],
   "source": [
    "paragraph = \"Bob hit a ball, the hit BALL flew far after it was hit.\"\n",
    "banned = [\"hit\"]\n",
    "\n",
    "from collections import Counter\n",
    "import re\n",
    "\n",
    "Counter([word.lower() for word in re.sub('[^\\w]', ' ', paragraph).split(' ') if word.lower() not in banned+['']]).most_common(1)[0][0]\n"
   ]
  },
  {
   "cell_type": "code",
   "execution_count": 45,
   "metadata": {},
   "outputs": [
    {
     "data": {
      "text/plain": [
       "[['eat', 'tea', 'ate'], ['tan', 'nat'], ['bat']]"
      ]
     },
     "execution_count": 45,
     "metadata": {},
     "output_type": "execute_result"
    }
   ],
   "source": [
    "strs = [\"eat\",\"tea\",\"tan\",\"ate\",\"nat\",\"bat\"]\n",
    "\n",
    "from collections import defaultdict\n",
    "\n",
    "ans = defaultdict(list)\n",
    "for str in strs:\n",
    "    ans[''.join(sorted(str))].append(str)\n",
    "    \n",
    "list(ans.values())"
   ]
  },
  {
   "cell_type": "code",
   "execution_count": 53,
   "metadata": {},
   "outputs": [
    {
     "data": {
      "text/plain": [
       "''"
      ]
     },
     "execution_count": 53,
     "metadata": {},
     "output_type": "execute_result"
    }
   ],
   "source": [
    "s = \"a\"\n",
    "\n",
    "if len(s) < 2 or s == s[::-1]:\n",
    "    return s\n",
    "\n",
    "def palin(left, right):\n",
    "    while left >= 0 and right < len(s) and s[left:right+1] == s[left:right+1][::-1]:\n",
    "        left -= 1\n",
    "        right += 1\n",
    "    return s[left+1:right]\n",
    "\n",
    "ans = ''\n",
    "for i in range(len(s)-1):\n",
    "    ans = max(ans, palin(i,i+1), palin(i,i+2), key=len)\n",
    "    \n",
    "ans"
   ]
  }
 ],
 "metadata": {
  "interpreter": {
   "hash": "fff8f1baadadc5fbf51030dcb2db9f6c81b6acfa6e5b0bb822f1d9b4c699540c"
  },
  "kernelspec": {
   "display_name": "Python 3.8.8 64-bit ('base': conda)",
   "name": "python3"
  },
  "language_info": {
   "codemirror_mode": {
    "name": "ipython",
    "version": 3
   },
   "file_extension": ".py",
   "mimetype": "text/x-python",
   "name": "python",
   "nbconvert_exporter": "python",
   "pygments_lexer": "ipython3",
   "version": "3.8.8"
  },
  "orig_nbformat": 4
 },
 "nbformat": 4,
 "nbformat_minor": 2
}
