{
 "cells": [
  {
   "cell_type": "code",
   "execution_count": 12,
   "metadata": {},
   "outputs": [],
   "source": [
    "class ListNode:\n",
    "    def __init__(self, val=0, next=None):\n",
    "        self.val = val\n",
    "        self.next = next\n",
    "\n",
    "def makeListNode(head):\n",
    "    edit = arr = ListNode()\n",
    "    for n in head:\n",
    "        edit.next = ListNode(n)\n",
    "        edit = edit.next\n",
    "    return arr.next\n",
    "\n",
    "def Node_to_List(head):\n",
    "    arr = []\n",
    "    while head != None:\n",
    "        arr.append(head.val)\n",
    "        head = head.next\n",
    "    return arr"
   ]
  },
  {
   "cell_type": "code",
   "execution_count": 20,
   "metadata": {},
   "outputs": [
    {
     "name": "stdout",
     "output_type": "stream",
     "text": [
      "[1, 2, 3, 4, 5] [1, 2, 3, 4, 5]\n",
      "[1, 3, 4, 5] [1, 3, 4, 5]\n",
      "\n",
      "[2, 1, 3, 4, 5] [1, 3, 4, 5]\n",
      "[2, 1, 4, 5] [1, 4, 5]\n",
      "\n"
     ]
    },
    {
     "data": {
      "text/plain": [
       "[3, 2, 1, 4, 5]"
      ]
     },
     "execution_count": 20,
     "metadata": {},
     "output_type": "execute_result"
    }
   ],
   "source": [
    "def test(head):\n",
    "    ans = start = ListNode(None)\n",
    "    ans.next = head\n",
    "    \n",
    "    end = start.next\n",
    "    \n",
    "    \n",
    "    for _ in range(2):\n",
    "        t = start.next\n",
    "        print(Node_to_List(t), Node_to_List(end))\n",
    "        start.next = end.next\n",
    "        end.next = end.next.next\n",
    "        print(Node_to_List(t), Node_to_List(end))\n",
    "        print()\n",
    "        start.next.next = t\n",
    "    \n",
    "    return ans.next\n",
    "        \n",
    "Node_to_List(test(makeListNode([1,2,3,4,5])))"
   ]
  }
 ],
 "metadata": {
  "interpreter": {
   "hash": "fff8f1baadadc5fbf51030dcb2db9f6c81b6acfa6e5b0bb822f1d9b4c699540c"
  },
  "kernelspec": {
   "display_name": "Python 3.8.8 64-bit ('base': conda)",
   "name": "python3"
  },
  "language_info": {
   "codemirror_mode": {
    "name": "ipython",
    "version": 3
   },
   "file_extension": ".py",
   "mimetype": "text/x-python",
   "name": "python",
   "nbconvert_exporter": "python",
   "pygments_lexer": "ipython3",
   "version": "3.8.8"
  },
  "orig_nbformat": 4
 },
 "nbformat": 4,
 "nbformat_minor": 2
}
