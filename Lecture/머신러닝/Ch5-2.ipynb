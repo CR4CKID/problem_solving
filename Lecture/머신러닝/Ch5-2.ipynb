{
 "cells": [
  {
   "cell_type": "code",
   "execution_count": 10,
   "source": [
    "import pandas as pd\r\n",
    "wine = pd.read_csv('https://bit.ly/wine_csv_data')\r\n",
    "data = wine[['alcohol', 'sugar', 'pH']].to_numpy()\r\n",
    "target = wine['class'].to_numpy()\r\n",
    "\r\n",
    "from sklearn.model_selection import train_test_split\r\n",
    "train_input, test_input, train_target, test_target = train_test_split(data, target, test_size= 0.2, random_state= 42)\r\n",
    "\r\n",
    "# 검증 세트 만들기\r\n",
    "sub_input, val_input, sub_target, val_target = train_test_split(train_input, train_target, test_size= 0.2, random_state=42)\r\n",
    "\r\n",
    "print(sub_input.shape, test_input.shape, val_input.shape)\r\n",
    "\r\n",
    "from sklearn.tree import DecisionTreeClassifier\r\n",
    "dt = DecisionTreeClassifier(random_state= 42)\r\n",
    "dt.fit(sub_input, sub_target)\r\n",
    "print(dt.score(sub_input, sub_target), dt.score(test_input, test_target), dt.score(val_input, val_target))"
   ],
   "outputs": [
    {
     "output_type": "stream",
     "name": "stdout",
     "text": [
      "(4157, 3) (1300, 3) (1040, 3)\n",
      "0.9971133028626413 0.8569230769230769 0.864423076923077\n"
     ]
    }
   ],
   "metadata": {}
  },
  {
   "cell_type": "code",
   "execution_count": 11,
   "source": [
    "# 교차 검증 : cross_validate(), 기본적으로 5-폴드 교차 검증 수행\r\n",
    "from sklearn.model_selection import cross_validate\r\n",
    "scores = cross_validate(dt, train_input, train_target)\r\n",
    "print(scores)\r\n",
    "# fit_time : 모델을 훈련하는 시간, score_time : 모델을 검증하는 시간, test_score : 검증 폴드 점수\r\n",
    "\r\n",
    "import numpy as np\r\n",
    "print(np.mean(scores['test_score']))"
   ],
   "outputs": [
    {
     "output_type": "stream",
     "name": "stdout",
     "text": [
      "{'fit_time': array([0.00900197, 0.01000357, 0.00800204, 0.01000237, 0.00784636]), 'score_time': array([0.00200057, 0.00099897, 0.00099993, 0.        , 0.00100255]), 'test_score': array([0.86923077, 0.84615385, 0.87680462, 0.84889317, 0.83541867])}\n",
      "0.855300214703487\n"
     ]
    }
   ],
   "metadata": {}
  },
  {
   "cell_type": "code",
   "execution_count": 12,
   "source": [
    "# cross_validate는 훈련 세트를 섞어주지 않으므로 분할기를 사용해야 함\r\n",
    "# 회귀모델 : KFold, 분류모델 : StratifiedKFold\r\n",
    "from sklearn.model_selection import StratifiedKFold\r\n",
    "scores = cross_validate(dt, train_input, train_target, cv=StratifiedKFold())\r\n",
    "print(np.mean(scores['test_score']))\r\n",
    "\r\n",
    "# 10-폴드교차 검증과 훈련세트 섞기\r\n",
    "splitter = StratifiedKFold(n_splits= 10, shuffle=True, random_state=42) # n_spits를 통해 몇 폴드 교차검증을 할 지 정할 수 있다\r\n",
    "scores = cross_validate(dt, train_input, train_target, cv=splitter)\r\n",
    "print(np.mean(scores['test_score']))"
   ],
   "outputs": [
    {
     "output_type": "stream",
     "name": "stdout",
     "text": [
      "0.855300214703487\n",
      "0.8574181117533719\n"
     ]
    }
   ],
   "metadata": {}
  },
  {
   "cell_type": "code",
   "execution_count": 13,
   "source": [
    "# GridSearchCV : 하이퍼파라미터 탐색과 교차 검증을 한번에 수행\r\n",
    "from sklearn.model_selection import GridSearchCV\r\n",
    "params = {'min_impurity_decrease' : [0.0001, 0.0002, 0.0003, 0.0004, 0.0005]}\r\n",
    "gs = GridSearchCV(DecisionTreeClassifier(random_state=42), params, n_jobs= 1) # n_jobs = 병렬 실행에 사용할 CPU 코어 수\r\n",
    "gs.fit(train_input, train_target)\r\n",
    "\r\n",
    "dt = gs.best_estimator_ # 검증 점수가 가장 높은 매개변수 조합\r\n",
    "print(dt.score(train_input, train_target))\r\n",
    "\r\n",
    "print(gs.best_params_) # 서치로 찾은 최적의 매개변수\r\n",
    "\r\n",
    "print(gs.cv_results_['mean_test_score']) # 각 매개변수에서 수행한 교차검증의 평균 점수\r\n",
    "\r\n",
    "# 넘파이 argmax() : 가장 큰 값의 인덱스 추출\r\n",
    "best_index = np.argmax(gs.cv_results_['mean_test_score'])\r\n",
    "print(gs.cv_results_['params'][best_index])"
   ],
   "outputs": [
    {
     "output_type": "stream",
     "name": "stdout",
     "text": [
      "0.9615162593804117\n",
      "{'min_impurity_decrease': 0.0001}\n",
      "[0.86819297 0.86453617 0.86492226 0.86780891 0.86761605]\n",
      "{'min_impurity_decrease': 0.0001}\n"
     ]
    }
   ],
   "metadata": {}
  },
  {
   "cell_type": "code",
   "execution_count": 14,
   "source": [
    "# 더 복잡한 매개변수 조합 탐색\r\n",
    "params = {\r\n",
    "'min_impurity_decrease' : np.arange(0.0001, 0.001, 0.0001),\r\n",
    "'max_depth' : range(5,20, 1),\r\n",
    "'min_samples_split' : range(2, 200, 10)\r\n",
    "}\r\n",
    "gs = GridSearchCV(DecisionTreeClassifier(random_state=42), params, n_jobs= -1)\r\n",
    "gs.fit(train_input, train_target)\r\n",
    "print(gs.best_params_)"
   ],
   "outputs": [
    {
     "output_type": "stream",
     "name": "stdout",
     "text": [
      "{'max_depth': 14, 'min_impurity_decrease': 0.0004, 'min_samples_split': 12}\n"
     ]
    }
   ],
   "metadata": {}
  },
  {
   "cell_type": "code",
   "execution_count": 15,
   "source": [
    "# 최상의 교차 검증 점수\r\n",
    "print(np.max(gs.cv_results_['mean_test_score']))"
   ],
   "outputs": [
    {
     "output_type": "stream",
     "name": "stdout",
     "text": [
      "0.8683865773302731\n"
     ]
    }
   ],
   "metadata": {}
  },
  {
   "cell_type": "code",
   "execution_count": 16,
   "source": [
    "# 랜덤 서치 : 매개 변수를 샘플링할 수 있는 확률 분포 객체를 전달\r\n",
    "from scipy.stats import uniform, randint\r\n",
    "# 두 클래스 모두 주어진 범위에서 값을 고르게 뽑음, uniform : 실수값, randint : 정수값\r\n",
    "rgen = randint(0,10)\r\n",
    "print(np.unique(rgen.rvs(1000), return_counts= True)) # unique() : 2차원 배열을 1차원으로 정렬, return_counts : 각 값의 개수\r\n",
    "ugen = uniform(0,1)\r\n",
    "print(ugen.rvs(10))"
   ],
   "outputs": [
    {
     "output_type": "stream",
     "name": "stdout",
     "text": [
      "(array([0, 1, 2, 3, 4, 5, 6, 7, 8, 9]), array([100, 100, 100, 115,  92,  95,  89,  92, 111, 106], dtype=int64))\n",
      "[0.17515615 0.95843347 0.06125874 0.52577869 0.18758182 0.15235108\n",
      " 0.22912906 0.15102314 0.00146216 0.50890807]\n"
     ]
    }
   ],
   "metadata": {}
  },
  {
   "cell_type": "code",
   "execution_count": 26,
   "source": [
    "params = {\r\n",
    "'min_impurity_decrease' : uniform(0.0001, 0.001),\r\n",
    "'max_depth' : randint(20,50),\r\n",
    "'min_samples_split' : randint(2, 25),\r\n",
    "'min_samples_leaf' : randint(1, 25)\r\n",
    "}\r\n",
    "\r\n",
    "from sklearn.model_selection import RandomizedSearchCV\r\n",
    "gs = RandomizedSearchCV(DecisionTreeClassifier(random_state=42), params, n_iter= 100, n_jobs= -1, random_state= 42)\r\n",
    "# n_iter= : 샘플링 횟수\r\n",
    "gs.fit(train_input, train_target)\r\n",
    "print(gs.best_params_)\r\n",
    "print(np.max(gs.cv_results_['mean_test_score']))"
   ],
   "outputs": [
    {
     "output_type": "stream",
     "name": "stdout",
     "text": [
      "{'max_depth': 39, 'min_impurity_decrease': 0.00034102546602601173, 'min_samples_leaf': 7, 'min_samples_split': 13}\n",
      "0.8695428296438884\n"
     ]
    }
   ],
   "metadata": {}
  },
  {
   "cell_type": "code",
   "execution_count": 27,
   "source": [
    "dt = gs.best_estimator_\r\n",
    "print(dt.score(test_input, test_target))"
   ],
   "outputs": [
    {
     "output_type": "stream",
     "name": "stdout",
     "text": [
      "0.86\n"
     ]
    }
   ],
   "metadata": {}
  }
 ],
 "metadata": {
  "orig_nbformat": 4,
  "language_info": {
   "name": "python",
   "version": "3.8.8",
   "mimetype": "text/x-python",
   "codemirror_mode": {
    "name": "ipython",
    "version": 3
   },
   "pygments_lexer": "ipython3",
   "nbconvert_exporter": "python",
   "file_extension": ".py"
  },
  "kernelspec": {
   "name": "python3",
   "display_name": "Python 3.8.8 64-bit ('base': conda)"
  },
  "interpreter": {
   "hash": "fff8f1baadadc5fbf51030dcb2db9f6c81b6acfa6e5b0bb822f1d9b4c699540c"
  }
 },
 "nbformat": 4,
 "nbformat_minor": 2
}