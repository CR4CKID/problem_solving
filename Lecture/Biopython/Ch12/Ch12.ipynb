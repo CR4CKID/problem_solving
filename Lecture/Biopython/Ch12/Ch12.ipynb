{
 "cells": [
  {
   "cell_type": "code",
   "execution_count": 4,
   "metadata": {},
   "outputs": [
    {
     "name": "stdout",
     "output_type": "stream",
     "text": [
      "['Transferases;', 'Transferring phosphorus-containing groups;', 'Phosphotransferases with an alcohol group as acceptor']\n",
      "['ATP:pyruvate 2-O-phosphotransferase']\n",
      "['ATP [CPD:C00002]', 'pyruvate [CPD:C00022]']\n",
      "['ADP [CPD:C00008]', 'phosphoenolpyruvate [CPD:C00074]']\n"
     ]
    }
   ],
   "source": [
    "#12.3\n",
    "\n",
    "from Bio.KEGG import Enzyme\n",
    "\n",
    "records = Enzyme.parse(open('ec_2.7.1.40.txt'))\n",
    "records = list(records)[0]\n",
    "print(records.classname)\n",
    "print(records.sysname)\n",
    "print(records.substrate)\n",
    "print(records.product)"
   ]
  },
  {
   "cell_type": "code",
   "execution_count": 5,
   "metadata": {},
   "outputs": [
    {
     "name": "stdout",
     "output_type": "stream",
     "text": [
      "path:hsa04910 Insulin signaling pathway - Homo sapiens (human)\n",
      "path:hsa04911 Insulin secretion - Homo sapiens (human)\n",
      "path:hsa04931 Insulin resistance - Homo sapiens (human)\n",
      "['path:hsa04910', 'path:hsa04911', 'path:hsa04931']\n",
      "3 2\n",
      "INS, SLC2A1\n"
     ]
    }
   ],
   "source": [
    "from Bio.KEGG import REST\n",
    "\n",
    "human_pathways = REST.kegg_list('pathway', 'hsa').read()\n",
    "\n",
    "insulin_pathways = []\n",
    "for line in human_pathways.rstrip().split('\\n'):\n",
    "    entry, description = line.split('\\t')\n",
    "    if 'insulin' in description.lower():\n",
    "        insulin_pathways.append(entry)\n",
    "        print(entry, description)\n",
    "print(insulin_pathways)\n",
    "\n",
    "insulin_genes = []\n",
    "for pathway in insulin_pathways:\n",
    "    pathway_file = REST.kegg_get(pathway).read()\n",
    "    \n",
    "    current_section = None\n",
    "    for line in pathway_file.rstrip().split('\\n'):\n",
    "        section = line[:12].strip()\n",
    "        if not section == '':\n",
    "            current_section = section\n",
    "            \n",
    "            if current_section == 'GENE':\n",
    "                gene_identifiers, gene_description = line[12:].split('; ')\n",
    "                gene_id, gene_symbol = gene_identifiers.split()\n",
    "                \n",
    "                if not gene_symbol in insulin_genes:\n",
    "                    insulin_genes.append(gene_symbol)\n",
    "                    \n",
    "print(len(insulin_pathways), len(insulin_genes))\n",
    "print(', '.join(insulin_genes))"
   ]
  }
 ],
 "metadata": {
  "interpreter": {
   "hash": "fff8f1baadadc5fbf51030dcb2db9f6c81b6acfa6e5b0bb822f1d9b4c699540c"
  },
  "kernelspec": {
   "display_name": "Python 3.8.8 ('base')",
   "language": "python",
   "name": "python3"
  },
  "language_info": {
   "codemirror_mode": {
    "name": "ipython",
    "version": 3
   },
   "file_extension": ".py",
   "mimetype": "text/x-python",
   "name": "python",
   "nbconvert_exporter": "python",
   "pygments_lexer": "ipython3",
   "version": "3.8.8"
  },
  "orig_nbformat": 4
 },
 "nbformat": 4,
 "nbformat_minor": 2
}
