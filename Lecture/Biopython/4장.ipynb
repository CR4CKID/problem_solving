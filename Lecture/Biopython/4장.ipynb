{
 "cells": [
  {
   "cell_type": "code",
   "execution_count": 26,
   "metadata": {},
   "outputs": [
    {
     "name": "stdout",
     "output_type": "stream",
     "text": [
      "tataaaggcAATATGCAGTAG\n"
     ]
    }
   ],
   "source": [
    "from Bio.Seq import Seq\n",
    "\n",
    "\n",
    "tatabox_seq = Seq('tataaaggcAATATGCAGTAG')\n",
    "print(tatabox_seq)"
   ]
  },
  {
   "cell_type": "code",
   "execution_count": 27,
   "metadata": {},
   "outputs": [
    {
     "data": {
      "text/plain": [
       "Seq('YKGNMQ*')"
      ]
     },
     "execution_count": 27,
     "metadata": {},
     "output_type": "execute_result"
    }
   ],
   "source": [
    "tatabox_seq.translate()"
   ]
  },
  {
   "cell_type": "code",
   "execution_count": 28,
   "metadata": {},
   "outputs": [
    {
     "data": {
      "text/plain": [
       "['__add__',\n",
       " '__class__',\n",
       " '__contains__',\n",
       " '__delattr__',\n",
       " '__dict__',\n",
       " '__dir__',\n",
       " '__doc__',\n",
       " '__eq__',\n",
       " '__format__',\n",
       " '__ge__',\n",
       " '__getattribute__',\n",
       " '__getitem__',\n",
       " '__gt__',\n",
       " '__hash__',\n",
       " '__imul__',\n",
       " '__init__',\n",
       " '__init_subclass__',\n",
       " '__le__',\n",
       " '__len__',\n",
       " '__lt__',\n",
       " '__module__',\n",
       " '__mul__',\n",
       " '__ne__',\n",
       " '__new__',\n",
       " '__radd__',\n",
       " '__reduce__',\n",
       " '__reduce_ex__',\n",
       " '__repr__',\n",
       " '__rmul__',\n",
       " '__setattr__',\n",
       " '__sizeof__',\n",
       " '__str__',\n",
       " '__subclasshook__',\n",
       " '__weakref__',\n",
       " 'back_transcribe',\n",
       " 'complement',\n",
       " 'complement_rna',\n",
       " 'count',\n",
       " 'count_overlap',\n",
       " 'encode',\n",
       " 'endswith',\n",
       " 'find',\n",
       " 'index',\n",
       " 'join',\n",
       " 'lower',\n",
       " 'lstrip',\n",
       " 'reverse_complement',\n",
       " 'reverse_complement_rna',\n",
       " 'rfind',\n",
       " 'rindex',\n",
       " 'rsplit',\n",
       " 'rstrip',\n",
       " 'split',\n",
       " 'startswith',\n",
       " 'strip',\n",
       " 'tomutable',\n",
       " 'transcribe',\n",
       " 'translate',\n",
       " 'ungap',\n",
       " 'upper']"
      ]
     },
     "execution_count": 28,
     "metadata": {},
     "output_type": "execute_result"
    }
   ],
   "source": [
    "dir(Seq)"
   ]
  },
  {
   "cell_type": "code",
   "execution_count": 29,
   "metadata": {},
   "outputs": [
    {
     "data": {
      "text/plain": [
       "3"
      ]
     },
     "execution_count": 29,
     "metadata": {},
     "output_type": "execute_result"
    }
   ],
   "source": [
    "from Bio.Seq import Seq\n",
    "\n",
    "\n",
    "exon_seq = Seq('ATGCAGTAG')\n",
    "count_a = exon_seq.count('A')\n",
    "count_a"
   ]
  },
  {
   "cell_type": "code",
   "execution_count": 30,
   "metadata": {},
   "outputs": [
    {
     "data": {
      "text/plain": [
       "44.44444444444444"
      ]
     },
     "execution_count": 30,
     "metadata": {},
     "output_type": "execute_result"
    }
   ],
   "source": [
    "g_count = exon_seq.count('G')\n",
    "c_count = exon_seq.count('C')\n",
    "gc_contents = (g_count + c_count) / len(exon_seq) * 100\n",
    "gc_contents"
   ]
  },
  {
   "cell_type": "code",
   "execution_count": 31,
   "metadata": {},
   "outputs": [
    {
     "data": {
      "text/plain": [
       "Seq('TATAAAGGCAATATGCAGTAG')"
      ]
     },
     "execution_count": 31,
     "metadata": {},
     "output_type": "execute_result"
    }
   ],
   "source": [
    "tatabox_seq = Seq('tataaaggcAATATGCAGTAG')\n",
    "tatabox_seq.upper()"
   ]
  },
  {
   "cell_type": "code",
   "execution_count": 32,
   "metadata": {},
   "outputs": [
    {
     "name": "stdout",
     "output_type": "stream",
     "text": [
      "AUGCAGUAG\n",
      "MQ*\n"
     ]
    }
   ],
   "source": [
    "dna = Seq('ATGCAGTAG')\n",
    "mrna = dna.transcribe()\n",
    "pnt = dna.translate()\n",
    "print(mrna)\n",
    "print(pnt)"
   ]
  },
  {
   "cell_type": "code",
   "execution_count": 33,
   "metadata": {},
   "outputs": [
    {
     "data": {
      "text/plain": [
       "Seq('MN')"
      ]
     },
     "execution_count": 33,
     "metadata": {},
     "output_type": "execute_result"
    }
   ],
   "source": [
    "# 4.4.5\n",
    "mrna = Seq('AUGAACUAAGUUUAGAAU')\n",
    "mrna.translate(to_stop=True)\n"
   ]
  },
  {
   "cell_type": "code",
   "execution_count": 34,
   "metadata": {},
   "outputs": [
    {
     "data": {
      "text/plain": [
       "[Seq('MN'), Seq('V'), Seq('N')]"
      ]
     },
     "execution_count": 34,
     "metadata": {},
     "output_type": "execute_result"
    }
   ],
   "source": [
    "# 4.4.6\n",
    "ptn = mrna.translate()\n",
    "ptn.split('*')"
   ]
  },
  {
   "cell_type": "code",
   "execution_count": 35,
   "metadata": {},
   "outputs": [
    {
     "name": "stdout",
     "output_type": "stream",
     "text": [
      "ATATTTCCGTTATACGTCATC\n",
      "CTACTGCATATTGCCTTTATA\n"
     ]
    }
   ],
   "source": [
    "# 4.4.7\n",
    "seq = Seq('TATAAAGGCAATATGCAGTAG')\n",
    "com_seq = seq.complement()\n",
    "rev_com_seq = seq.reverse_complement()\n",
    "print(com_seq)\n",
    "print(rev_com_seq)"
   ]
  },
  {
   "cell_type": "code",
   "execution_count": 36,
   "metadata": {},
   "outputs": [
    {
     "name": "stdout",
     "output_type": "stream",
     "text": [
      "Table 1 Standard, SGC0\n",
      "\n",
      "  |  T      |  C      |  A      |  G      |\n",
      "--+---------+---------+---------+---------+--\n",
      "T | TTT F   | TCT S   | TAT Y   | TGT C   | T\n",
      "T | TTC F   | TCC S   | TAC Y   | TGC C   | C\n",
      "T | TTA L   | TCA S   | TAA Stop| TGA Stop| A\n",
      "T | TTG L(s)| TCG S   | TAG Stop| TGG W   | G\n",
      "--+---------+---------+---------+---------+--\n",
      "C | CTT L   | CCT P   | CAT H   | CGT R   | T\n",
      "C | CTC L   | CCC P   | CAC H   | CGC R   | C\n",
      "C | CTA L   | CCA P   | CAA Q   | CGA R   | A\n",
      "C | CTG L(s)| CCG P   | CAG Q   | CGG R   | G\n",
      "--+---------+---------+---------+---------+--\n",
      "A | ATT I   | ACT T   | AAT N   | AGT S   | T\n",
      "A | ATC I   | ACC T   | AAC N   | AGC S   | C\n",
      "A | ATA I   | ACA T   | AAA K   | AGA R   | A\n",
      "A | ATG M(s)| ACG T   | AAG K   | AGG R   | G\n",
      "--+---------+---------+---------+---------+--\n",
      "G | GTT V   | GCT A   | GAT D   | GGT G   | T\n",
      "G | GTC V   | GCC A   | GAC D   | GGC G   | C\n",
      "G | GTA V   | GCA A   | GAA E   | GGA G   | A\n",
      "G | GTG V   | GCG A   | GAG E   | GGG G   | G\n",
      "--+---------+---------+---------+---------+--\n"
     ]
    }
   ],
   "source": [
    "# 4.4.8\n",
    "from Bio.Data import CodonTable\n",
    "codon_table = CodonTable.unambiguous_dna_by_name['Standard']\n",
    "print(codon_table)"
   ]
  },
  {
   "cell_type": "code",
   "execution_count": 37,
   "metadata": {},
   "outputs": [
    {
     "name": "stdout",
     "output_type": "stream",
     "text": [
      "Table 2 Vertebrate Mitochondrial, SGC1\n",
      "\n",
      "  |  T      |  C      |  A      |  G      |\n",
      "--+---------+---------+---------+---------+--\n",
      "T | TTT F   | TCT S   | TAT Y   | TGT C   | T\n",
      "T | TTC F   | TCC S   | TAC Y   | TGC C   | C\n",
      "T | TTA L   | TCA S   | TAA Stop| TGA W   | A\n",
      "T | TTG L   | TCG S   | TAG Stop| TGG W   | G\n",
      "--+---------+---------+---------+---------+--\n",
      "C | CTT L   | CCT P   | CAT H   | CGT R   | T\n",
      "C | CTC L   | CCC P   | CAC H   | CGC R   | C\n",
      "C | CTA L   | CCA P   | CAA Q   | CGA R   | A\n",
      "C | CTG L   | CCG P   | CAG Q   | CGG R   | G\n",
      "--+---------+---------+---------+---------+--\n",
      "A | ATT I(s)| ACT T   | AAT N   | AGT S   | T\n",
      "A | ATC I(s)| ACC T   | AAC N   | AGC S   | C\n",
      "A | ATA M(s)| ACA T   | AAA K   | AGA Stop| A\n",
      "A | ATG M(s)| ACG T   | AAG K   | AGG Stop| G\n",
      "--+---------+---------+---------+---------+--\n",
      "G | GTT V   | GCT A   | GAT D   | GGT G   | T\n",
      "G | GTC V   | GCC A   | GAC D   | GGC G   | C\n",
      "G | GTA V   | GCA A   | GAA E   | GGA G   | A\n",
      "G | GTG V(s)| GCG A   | GAG E   | GGG G   | G\n",
      "--+---------+---------+---------+---------+--\n"
     ]
    }
   ],
   "source": [
    "codon_table = CodonTable.unambiguous_dna_by_name['Vertebrate Mitochondrial']\n",
    "print(codon_table)"
   ]
  },
  {
   "cell_type": "code",
   "execution_count": 38,
   "metadata": {},
   "outputs": [
    {
     "data": {
      "text/plain": [
       "Seq('ATGGTGGGGAAGAGACTAG')"
      ]
     },
     "execution_count": 38,
     "metadata": {},
     "output_type": "execute_result"
    }
   ],
   "source": [
    "# 4.4.9\n",
    "tbp_seq = Seq('''AGTGAGGTCGGGCAGGTTCGCTGTGGCGGGCGCCTGGGCCGCCGGCTGTTTAACTTCGCTTCCGCTGGCC\n",
    "CATAGTGATCTTTGCAGTGACCCAGGTAACAGATTGTACTCTTTTCTGACGGTTCGGGCGAAGGCCACCA\n",
    "CTGCACTGAGGCCTGGGGGCAATGGTGGGGAAGAGACTAGGAATTGGCGCGCGTGCAGGCCCCTCGGGGG\n",
    "ACGTTCCTCCCTTTCGTGCTGCCGCCGTTCCGGCCTGTAACGGCCACTCGGCCGCCACTCCCGCCTGGTG\n",
    "CCCTACTCTGCTGTGTTTCGCAGGCAGCTTCCCATCGTACGATTGTGGGGCTCAGGGTACTACTGGCTGG\n",
    "CTGGGCGGCGGCAGGCGGGACAGGACAGTCCCTTGCATCGAAGACCCTAAGTTTACCCTGCCCTGTCCTG\n",
    "CCATCCGCTTCTTCTCCATGTTAGAAGCAGATTCACCCAGATCTGTGCCCGCCTGTTTTGCTGCCAACAT\n",
    "TGAGACTTAAATATTTTGTCAGAAGCCTGAGACAGCGGGCACGGTAGCGCTTAAGATATAATACACACCA\n",
    "CTTTATTTGCAGGGTCTCCCGTCTCTCGGTTCAGGCCATCATGGTTTTCCAAATCTCTAGGTAGACTTTT\n",
    "CTGTGAAAAGACTGTGCTTCATTTAGTTATACAGACACTAGAAGGCTATGCAGAATTAATTTGATTGCCT\n",
    "CCAAAAAATATCGGATTTGATGTTTCAATTTCCAGGAGATGAAGATACCCAGCAAACAACTCTTTTCTGACG''')\n",
    "\n",
    "start_idx = tbp_seq.find('ATG')\n",
    "end_idx = tbp_seq.find('TAG', start_idx)\n",
    "orf = tbp_seq[start_idx:end_idx+3]\n",
    "orf"
   ]
  },
  {
   "cell_type": "code",
   "execution_count": 39,
   "metadata": {},
   "outputs": [
    {
     "data": {
      "text/plain": [
       "33.333333333333336"
      ]
     },
     "execution_count": 39,
     "metadata": {},
     "output_type": "execute_result"
    }
   ],
   "source": [
    "# 4.5.1\n",
    "from Bio.SeqUtils import GC\n",
    "gc_contents = GC(tatabox_seq)\n",
    "gc_contents"
   ]
  },
  {
   "cell_type": "code",
   "execution_count": 40,
   "metadata": {},
   "outputs": [
    {
     "name": "stdout",
     "output_type": "stream",
     "text": [
      "2842.8206999999993\n",
      "2958.7621\n",
      "707.7536\n"
     ]
    }
   ],
   "source": [
    "# 4.5.2\n",
    "from Bio.SeqUtils import molecular_weight\n",
    "seq = Seq('ATGCAGTAG')\n",
    "print(molecular_weight(seq, seq_type= 'DNA'))\n",
    "print(molecular_weight(seq.transcribe(), seq_type= 'RNA'))\n",
    "print(molecular_weight(seq, seq_type= 'protein'))"
   ]
  },
  {
   "cell_type": "code",
   "execution_count": 41,
   "metadata": {},
   "outputs": [
    {
     "name": "stdout",
     "output_type": "stream",
     "text": [
      "GC_Frame: a:5 t:3 g:3 c:1 \n",
      "Sequence: tataaaggca ... tatgcagtag, 21 nt, 33.33 %GC\n",
      "\n",
      "\n",
      "1/1\n",
      "  *  R  Q  Y  A  V\n",
      " I  K  A  I  C  S\n",
      "Y  K  G  N  M  Q  *\n",
      "tataaaggcaatatgcagtag   33 %\n",
      "atatttccgttatacgtcatc\n",
      "L  P  L  I  C  Y \n",
      " I  F  A  I  H  L  L\n",
      "  Y  L  C  Y  A  T\n",
      "\n",
      "\n"
     ]
    }
   ],
   "source": [
    "# 4.5.3\n",
    "from Bio.SeqUtils import six_frame_translations\n",
    "print(six_frame_translations(tatabox_seq))"
   ]
  },
  {
   "cell_type": "code",
   "execution_count": 42,
   "metadata": {},
   "outputs": [
    {
     "name": "stdout",
     "output_type": "stream",
     "text": [
      "TATAAAGGCAATATGCAGTAG\n",
      "56.0\n",
      "44.75013036065327\n"
     ]
    }
   ],
   "source": [
    "# 4.5.4\n",
    "from Bio.SeqUtils import MeltingTemp as mt\n",
    "print(tatabox_seq.upper())\n",
    "print(mt.Tm_Wallace(tatabox_seq))\n",
    "print(mt.Tm_GC(tatabox_seq))"
   ]
  },
  {
   "cell_type": "code",
   "execution_count": 47,
   "metadata": {},
   "outputs": [
    {
     "name": "stdout",
     "output_type": "stream",
     "text": [
      "YKGNMQ*\n",
      "TyrLysGlyAsnMetGlnTer\n",
      "YKGNMQ*\n"
     ]
    }
   ],
   "source": [
    "# 4.5.5\n",
    "from Bio.SeqUtils import seq3, seq1\n",
    "one_letter_protein = tatabox_seq.translate()\n",
    "print(one_letter_protein)\n",
    "print(seq3(one_letter_protein))\n",
    "print(seq1(seq3(one_letter_protein)))"
   ]
  },
  {
   "cell_type": "code",
   "execution_count": 48,
   "metadata": {},
   "outputs": [
    {
     "name": "stdout",
     "output_type": "stream",
     "text": [
      "AAGTGACAGGGATTG\n"
     ]
    }
   ],
   "source": [
    "# 연습문제 1\n",
    "seq = Seq('aagtGACAGggatTG')\n",
    "print(seq.upper())"
   ]
  },
  {
   "cell_type": "code",
   "execution_count": 50,
   "metadata": {},
   "outputs": [
    {
     "name": "stdout",
     "output_type": "stream",
     "text": [
      "K\n"
     ]
    }
   ],
   "source": [
    "# 연습문제 2\n",
    "seq = Seq('AAGTGACAGGGATTG')\n",
    "print(seq.translate(to_stop= True))"
   ]
  },
  {
   "cell_type": "code",
   "execution_count": 53,
   "metadata": {},
   "outputs": [
    {
     "name": "stdout",
     "output_type": "stream",
     "text": [
      "46.666666666666664\n",
      "44.0\n"
     ]
    }
   ],
   "source": [
    "# 연습문제 3\n",
    "from Bio.SeqUtils import MeltingTemp as mt\n",
    "from Bio.SeqUtils import GC\n",
    "seq = Seq('AAGTGACAGGGATTG')\n",
    "print(GC(seq))\n",
    "print(mt.Tm_Wallace(seq))"
   ]
  }
 ],
 "metadata": {
  "interpreter": {
   "hash": "fff8f1baadadc5fbf51030dcb2db9f6c81b6acfa6e5b0bb822f1d9b4c699540c"
  },
  "kernelspec": {
   "display_name": "Python 3.8.8 64-bit ('base': conda)",
   "language": "python",
   "name": "python3"
  },
  "language_info": {
   "codemirror_mode": {
    "name": "ipython",
    "version": 3
   },
   "file_extension": ".py",
   "mimetype": "text/x-python",
   "name": "python",
   "nbconvert_exporter": "python",
   "pygments_lexer": "ipython3",
   "version": "3.8.8"
  },
  "orig_nbformat": 4
 },
 "nbformat": 4,
 "nbformat_minor": 2
}
