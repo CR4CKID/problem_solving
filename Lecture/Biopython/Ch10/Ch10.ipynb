{
 "cells": [
  {
   "cell_type": "code",
   "execution_count": 4,
   "metadata": {},
   "outputs": [
    {
     "name": "stdout",
     "output_type": "stream",
     "text": [
      "<class 'Bio.SwissProt.Record'>\n"
     ]
    }
   ],
   "source": [
    "#10.1.2\n",
    "from Bio import SwissProt\n",
    "\n",
    "handle= open('P02649.txt')\n",
    "record = SwissProt.read(handle)\n",
    "print(type(record))\n",
    "handle.close()"
   ]
  },
  {
   "cell_type": "code",
   "execution_count": 5,
   "metadata": {},
   "outputs": [
    {
     "name": "stdout",
     "output_type": "stream",
     "text": [
      "RecName: Full=Apolipoprotein E; Short=Apo-E; Flags: Precursor;\n",
      "Name=APOE;\n",
      "Homo sapiens (Human).\n",
      "317\n"
     ]
    }
   ],
   "source": [
    "#10.1.3\n",
    "\n",
    "handle = open('P02649.txt')\n",
    "record = SwissProt.read(handle)\n",
    "handle.close()\n",
    "\n",
    "print(record.description)\n",
    "print(record.gene_name)\n",
    "print(record.organism)\n",
    "print(record.sequence_length)"
   ]
  },
  {
   "cell_type": "code",
   "execution_count": 7,
   "metadata": {},
   "outputs": [
    {
     "name": "stdout",
     "output_type": "stream",
     "text": [
      "Name=APOE {ECO:0000312|HGNC:HGNC:613};\n",
      "Homo sapiens (Human).\n",
      "317\n"
     ]
    }
   ],
   "source": [
    "#10.2.2\n",
    "from Bio import ExPASy\n",
    "from Bio import SwissProt\n",
    "\n",
    "accession = 'P02649'\n",
    "handle = ExPASy.get_sprot_raw(accession)\n",
    "record = SwissProt.read(handle)\n",
    "print(record.gene_name)\n",
    "print(record.organism)\n",
    "print(record.sequence_length)"
   ]
  },
  {
   "cell_type": "code",
   "execution_count": 8,
   "metadata": {},
   "outputs": [
    {
     "name": "stdout",
     "output_type": "stream",
     "text": [
      "RecName: Full=Amyloid-beta precursor protein {ECO:0000312|HGNC:HGNC:620}; Short=APP {ECO:0000312|HGNC:HGNC:620}; AltName: Full=ABPP; AltName: Full=APPI; AltName: Full=Alzheimer disease amyloid A4 protein homolog; AltName: Full=Alzheimer disease amyloid protein; AltName: Full=Amyloid precursor protein {ECO:0000305}; AltName: Full=Amyloid-beta (A4) precursor protein {ECO:0000250|UniProtKB:P12023}; AltName: Full=Amyloid-beta A4 protein; AltName: Full=Cerebral vascular amyloid peptide; Short=CVAP; AltName: Full=PreA4; AltName: Full=Protease nexin-II; Short=PN-II; Contains: RecName: Full=N-APP; Contains: RecName: Full=Soluble APP-alpha {ECO:0000303|PubMed:10656250}; Short=S-APP-alpha {ECO:0000303|PubMed:10656250}; Contains: RecName: Full=Soluble APP-beta {ECO:0000303|PubMed:10656250}; Short=S-APP-beta {ECO:0000303|PubMed:10656250}; Contains: RecName: Full=C99; AltName: Full=Beta-secretase C-terminal fragment {ECO:0000303|PubMed:10656250}; Short=Beta-CTF {ECO:0000303|PubMed:10656250}; Contains: RecName: Full=Amyloid-beta protein 42 {ECO:0000303|PubMed:8886002}; Short=Abeta42; AltName: Full=Beta-APP42; Contains: RecName: Full=Amyloid-beta protein 40 {ECO:0000303|PubMed:8886002}; Short=Abeta40; AltName: Full=Beta-APP40; Contains: RecName: Full=C83; AltName: Full=Alpha-secretase C-terminal fragment {ECO:0000303|PubMed:10656250}; Short=Alpha-CTF {ECO:0000303|PubMed:10656250}; Contains: RecName: Full=P3(42); Contains: RecName: Full=P3(40); Contains: RecName: Full=C80; Contains: RecName: Full=Gamma-secretase C-terminal fragment 59; AltName: Full=Amyloid intracellular domain 59; Short=AICD-59; Short=AID(59); AltName: Full=Gamma-CTF(59); Contains: RecName: Full=Gamma-secretase C-terminal fragment 57; AltName: Full=Amyloid intracellular domain 57; Short=AICD-57; Short=AID(57); AltName: Full=Gamma-CTF(57); Contains: RecName: Full=Gamma-secretase C-terminal fragment 50; AltName: Full=Amyloid intracellular domain 50; Short=AICD-50; Short=AID(50); AltName: Full=Gamma-CTF(50); Contains: RecName: Full=C31; Flags: Precursor;\n",
      "Name=APP {ECO:0000312|HGNC:HGNC:620}; Synonyms=A4 {ECO:0000303|PubMed:2881207}, AD1 {ECO:0000312|HGNC:HGNC:620};\n",
      "Homo sapiens (Human).\n",
      "770\n",
      "MLPGLALLLLAAWTARALEVPTDGNAGLLAEPQIAMFCGRLNMHMNVQNGKWDSDPSGTKTCIDTKEGILQYCQEVYPELQITNVVEANQPVTIQNWCKRGRKQCKTHPHFVIPYRCLVGEFVSDALLVPDKCKFLHQERMDVCETHLHWHTVAKETCSEKSTNLHDYGMLLPCGIDKFRGVEFVCCPLAEESDNVDSADAEEDDSDVWWGGADTDYADGSEDKVVEVAEEEEVAEVEEEEADDDEDDEDGDEVEEEAEEPYEEATERTTSIATTTTTTTESVEEVVREVCSEQAETGPCRAMISRWYFDVTEGKCAPFFYGGCGGNRNNFDTEEYCMAVCGSAMSQSLLKTTQEPLARDPVKLPTTAASTPDAVDKYLETPGDENEHAHFQKAKERLEAKHRERMSQVMREWEEAERQAKNLPKADKKAVIQHFQEKVESLEQEAANERQQLVETHMARVEAMLNDRRRLALENYITALQAVPPRPRHVFNMLKKYVRAEQKDRQHTLKHFEHVRMVDPKKAAQIRSQVMTHLRVIYERMNQSLSLLYNVPAVAEEIQDEVDELLQKEQNYSDDVLANMISEPRISYGNDALMPSLTETKTTVELLPVNGEFSLDDLQPWHSFGADSVPANTENEVEPVDARPAADRGLTTRPGSGLTNIKTEEISEVKMDAEFRHDSGYEVHHQKLVFFAEDVGSNKGAIIGLMVGGVVIATVIVITLVMLKKKQYTSIHHGVVEVDAAVTPEERHLSKMQQNGYENPTYKFFEQMQN\n"
     ]
    }
   ],
   "source": [
    "accession = 'P05067'\n",
    "handle = ExPASy.get_sprot_raw(accession)\n",
    "record = SwissProt.read(handle)\n",
    "print(record.description)\n",
    "print(record.gene_name)\n",
    "print(record.organism)\n",
    "print(record.sequence_length)\n",
    "print(record.sequence)"
   ]
  }
 ],
 "metadata": {
  "interpreter": {
   "hash": "fff8f1baadadc5fbf51030dcb2db9f6c81b6acfa6e5b0bb822f1d9b4c699540c"
  },
  "kernelspec": {
   "display_name": "Python 3.8.8 ('base')",
   "language": "python",
   "name": "python3"
  },
  "language_info": {
   "codemirror_mode": {
    "name": "ipython",
    "version": 3
   },
   "file_extension": ".py",
   "mimetype": "text/x-python",
   "name": "python",
   "nbconvert_exporter": "python",
   "pygments_lexer": "ipython3",
   "version": "3.8.8"
  },
  "orig_nbformat": 4
 },
 "nbformat": 4,
 "nbformat_minor": 2
}
