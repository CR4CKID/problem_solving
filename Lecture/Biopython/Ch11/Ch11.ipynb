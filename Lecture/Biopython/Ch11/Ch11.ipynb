{
 "cells": [
  {
   "cell_type": "code",
   "execution_count": 13,
   "metadata": {},
   "outputs": [],
   "source": [
    "# data = input().split()\n",
    "# mass = dict()\n",
    "# for i in range(0,len(data),2):\n",
    "#     mass[data[i]] = float(data[i+1])\n",
    "# mass"
   ]
  },
  {
   "cell_type": "code",
   "execution_count": 14,
   "metadata": {},
   "outputs": [],
   "source": [
    "mass = {'A': 71.03711,\n",
    " 'C': 103.00919,\n",
    " 'D': 115.02694,\n",
    " 'E': 129.04259,\n",
    " 'F': 147.06841,\n",
    " 'G': 57.02146,\n",
    " 'H': 137.05891,\n",
    " 'I': 113.08406,\n",
    " 'K': 128.09496,\n",
    " 'L': 113.08406,\n",
    " 'M': 131.04049,\n",
    " 'N': 114.04293,\n",
    " 'P': 97.05276,\n",
    " 'Q': 128.05858,\n",
    " 'R': 156.10111,\n",
    " 'S': 87.03203,\n",
    " 'T': 101.04768,\n",
    " 'V': 99.06841,\n",
    " 'W': 186.07931,\n",
    " 'Y': 163.06333}"
   ]
  },
  {
   "cell_type": "code",
   "execution_count": 16,
   "metadata": {},
   "outputs": [
    {
     "data": {
      "text/plain": [
       "116477.07654000045"
      ]
     },
     "execution_count": 16,
     "metadata": {},
     "output_type": "execute_result"
    }
   ],
   "source": [
    "result = 0\n",
    "for aa in input():\n",
    "    result += mass[aa]\n",
    "    \n",
    "result"
   ]
  },
  {
   "cell_type": "code",
   "execution_count": 17,
   "metadata": {},
   "outputs": [
    {
     "data": {
      "text/plain": [
       "821.3919199999999"
      ]
     },
     "execution_count": 17,
     "metadata": {},
     "output_type": "execute_result"
    }
   ],
   "source": [
    "sum(map(lambda x: mass[x], input()))"
   ]
  }
 ],
 "metadata": {
  "interpreter": {
   "hash": "fff8f1baadadc5fbf51030dcb2db9f6c81b6acfa6e5b0bb822f1d9b4c699540c"
  },
  "kernelspec": {
   "display_name": "Python 3.8.8 ('base')",
   "language": "python",
   "name": "python3"
  },
  "language_info": {
   "codemirror_mode": {
    "name": "ipython",
    "version": 3
   },
   "file_extension": ".py",
   "mimetype": "text/x-python",
   "name": "python",
   "nbconvert_exporter": "python",
   "pygments_lexer": "ipython3",
   "version": "3.8.8"
  },
  "orig_nbformat": 4
 },
 "nbformat": 4,
 "nbformat_minor": 2
}
